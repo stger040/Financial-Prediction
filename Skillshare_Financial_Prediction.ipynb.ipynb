{
  "nbformat": 4,
  "nbformat_minor": 0,
  "metadata": {
    "colab": {
      "name": "Skillshare_Financial_Prediction.ipynb.ipynb",
      "provenance": [],
      "collapsed_sections": [],
      "toc_visible": true,
      "include_colab_link": true
    },
    "kernelspec": {
      "name": "python3",
      "display_name": "Python 3"
    },
    "language_info": {
      "name": "python"
    },
    "accelerator": "GPU",
    "widgets": {
      "application/vnd.jupyter.widget-state+json": {
        "df584a9f849c4f87a3f21d1a1dbb1fcc": {
          "model_module": "@jupyter-widgets/controls",
          "model_name": "HBoxModel",
          "model_module_version": "1.5.0",
          "state": {
            "_dom_classes": [],
            "_model_module": "@jupyter-widgets/controls",
            "_model_module_version": "1.5.0",
            "_model_name": "HBoxModel",
            "_view_count": null,
            "_view_module": "@jupyter-widgets/controls",
            "_view_module_version": "1.5.0",
            "_view_name": "HBoxView",
            "box_style": "",
            "children": [
              "IPY_MODEL_d403877ab57c4019bada00d13947f883",
              "IPY_MODEL_99c6d545d6e74a878fd574a4f27ff443",
              "IPY_MODEL_9df3c7ccf51940bd985c55dc19b8b22e"
            ],
            "layout": "IPY_MODEL_95bc980192fa4a9ba4d14035800bfe03"
          }
        },
        "d403877ab57c4019bada00d13947f883": {
          "model_module": "@jupyter-widgets/controls",
          "model_name": "HTMLModel",
          "model_module_version": "1.5.0",
          "state": {
            "_dom_classes": [],
            "_model_module": "@jupyter-widgets/controls",
            "_model_module_version": "1.5.0",
            "_model_name": "HTMLModel",
            "_view_count": null,
            "_view_module": "@jupyter-widgets/controls",
            "_view_module_version": "1.5.0",
            "_view_name": "HTMLView",
            "description": "",
            "description_tooltip": null,
            "layout": "IPY_MODEL_c1b7099e68aa4cbda22668eed2007b6e",
            "placeholder": "​",
            "style": "IPY_MODEL_705b34379bd344f3b1983a6a8319216f",
            "value": "100%"
          }
        },
        "99c6d545d6e74a878fd574a4f27ff443": {
          "model_module": "@jupyter-widgets/controls",
          "model_name": "FloatProgressModel",
          "model_module_version": "1.5.0",
          "state": {
            "_dom_classes": [],
            "_model_module": "@jupyter-widgets/controls",
            "_model_module_version": "1.5.0",
            "_model_name": "FloatProgressModel",
            "_view_count": null,
            "_view_module": "@jupyter-widgets/controls",
            "_view_module_version": "1.5.0",
            "_view_name": "ProgressView",
            "bar_style": "success",
            "description": "",
            "description_tooltip": null,
            "layout": "IPY_MODEL_f23b896fde664ec3ac53a4281ab95116",
            "max": 164,
            "min": 0,
            "orientation": "horizontal",
            "style": "IPY_MODEL_bee80789376446228cf2e27ff18da039",
            "value": 164
          }
        },
        "9df3c7ccf51940bd985c55dc19b8b22e": {
          "model_module": "@jupyter-widgets/controls",
          "model_name": "HTMLModel",
          "model_module_version": "1.5.0",
          "state": {
            "_dom_classes": [],
            "_model_module": "@jupyter-widgets/controls",
            "_model_module_version": "1.5.0",
            "_model_name": "HTMLModel",
            "_view_count": null,
            "_view_module": "@jupyter-widgets/controls",
            "_view_module_version": "1.5.0",
            "_view_name": "HTMLView",
            "description": "",
            "description_tooltip": null,
            "layout": "IPY_MODEL_9573a9f65a6946379b52ea9e45d2766a",
            "placeholder": "​",
            "style": "IPY_MODEL_eae808f224fc4d54910e0f5ed81fbee1",
            "value": " 164/164 [00:00&lt;00:00, 233.63it/s]"
          }
        },
        "95bc980192fa4a9ba4d14035800bfe03": {
          "model_module": "@jupyter-widgets/base",
          "model_name": "LayoutModel",
          "model_module_version": "1.2.0",
          "state": {
            "_model_module": "@jupyter-widgets/base",
            "_model_module_version": "1.2.0",
            "_model_name": "LayoutModel",
            "_view_count": null,
            "_view_module": "@jupyter-widgets/base",
            "_view_module_version": "1.2.0",
            "_view_name": "LayoutView",
            "align_content": null,
            "align_items": null,
            "align_self": null,
            "border": null,
            "bottom": null,
            "display": null,
            "flex": null,
            "flex_flow": null,
            "grid_area": null,
            "grid_auto_columns": null,
            "grid_auto_flow": null,
            "grid_auto_rows": null,
            "grid_column": null,
            "grid_gap": null,
            "grid_row": null,
            "grid_template_areas": null,
            "grid_template_columns": null,
            "grid_template_rows": null,
            "height": null,
            "justify_content": null,
            "justify_items": null,
            "left": null,
            "margin": null,
            "max_height": null,
            "max_width": null,
            "min_height": null,
            "min_width": null,
            "object_fit": null,
            "object_position": null,
            "order": null,
            "overflow": null,
            "overflow_x": null,
            "overflow_y": null,
            "padding": null,
            "right": null,
            "top": null,
            "visibility": null,
            "width": null
          }
        },
        "c1b7099e68aa4cbda22668eed2007b6e": {
          "model_module": "@jupyter-widgets/base",
          "model_name": "LayoutModel",
          "model_module_version": "1.2.0",
          "state": {
            "_model_module": "@jupyter-widgets/base",
            "_model_module_version": "1.2.0",
            "_model_name": "LayoutModel",
            "_view_count": null,
            "_view_module": "@jupyter-widgets/base",
            "_view_module_version": "1.2.0",
            "_view_name": "LayoutView",
            "align_content": null,
            "align_items": null,
            "align_self": null,
            "border": null,
            "bottom": null,
            "display": null,
            "flex": null,
            "flex_flow": null,
            "grid_area": null,
            "grid_auto_columns": null,
            "grid_auto_flow": null,
            "grid_auto_rows": null,
            "grid_column": null,
            "grid_gap": null,
            "grid_row": null,
            "grid_template_areas": null,
            "grid_template_columns": null,
            "grid_template_rows": null,
            "height": null,
            "justify_content": null,
            "justify_items": null,
            "left": null,
            "margin": null,
            "max_height": null,
            "max_width": null,
            "min_height": null,
            "min_width": null,
            "object_fit": null,
            "object_position": null,
            "order": null,
            "overflow": null,
            "overflow_x": null,
            "overflow_y": null,
            "padding": null,
            "right": null,
            "top": null,
            "visibility": null,
            "width": null
          }
        },
        "705b34379bd344f3b1983a6a8319216f": {
          "model_module": "@jupyter-widgets/controls",
          "model_name": "DescriptionStyleModel",
          "model_module_version": "1.5.0",
          "state": {
            "_model_module": "@jupyter-widgets/controls",
            "_model_module_version": "1.5.0",
            "_model_name": "DescriptionStyleModel",
            "_view_count": null,
            "_view_module": "@jupyter-widgets/base",
            "_view_module_version": "1.2.0",
            "_view_name": "StyleView",
            "description_width": ""
          }
        },
        "f23b896fde664ec3ac53a4281ab95116": {
          "model_module": "@jupyter-widgets/base",
          "model_name": "LayoutModel",
          "model_module_version": "1.2.0",
          "state": {
            "_model_module": "@jupyter-widgets/base",
            "_model_module_version": "1.2.0",
            "_model_name": "LayoutModel",
            "_view_count": null,
            "_view_module": "@jupyter-widgets/base",
            "_view_module_version": "1.2.0",
            "_view_name": "LayoutView",
            "align_content": null,
            "align_items": null,
            "align_self": null,
            "border": null,
            "bottom": null,
            "display": null,
            "flex": null,
            "flex_flow": null,
            "grid_area": null,
            "grid_auto_columns": null,
            "grid_auto_flow": null,
            "grid_auto_rows": null,
            "grid_column": null,
            "grid_gap": null,
            "grid_row": null,
            "grid_template_areas": null,
            "grid_template_columns": null,
            "grid_template_rows": null,
            "height": null,
            "justify_content": null,
            "justify_items": null,
            "left": null,
            "margin": null,
            "max_height": null,
            "max_width": null,
            "min_height": null,
            "min_width": null,
            "object_fit": null,
            "object_position": null,
            "order": null,
            "overflow": null,
            "overflow_x": null,
            "overflow_y": null,
            "padding": null,
            "right": null,
            "top": null,
            "visibility": null,
            "width": null
          }
        },
        "bee80789376446228cf2e27ff18da039": {
          "model_module": "@jupyter-widgets/controls",
          "model_name": "ProgressStyleModel",
          "model_module_version": "1.5.0",
          "state": {
            "_model_module": "@jupyter-widgets/controls",
            "_model_module_version": "1.5.0",
            "_model_name": "ProgressStyleModel",
            "_view_count": null,
            "_view_module": "@jupyter-widgets/base",
            "_view_module_version": "1.2.0",
            "_view_name": "StyleView",
            "bar_color": null,
            "description_width": ""
          }
        },
        "9573a9f65a6946379b52ea9e45d2766a": {
          "model_module": "@jupyter-widgets/base",
          "model_name": "LayoutModel",
          "model_module_version": "1.2.0",
          "state": {
            "_model_module": "@jupyter-widgets/base",
            "_model_module_version": "1.2.0",
            "_model_name": "LayoutModel",
            "_view_count": null,
            "_view_module": "@jupyter-widgets/base",
            "_view_module_version": "1.2.0",
            "_view_name": "LayoutView",
            "align_content": null,
            "align_items": null,
            "align_self": null,
            "border": null,
            "bottom": null,
            "display": null,
            "flex": null,
            "flex_flow": null,
            "grid_area": null,
            "grid_auto_columns": null,
            "grid_auto_flow": null,
            "grid_auto_rows": null,
            "grid_column": null,
            "grid_gap": null,
            "grid_row": null,
            "grid_template_areas": null,
            "grid_template_columns": null,
            "grid_template_rows": null,
            "height": null,
            "justify_content": null,
            "justify_items": null,
            "left": null,
            "margin": null,
            "max_height": null,
            "max_width": null,
            "min_height": null,
            "min_width": null,
            "object_fit": null,
            "object_position": null,
            "order": null,
            "overflow": null,
            "overflow_x": null,
            "overflow_y": null,
            "padding": null,
            "right": null,
            "top": null,
            "visibility": null,
            "width": null
          }
        },
        "eae808f224fc4d54910e0f5ed81fbee1": {
          "model_module": "@jupyter-widgets/controls",
          "model_name": "DescriptionStyleModel",
          "model_module_version": "1.5.0",
          "state": {
            "_model_module": "@jupyter-widgets/controls",
            "_model_module_version": "1.5.0",
            "_model_name": "DescriptionStyleModel",
            "_view_count": null,
            "_view_module": "@jupyter-widgets/base",
            "_view_module_version": "1.2.0",
            "_view_name": "StyleView",
            "description_width": ""
          }
        },
        "4adfc05a32a14c7bad9f33303ff4f466": {
          "model_module": "@jupyter-widgets/controls",
          "model_name": "HBoxModel",
          "model_module_version": "1.5.0",
          "state": {
            "_dom_classes": [],
            "_model_module": "@jupyter-widgets/controls",
            "_model_module_version": "1.5.0",
            "_model_name": "HBoxModel",
            "_view_count": null,
            "_view_module": "@jupyter-widgets/controls",
            "_view_module_version": "1.5.0",
            "_view_name": "HBoxView",
            "box_style": "",
            "children": [
              "IPY_MODEL_9b3e9e3d55934f1984738f5b4179d82d",
              "IPY_MODEL_836856a75d83481d9fe8e5deb1d9ab03",
              "IPY_MODEL_7095242e9fff48f2838aa4e122c0264b"
            ],
            "layout": "IPY_MODEL_ae70cbdc9ee44792a034d250ccac61f0"
          }
        },
        "9b3e9e3d55934f1984738f5b4179d82d": {
          "model_module": "@jupyter-widgets/controls",
          "model_name": "HTMLModel",
          "model_module_version": "1.5.0",
          "state": {
            "_dom_classes": [],
            "_model_module": "@jupyter-widgets/controls",
            "_model_module_version": "1.5.0",
            "_model_name": "HTMLModel",
            "_view_count": null,
            "_view_module": "@jupyter-widgets/controls",
            "_view_module_version": "1.5.0",
            "_view_name": "HTMLView",
            "description": "",
            "description_tooltip": null,
            "layout": "IPY_MODEL_27fc2ab3b32d4ebfb432f7e36f34480a",
            "placeholder": "​",
            "style": "IPY_MODEL_a17725cb2d57460bb6047ad7ff5bbc9f",
            "value": "100%"
          }
        },
        "836856a75d83481d9fe8e5deb1d9ab03": {
          "model_module": "@jupyter-widgets/controls",
          "model_name": "FloatProgressModel",
          "model_module_version": "1.5.0",
          "state": {
            "_dom_classes": [],
            "_model_module": "@jupyter-widgets/controls",
            "_model_module_version": "1.5.0",
            "_model_name": "FloatProgressModel",
            "_view_count": null,
            "_view_module": "@jupyter-widgets/controls",
            "_view_module_version": "1.5.0",
            "_view_name": "ProgressView",
            "bar_style": "success",
            "description": "",
            "description_tooltip": null,
            "layout": "IPY_MODEL_86a8f9685fee43f7b450227181423e24",
            "max": 164,
            "min": 0,
            "orientation": "horizontal",
            "style": "IPY_MODEL_54aeefcecd494901976787925c836bd4",
            "value": 164
          }
        },
        "7095242e9fff48f2838aa4e122c0264b": {
          "model_module": "@jupyter-widgets/controls",
          "model_name": "HTMLModel",
          "model_module_version": "1.5.0",
          "state": {
            "_dom_classes": [],
            "_model_module": "@jupyter-widgets/controls",
            "_model_module_version": "1.5.0",
            "_model_name": "HTMLModel",
            "_view_count": null,
            "_view_module": "@jupyter-widgets/controls",
            "_view_module_version": "1.5.0",
            "_view_name": "HTMLView",
            "description": "",
            "description_tooltip": null,
            "layout": "IPY_MODEL_b126addfbf944609bf1dc7c1fded08ed",
            "placeholder": "​",
            "style": "IPY_MODEL_b4a1a35beecc4ad9bf8ac5350901f6a3",
            "value": " 164/164 [00:00&lt;00:00, 240.95it/s]"
          }
        },
        "ae70cbdc9ee44792a034d250ccac61f0": {
          "model_module": "@jupyter-widgets/base",
          "model_name": "LayoutModel",
          "model_module_version": "1.2.0",
          "state": {
            "_model_module": "@jupyter-widgets/base",
            "_model_module_version": "1.2.0",
            "_model_name": "LayoutModel",
            "_view_count": null,
            "_view_module": "@jupyter-widgets/base",
            "_view_module_version": "1.2.0",
            "_view_name": "LayoutView",
            "align_content": null,
            "align_items": null,
            "align_self": null,
            "border": null,
            "bottom": null,
            "display": null,
            "flex": null,
            "flex_flow": null,
            "grid_area": null,
            "grid_auto_columns": null,
            "grid_auto_flow": null,
            "grid_auto_rows": null,
            "grid_column": null,
            "grid_gap": null,
            "grid_row": null,
            "grid_template_areas": null,
            "grid_template_columns": null,
            "grid_template_rows": null,
            "height": null,
            "justify_content": null,
            "justify_items": null,
            "left": null,
            "margin": null,
            "max_height": null,
            "max_width": null,
            "min_height": null,
            "min_width": null,
            "object_fit": null,
            "object_position": null,
            "order": null,
            "overflow": null,
            "overflow_x": null,
            "overflow_y": null,
            "padding": null,
            "right": null,
            "top": null,
            "visibility": null,
            "width": null
          }
        },
        "27fc2ab3b32d4ebfb432f7e36f34480a": {
          "model_module": "@jupyter-widgets/base",
          "model_name": "LayoutModel",
          "model_module_version": "1.2.0",
          "state": {
            "_model_module": "@jupyter-widgets/base",
            "_model_module_version": "1.2.0",
            "_model_name": "LayoutModel",
            "_view_count": null,
            "_view_module": "@jupyter-widgets/base",
            "_view_module_version": "1.2.0",
            "_view_name": "LayoutView",
            "align_content": null,
            "align_items": null,
            "align_self": null,
            "border": null,
            "bottom": null,
            "display": null,
            "flex": null,
            "flex_flow": null,
            "grid_area": null,
            "grid_auto_columns": null,
            "grid_auto_flow": null,
            "grid_auto_rows": null,
            "grid_column": null,
            "grid_gap": null,
            "grid_row": null,
            "grid_template_areas": null,
            "grid_template_columns": null,
            "grid_template_rows": null,
            "height": null,
            "justify_content": null,
            "justify_items": null,
            "left": null,
            "margin": null,
            "max_height": null,
            "max_width": null,
            "min_height": null,
            "min_width": null,
            "object_fit": null,
            "object_position": null,
            "order": null,
            "overflow": null,
            "overflow_x": null,
            "overflow_y": null,
            "padding": null,
            "right": null,
            "top": null,
            "visibility": null,
            "width": null
          }
        },
        "a17725cb2d57460bb6047ad7ff5bbc9f": {
          "model_module": "@jupyter-widgets/controls",
          "model_name": "DescriptionStyleModel",
          "model_module_version": "1.5.0",
          "state": {
            "_model_module": "@jupyter-widgets/controls",
            "_model_module_version": "1.5.0",
            "_model_name": "DescriptionStyleModel",
            "_view_count": null,
            "_view_module": "@jupyter-widgets/base",
            "_view_module_version": "1.2.0",
            "_view_name": "StyleView",
            "description_width": ""
          }
        },
        "86a8f9685fee43f7b450227181423e24": {
          "model_module": "@jupyter-widgets/base",
          "model_name": "LayoutModel",
          "model_module_version": "1.2.0",
          "state": {
            "_model_module": "@jupyter-widgets/base",
            "_model_module_version": "1.2.0",
            "_model_name": "LayoutModel",
            "_view_count": null,
            "_view_module": "@jupyter-widgets/base",
            "_view_module_version": "1.2.0",
            "_view_name": "LayoutView",
            "align_content": null,
            "align_items": null,
            "align_self": null,
            "border": null,
            "bottom": null,
            "display": null,
            "flex": null,
            "flex_flow": null,
            "grid_area": null,
            "grid_auto_columns": null,
            "grid_auto_flow": null,
            "grid_auto_rows": null,
            "grid_column": null,
            "grid_gap": null,
            "grid_row": null,
            "grid_template_areas": null,
            "grid_template_columns": null,
            "grid_template_rows": null,
            "height": null,
            "justify_content": null,
            "justify_items": null,
            "left": null,
            "margin": null,
            "max_height": null,
            "max_width": null,
            "min_height": null,
            "min_width": null,
            "object_fit": null,
            "object_position": null,
            "order": null,
            "overflow": null,
            "overflow_x": null,
            "overflow_y": null,
            "padding": null,
            "right": null,
            "top": null,
            "visibility": null,
            "width": null
          }
        },
        "54aeefcecd494901976787925c836bd4": {
          "model_module": "@jupyter-widgets/controls",
          "model_name": "ProgressStyleModel",
          "model_module_version": "1.5.0",
          "state": {
            "_model_module": "@jupyter-widgets/controls",
            "_model_module_version": "1.5.0",
            "_model_name": "ProgressStyleModel",
            "_view_count": null,
            "_view_module": "@jupyter-widgets/base",
            "_view_module_version": "1.2.0",
            "_view_name": "StyleView",
            "bar_color": null,
            "description_width": ""
          }
        },
        "b126addfbf944609bf1dc7c1fded08ed": {
          "model_module": "@jupyter-widgets/base",
          "model_name": "LayoutModel",
          "model_module_version": "1.2.0",
          "state": {
            "_model_module": "@jupyter-widgets/base",
            "_model_module_version": "1.2.0",
            "_model_name": "LayoutModel",
            "_view_count": null,
            "_view_module": "@jupyter-widgets/base",
            "_view_module_version": "1.2.0",
            "_view_name": "LayoutView",
            "align_content": null,
            "align_items": null,
            "align_self": null,
            "border": null,
            "bottom": null,
            "display": null,
            "flex": null,
            "flex_flow": null,
            "grid_area": null,
            "grid_auto_columns": null,
            "grid_auto_flow": null,
            "grid_auto_rows": null,
            "grid_column": null,
            "grid_gap": null,
            "grid_row": null,
            "grid_template_areas": null,
            "grid_template_columns": null,
            "grid_template_rows": null,
            "height": null,
            "justify_content": null,
            "justify_items": null,
            "left": null,
            "margin": null,
            "max_height": null,
            "max_width": null,
            "min_height": null,
            "min_width": null,
            "object_fit": null,
            "object_position": null,
            "order": null,
            "overflow": null,
            "overflow_x": null,
            "overflow_y": null,
            "padding": null,
            "right": null,
            "top": null,
            "visibility": null,
            "width": null
          }
        },
        "b4a1a35beecc4ad9bf8ac5350901f6a3": {
          "model_module": "@jupyter-widgets/controls",
          "model_name": "DescriptionStyleModel",
          "model_module_version": "1.5.0",
          "state": {
            "_model_module": "@jupyter-widgets/controls",
            "_model_module_version": "1.5.0",
            "_model_name": "DescriptionStyleModel",
            "_view_count": null,
            "_view_module": "@jupyter-widgets/base",
            "_view_module_version": "1.2.0",
            "_view_name": "StyleView",
            "description_width": ""
          }
        }
      }
    },
    "gpuClass": "standard"
  },
  "cells": [
    {
      "cell_type": "markdown",
      "metadata": {
        "id": "view-in-github",
        "colab_type": "text"
      },
      "source": [
        "<a href=\"https://colab.research.google.com/github/stger040/Financial-Prediction/blob/main/Skillshare_Financial_Prediction.ipynb.ipynb\" target=\"_parent\"><img src=\"https://colab.research.google.com/assets/colab-badge.svg\" alt=\"Open In Colab\"/></a>"
      ]
    },
    {
      "cell_type": "markdown",
      "source": [
        "# Retrieving the data\n",
        "\n",
        "Download it [manually](https://www.kaggle.com/mczielinski/bitcoin-historical-data) or retrieve the data with the API following the [documentation](https://www.kaggle.com/docs/api). The command would be:\n",
        "\n",
        "`kaggle datasets download -d mczielinski/bitcoin-historical-data`\n",
        "\n",
        "We have prepared some data that is easier to work with. You can retrieve it on [Github](https://github.com/JesperDramsch/skillshare-financial-prediction/raw/main/data/btc_hourly.csv).\n",
        "\n",
        "\n"
      ],
      "metadata": {
        "id": "zeJszZF3q5yL"
      }
    },
    {
      "cell_type": "markdown",
      "source": [
        "# Data Loading"
      ],
      "metadata": {
        "id": "9fS2RZCpsf71"
      }
    },
    {
      "cell_type": "code",
      "source": [
        "import pandas as pd"
      ],
      "metadata": {
        "id": "x3naaoG3sZ1y"
      },
      "execution_count": 78,
      "outputs": []
    },
    {
      "cell_type": "code",
      "source": [
        "btc = pd.read_csv('https://github.com/stger040/financial-prediction/raw/main/data/btc_daily.csv')\n",
        "btc['Timestamp'] = pd.to_datetime(btc.Timestamp)\n",
        "btc.set_index('Timestamp', inplace=True)\n",
        "btc.head()\n"
      ],
      "metadata": {
        "colab": {
          "base_uri": "https://localhost:8080/",
          "height": 237
        },
        "id": "bwOs0xOAsvTJ",
        "outputId": "19df048c-d85d-4b3c-cd97-f3dd8abb9ced"
      },
      "execution_count": 76,
      "outputs": [
        {
          "output_type": "execute_result",
          "data": {
            "text/plain": [
              "                Open      High       Low     Close  Volume_(BTC)  \\\n",
              "Timestamp                                                          \n",
              "2011-12-31  4.465000  4.482500  4.465000  4.482500     23.829470   \n",
              "2012-01-01  4.806667  4.806667  4.806667  4.806667      7.200667   \n",
              "2012-01-02  5.000000  5.000000  5.000000  5.000000     19.048000   \n",
              "2012-01-03  5.252500  5.252500  5.252500  5.252500     11.004660   \n",
              "2012-01-04  5.200000  5.223333  5.200000  5.223333     11.914807   \n",
              "\n",
              "            Volume_(Currency)  Weighted_Price  \n",
              "Timestamp                                      \n",
              "2011-12-31         106.330084        4.471603  \n",
              "2012-01-01          35.259720        4.806667  \n",
              "2012-01-02          95.240000        5.000000  \n",
              "2012-01-03          58.100651        5.252500  \n",
              "2012-01-04          63.119577        5.208159  "
            ],
            "text/html": [
              "\n",
              "  <div id=\"df-9c6b5842-ccd7-4e5a-9646-04225e2a61de\">\n",
              "    <div class=\"colab-df-container\">\n",
              "      <div>\n",
              "<style scoped>\n",
              "    .dataframe tbody tr th:only-of-type {\n",
              "        vertical-align: middle;\n",
              "    }\n",
              "\n",
              "    .dataframe tbody tr th {\n",
              "        vertical-align: top;\n",
              "    }\n",
              "\n",
              "    .dataframe thead th {\n",
              "        text-align: right;\n",
              "    }\n",
              "</style>\n",
              "<table border=\"1\" class=\"dataframe\">\n",
              "  <thead>\n",
              "    <tr style=\"text-align: right;\">\n",
              "      <th></th>\n",
              "      <th>Open</th>\n",
              "      <th>High</th>\n",
              "      <th>Low</th>\n",
              "      <th>Close</th>\n",
              "      <th>Volume_(BTC)</th>\n",
              "      <th>Volume_(Currency)</th>\n",
              "      <th>Weighted_Price</th>\n",
              "    </tr>\n",
              "    <tr>\n",
              "      <th>Timestamp</th>\n",
              "      <th></th>\n",
              "      <th></th>\n",
              "      <th></th>\n",
              "      <th></th>\n",
              "      <th></th>\n",
              "      <th></th>\n",
              "      <th></th>\n",
              "    </tr>\n",
              "  </thead>\n",
              "  <tbody>\n",
              "    <tr>\n",
              "      <th>2011-12-31</th>\n",
              "      <td>4.465000</td>\n",
              "      <td>4.482500</td>\n",
              "      <td>4.465000</td>\n",
              "      <td>4.482500</td>\n",
              "      <td>23.829470</td>\n",
              "      <td>106.330084</td>\n",
              "      <td>4.471603</td>\n",
              "    </tr>\n",
              "    <tr>\n",
              "      <th>2012-01-01</th>\n",
              "      <td>4.806667</td>\n",
              "      <td>4.806667</td>\n",
              "      <td>4.806667</td>\n",
              "      <td>4.806667</td>\n",
              "      <td>7.200667</td>\n",
              "      <td>35.259720</td>\n",
              "      <td>4.806667</td>\n",
              "    </tr>\n",
              "    <tr>\n",
              "      <th>2012-01-02</th>\n",
              "      <td>5.000000</td>\n",
              "      <td>5.000000</td>\n",
              "      <td>5.000000</td>\n",
              "      <td>5.000000</td>\n",
              "      <td>19.048000</td>\n",
              "      <td>95.240000</td>\n",
              "      <td>5.000000</td>\n",
              "    </tr>\n",
              "    <tr>\n",
              "      <th>2012-01-03</th>\n",
              "      <td>5.252500</td>\n",
              "      <td>5.252500</td>\n",
              "      <td>5.252500</td>\n",
              "      <td>5.252500</td>\n",
              "      <td>11.004660</td>\n",
              "      <td>58.100651</td>\n",
              "      <td>5.252500</td>\n",
              "    </tr>\n",
              "    <tr>\n",
              "      <th>2012-01-04</th>\n",
              "      <td>5.200000</td>\n",
              "      <td>5.223333</td>\n",
              "      <td>5.200000</td>\n",
              "      <td>5.223333</td>\n",
              "      <td>11.914807</td>\n",
              "      <td>63.119577</td>\n",
              "      <td>5.208159</td>\n",
              "    </tr>\n",
              "  </tbody>\n",
              "</table>\n",
              "</div>\n",
              "      <button class=\"colab-df-convert\" onclick=\"convertToInteractive('df-9c6b5842-ccd7-4e5a-9646-04225e2a61de')\"\n",
              "              title=\"Convert this dataframe to an interactive table.\"\n",
              "              style=\"display:none;\">\n",
              "        \n",
              "  <svg xmlns=\"http://www.w3.org/2000/svg\" height=\"24px\"viewBox=\"0 0 24 24\"\n",
              "       width=\"24px\">\n",
              "    <path d=\"M0 0h24v24H0V0z\" fill=\"none\"/>\n",
              "    <path d=\"M18.56 5.44l.94 2.06.94-2.06 2.06-.94-2.06-.94-.94-2.06-.94 2.06-2.06.94zm-11 1L8.5 8.5l.94-2.06 2.06-.94-2.06-.94L8.5 2.5l-.94 2.06-2.06.94zm10 10l.94 2.06.94-2.06 2.06-.94-2.06-.94-.94-2.06-.94 2.06-2.06.94z\"/><path d=\"M17.41 7.96l-1.37-1.37c-.4-.4-.92-.59-1.43-.59-.52 0-1.04.2-1.43.59L10.3 9.45l-7.72 7.72c-.78.78-.78 2.05 0 2.83L4 21.41c.39.39.9.59 1.41.59.51 0 1.02-.2 1.41-.59l7.78-7.78 2.81-2.81c.8-.78.8-2.07 0-2.86zM5.41 20L4 18.59l7.72-7.72 1.47 1.35L5.41 20z\"/>\n",
              "  </svg>\n",
              "      </button>\n",
              "      \n",
              "  <style>\n",
              "    .colab-df-container {\n",
              "      display:flex;\n",
              "      flex-wrap:wrap;\n",
              "      gap: 12px;\n",
              "    }\n",
              "\n",
              "    .colab-df-convert {\n",
              "      background-color: #E8F0FE;\n",
              "      border: none;\n",
              "      border-radius: 50%;\n",
              "      cursor: pointer;\n",
              "      display: none;\n",
              "      fill: #1967D2;\n",
              "      height: 32px;\n",
              "      padding: 0 0 0 0;\n",
              "      width: 32px;\n",
              "    }\n",
              "\n",
              "    .colab-df-convert:hover {\n",
              "      background-color: #E2EBFA;\n",
              "      box-shadow: 0px 1px 2px rgba(60, 64, 67, 0.3), 0px 1px 3px 1px rgba(60, 64, 67, 0.15);\n",
              "      fill: #174EA6;\n",
              "    }\n",
              "\n",
              "    [theme=dark] .colab-df-convert {\n",
              "      background-color: #3B4455;\n",
              "      fill: #D2E3FC;\n",
              "    }\n",
              "\n",
              "    [theme=dark] .colab-df-convert:hover {\n",
              "      background-color: #434B5C;\n",
              "      box-shadow: 0px 1px 3px 1px rgba(0, 0, 0, 0.15);\n",
              "      filter: drop-shadow(0px 1px 2px rgba(0, 0, 0, 0.3));\n",
              "      fill: #FFFFFF;\n",
              "    }\n",
              "  </style>\n",
              "\n",
              "      <script>\n",
              "        const buttonEl =\n",
              "          document.querySelector('#df-9c6b5842-ccd7-4e5a-9646-04225e2a61de button.colab-df-convert');\n",
              "        buttonEl.style.display =\n",
              "          google.colab.kernel.accessAllowed ? 'block' : 'none';\n",
              "\n",
              "        async function convertToInteractive(key) {\n",
              "          const element = document.querySelector('#df-9c6b5842-ccd7-4e5a-9646-04225e2a61de');\n",
              "          const dataTable =\n",
              "            await google.colab.kernel.invokeFunction('convertToInteractive',\n",
              "                                                     [key], {});\n",
              "          if (!dataTable) return;\n",
              "\n",
              "          const docLinkHtml = 'Like what you see? Visit the ' +\n",
              "            '<a target=\"_blank\" href=https://colab.research.google.com/notebooks/data_table.ipynb>data table notebook</a>'\n",
              "            + ' to learn more about interactive tables.';\n",
              "          element.innerHTML = '';\n",
              "          dataTable['output_type'] = 'display_data';\n",
              "          await google.colab.output.renderOutput(dataTable, element);\n",
              "          const docLink = document.createElement('div');\n",
              "          docLink.innerHTML = docLinkHtml;\n",
              "          element.appendChild(docLink);\n",
              "        }\n",
              "      </script>\n",
              "    </div>\n",
              "  </div>\n",
              "  "
            ]
          },
          "metadata": {},
          "execution_count": 76
        }
      ]
    },
    {
      "cell_type": "markdown",
      "source": [
        "# Describe Data"
      ],
      "metadata": {
        "id": "9NEMBV2ptDW8"
      }
    },
    {
      "cell_type": "code",
      "source": [
        "btc.head()"
      ],
      "metadata": {
        "colab": {
          "base_uri": "https://localhost:8080/",
          "height": 237
        },
        "id": "AaZWuDNIs5_w",
        "outputId": "1ab3ea8a-1e9d-4f78-8a60-2f31e5e25079"
      },
      "execution_count": 15,
      "outputs": [
        {
          "output_type": "execute_result",
          "data": {
            "text/plain": [
              "                     Open  High   Low  Close  Volume_(BTC)  Volume_(Currency)  \\\n",
              "Timestamp                                                                       \n",
              "2011-12-31 07:00:00  4.39  4.39  4.39   4.39      0.455581                2.0   \n",
              "2011-12-31 08:00:00   NaN   NaN   NaN    NaN           NaN                NaN   \n",
              "2011-12-31 09:00:00   NaN   NaN   NaN    NaN           NaN                NaN   \n",
              "2011-12-31 10:00:00   NaN   NaN   NaN    NaN           NaN                NaN   \n",
              "2011-12-31 11:00:00   NaN   NaN   NaN    NaN           NaN                NaN   \n",
              "\n",
              "                     Weighted_Price  \n",
              "Timestamp                            \n",
              "2011-12-31 07:00:00            4.39  \n",
              "2011-12-31 08:00:00             NaN  \n",
              "2011-12-31 09:00:00             NaN  \n",
              "2011-12-31 10:00:00             NaN  \n",
              "2011-12-31 11:00:00             NaN  "
            ],
            "text/html": [
              "\n",
              "  <div id=\"df-eb1a4921-e03a-4cae-af3a-1393b1d10a02\">\n",
              "    <div class=\"colab-df-container\">\n",
              "      <div>\n",
              "<style scoped>\n",
              "    .dataframe tbody tr th:only-of-type {\n",
              "        vertical-align: middle;\n",
              "    }\n",
              "\n",
              "    .dataframe tbody tr th {\n",
              "        vertical-align: top;\n",
              "    }\n",
              "\n",
              "    .dataframe thead th {\n",
              "        text-align: right;\n",
              "    }\n",
              "</style>\n",
              "<table border=\"1\" class=\"dataframe\">\n",
              "  <thead>\n",
              "    <tr style=\"text-align: right;\">\n",
              "      <th></th>\n",
              "      <th>Open</th>\n",
              "      <th>High</th>\n",
              "      <th>Low</th>\n",
              "      <th>Close</th>\n",
              "      <th>Volume_(BTC)</th>\n",
              "      <th>Volume_(Currency)</th>\n",
              "      <th>Weighted_Price</th>\n",
              "    </tr>\n",
              "    <tr>\n",
              "      <th>Timestamp</th>\n",
              "      <th></th>\n",
              "      <th></th>\n",
              "      <th></th>\n",
              "      <th></th>\n",
              "      <th></th>\n",
              "      <th></th>\n",
              "      <th></th>\n",
              "    </tr>\n",
              "  </thead>\n",
              "  <tbody>\n",
              "    <tr>\n",
              "      <th>2011-12-31 07:00:00</th>\n",
              "      <td>4.39</td>\n",
              "      <td>4.39</td>\n",
              "      <td>4.39</td>\n",
              "      <td>4.39</td>\n",
              "      <td>0.455581</td>\n",
              "      <td>2.0</td>\n",
              "      <td>4.39</td>\n",
              "    </tr>\n",
              "    <tr>\n",
              "      <th>2011-12-31 08:00:00</th>\n",
              "      <td>NaN</td>\n",
              "      <td>NaN</td>\n",
              "      <td>NaN</td>\n",
              "      <td>NaN</td>\n",
              "      <td>NaN</td>\n",
              "      <td>NaN</td>\n",
              "      <td>NaN</td>\n",
              "    </tr>\n",
              "    <tr>\n",
              "      <th>2011-12-31 09:00:00</th>\n",
              "      <td>NaN</td>\n",
              "      <td>NaN</td>\n",
              "      <td>NaN</td>\n",
              "      <td>NaN</td>\n",
              "      <td>NaN</td>\n",
              "      <td>NaN</td>\n",
              "      <td>NaN</td>\n",
              "    </tr>\n",
              "    <tr>\n",
              "      <th>2011-12-31 10:00:00</th>\n",
              "      <td>NaN</td>\n",
              "      <td>NaN</td>\n",
              "      <td>NaN</td>\n",
              "      <td>NaN</td>\n",
              "      <td>NaN</td>\n",
              "      <td>NaN</td>\n",
              "      <td>NaN</td>\n",
              "    </tr>\n",
              "    <tr>\n",
              "      <th>2011-12-31 11:00:00</th>\n",
              "      <td>NaN</td>\n",
              "      <td>NaN</td>\n",
              "      <td>NaN</td>\n",
              "      <td>NaN</td>\n",
              "      <td>NaN</td>\n",
              "      <td>NaN</td>\n",
              "      <td>NaN</td>\n",
              "    </tr>\n",
              "  </tbody>\n",
              "</table>\n",
              "</div>\n",
              "      <button class=\"colab-df-convert\" onclick=\"convertToInteractive('df-eb1a4921-e03a-4cae-af3a-1393b1d10a02')\"\n",
              "              title=\"Convert this dataframe to an interactive table.\"\n",
              "              style=\"display:none;\">\n",
              "        \n",
              "  <svg xmlns=\"http://www.w3.org/2000/svg\" height=\"24px\"viewBox=\"0 0 24 24\"\n",
              "       width=\"24px\">\n",
              "    <path d=\"M0 0h24v24H0V0z\" fill=\"none\"/>\n",
              "    <path d=\"M18.56 5.44l.94 2.06.94-2.06 2.06-.94-2.06-.94-.94-2.06-.94 2.06-2.06.94zm-11 1L8.5 8.5l.94-2.06 2.06-.94-2.06-.94L8.5 2.5l-.94 2.06-2.06.94zm10 10l.94 2.06.94-2.06 2.06-.94-2.06-.94-.94-2.06-.94 2.06-2.06.94z\"/><path d=\"M17.41 7.96l-1.37-1.37c-.4-.4-.92-.59-1.43-.59-.52 0-1.04.2-1.43.59L10.3 9.45l-7.72 7.72c-.78.78-.78 2.05 0 2.83L4 21.41c.39.39.9.59 1.41.59.51 0 1.02-.2 1.41-.59l7.78-7.78 2.81-2.81c.8-.78.8-2.07 0-2.86zM5.41 20L4 18.59l7.72-7.72 1.47 1.35L5.41 20z\"/>\n",
              "  </svg>\n",
              "      </button>\n",
              "      \n",
              "  <style>\n",
              "    .colab-df-container {\n",
              "      display:flex;\n",
              "      flex-wrap:wrap;\n",
              "      gap: 12px;\n",
              "    }\n",
              "\n",
              "    .colab-df-convert {\n",
              "      background-color: #E8F0FE;\n",
              "      border: none;\n",
              "      border-radius: 50%;\n",
              "      cursor: pointer;\n",
              "      display: none;\n",
              "      fill: #1967D2;\n",
              "      height: 32px;\n",
              "      padding: 0 0 0 0;\n",
              "      width: 32px;\n",
              "    }\n",
              "\n",
              "    .colab-df-convert:hover {\n",
              "      background-color: #E2EBFA;\n",
              "      box-shadow: 0px 1px 2px rgba(60, 64, 67, 0.3), 0px 1px 3px 1px rgba(60, 64, 67, 0.15);\n",
              "      fill: #174EA6;\n",
              "    }\n",
              "\n",
              "    [theme=dark] .colab-df-convert {\n",
              "      background-color: #3B4455;\n",
              "      fill: #D2E3FC;\n",
              "    }\n",
              "\n",
              "    [theme=dark] .colab-df-convert:hover {\n",
              "      background-color: #434B5C;\n",
              "      box-shadow: 0px 1px 3px 1px rgba(0, 0, 0, 0.15);\n",
              "      filter: drop-shadow(0px 1px 2px rgba(0, 0, 0, 0.3));\n",
              "      fill: #FFFFFF;\n",
              "    }\n",
              "  </style>\n",
              "\n",
              "      <script>\n",
              "        const buttonEl =\n",
              "          document.querySelector('#df-eb1a4921-e03a-4cae-af3a-1393b1d10a02 button.colab-df-convert');\n",
              "        buttonEl.style.display =\n",
              "          google.colab.kernel.accessAllowed ? 'block' : 'none';\n",
              "\n",
              "        async function convertToInteractive(key) {\n",
              "          const element = document.querySelector('#df-eb1a4921-e03a-4cae-af3a-1393b1d10a02');\n",
              "          const dataTable =\n",
              "            await google.colab.kernel.invokeFunction('convertToInteractive',\n",
              "                                                     [key], {});\n",
              "          if (!dataTable) return;\n",
              "\n",
              "          const docLinkHtml = 'Like what you see? Visit the ' +\n",
              "            '<a target=\"_blank\" href=https://colab.research.google.com/notebooks/data_table.ipynb>data table notebook</a>'\n",
              "            + ' to learn more about interactive tables.';\n",
              "          element.innerHTML = '';\n",
              "          dataTable['output_type'] = 'display_data';\n",
              "          await google.colab.output.renderOutput(dataTable, element);\n",
              "          const docLink = document.createElement('div');\n",
              "          docLink.innerHTML = docLinkHtml;\n",
              "          element.appendChild(docLink);\n",
              "        }\n",
              "      </script>\n",
              "    </div>\n",
              "  </div>\n",
              "  "
            ]
          },
          "metadata": {},
          "execution_count": 15
        }
      ]
    },
    {
      "cell_type": "code",
      "source": [
        "btc.tail()\n"
      ],
      "metadata": {
        "colab": {
          "base_uri": "https://localhost:8080/",
          "height": 237
        },
        "id": "f6Q-ccOztG3g",
        "outputId": "3d8e01ab-e594-42f4-de0a-0ece84851f26"
      },
      "execution_count": 16,
      "outputs": [
        {
          "output_type": "execute_result",
          "data": {
            "text/plain": [
              "                             Open          High           Low         Close  \\\n",
              "Timestamp                                                                     \n",
              "2021-03-30 20:00:00  58686.619500  58717.499833  58649.440333  58678.720333   \n",
              "2021-03-30 21:00:00  58703.792500  58718.812833  58688.192000  58709.001000   \n",
              "2021-03-30 22:00:00  58788.743667  58806.029333  58770.925667  58788.207333   \n",
              "2021-03-30 23:00:00  58667.730345  58681.061379  58655.068966  58668.632586   \n",
              "2021-03-31 00:00:00  58767.750000  58778.180000  58755.970000  58778.180000   \n",
              "\n",
              "                     Volume_(BTC)  Volume_(Currency)  Weighted_Price  \n",
              "Timestamp                                                             \n",
              "2021-03-30 20:00:00      1.976271      116009.666363    58682.385127  \n",
              "2021-03-30 21:00:00      0.960084       56335.721540    58705.094588  \n",
              "2021-03-30 22:00:00      1.133653       66663.661684    58788.454429  \n",
              "2021-03-30 23:00:00      1.350504       79205.951112    58666.750127  \n",
              "2021-03-31 00:00:00      2.712831      159417.751000    58764.349363  "
            ],
            "text/html": [
              "\n",
              "  <div id=\"df-e3d2e23c-5fdf-40a9-8a4a-bfd2e446825d\">\n",
              "    <div class=\"colab-df-container\">\n",
              "      <div>\n",
              "<style scoped>\n",
              "    .dataframe tbody tr th:only-of-type {\n",
              "        vertical-align: middle;\n",
              "    }\n",
              "\n",
              "    .dataframe tbody tr th {\n",
              "        vertical-align: top;\n",
              "    }\n",
              "\n",
              "    .dataframe thead th {\n",
              "        text-align: right;\n",
              "    }\n",
              "</style>\n",
              "<table border=\"1\" class=\"dataframe\">\n",
              "  <thead>\n",
              "    <tr style=\"text-align: right;\">\n",
              "      <th></th>\n",
              "      <th>Open</th>\n",
              "      <th>High</th>\n",
              "      <th>Low</th>\n",
              "      <th>Close</th>\n",
              "      <th>Volume_(BTC)</th>\n",
              "      <th>Volume_(Currency)</th>\n",
              "      <th>Weighted_Price</th>\n",
              "    </tr>\n",
              "    <tr>\n",
              "      <th>Timestamp</th>\n",
              "      <th></th>\n",
              "      <th></th>\n",
              "      <th></th>\n",
              "      <th></th>\n",
              "      <th></th>\n",
              "      <th></th>\n",
              "      <th></th>\n",
              "    </tr>\n",
              "  </thead>\n",
              "  <tbody>\n",
              "    <tr>\n",
              "      <th>2021-03-30 20:00:00</th>\n",
              "      <td>58686.619500</td>\n",
              "      <td>58717.499833</td>\n",
              "      <td>58649.440333</td>\n",
              "      <td>58678.720333</td>\n",
              "      <td>1.976271</td>\n",
              "      <td>116009.666363</td>\n",
              "      <td>58682.385127</td>\n",
              "    </tr>\n",
              "    <tr>\n",
              "      <th>2021-03-30 21:00:00</th>\n",
              "      <td>58703.792500</td>\n",
              "      <td>58718.812833</td>\n",
              "      <td>58688.192000</td>\n",
              "      <td>58709.001000</td>\n",
              "      <td>0.960084</td>\n",
              "      <td>56335.721540</td>\n",
              "      <td>58705.094588</td>\n",
              "    </tr>\n",
              "    <tr>\n",
              "      <th>2021-03-30 22:00:00</th>\n",
              "      <td>58788.743667</td>\n",
              "      <td>58806.029333</td>\n",
              "      <td>58770.925667</td>\n",
              "      <td>58788.207333</td>\n",
              "      <td>1.133653</td>\n",
              "      <td>66663.661684</td>\n",
              "      <td>58788.454429</td>\n",
              "    </tr>\n",
              "    <tr>\n",
              "      <th>2021-03-30 23:00:00</th>\n",
              "      <td>58667.730345</td>\n",
              "      <td>58681.061379</td>\n",
              "      <td>58655.068966</td>\n",
              "      <td>58668.632586</td>\n",
              "      <td>1.350504</td>\n",
              "      <td>79205.951112</td>\n",
              "      <td>58666.750127</td>\n",
              "    </tr>\n",
              "    <tr>\n",
              "      <th>2021-03-31 00:00:00</th>\n",
              "      <td>58767.750000</td>\n",
              "      <td>58778.180000</td>\n",
              "      <td>58755.970000</td>\n",
              "      <td>58778.180000</td>\n",
              "      <td>2.712831</td>\n",
              "      <td>159417.751000</td>\n",
              "      <td>58764.349363</td>\n",
              "    </tr>\n",
              "  </tbody>\n",
              "</table>\n",
              "</div>\n",
              "      <button class=\"colab-df-convert\" onclick=\"convertToInteractive('df-e3d2e23c-5fdf-40a9-8a4a-bfd2e446825d')\"\n",
              "              title=\"Convert this dataframe to an interactive table.\"\n",
              "              style=\"display:none;\">\n",
              "        \n",
              "  <svg xmlns=\"http://www.w3.org/2000/svg\" height=\"24px\"viewBox=\"0 0 24 24\"\n",
              "       width=\"24px\">\n",
              "    <path d=\"M0 0h24v24H0V0z\" fill=\"none\"/>\n",
              "    <path d=\"M18.56 5.44l.94 2.06.94-2.06 2.06-.94-2.06-.94-.94-2.06-.94 2.06-2.06.94zm-11 1L8.5 8.5l.94-2.06 2.06-.94-2.06-.94L8.5 2.5l-.94 2.06-2.06.94zm10 10l.94 2.06.94-2.06 2.06-.94-2.06-.94-.94-2.06-.94 2.06-2.06.94z\"/><path d=\"M17.41 7.96l-1.37-1.37c-.4-.4-.92-.59-1.43-.59-.52 0-1.04.2-1.43.59L10.3 9.45l-7.72 7.72c-.78.78-.78 2.05 0 2.83L4 21.41c.39.39.9.59 1.41.59.51 0 1.02-.2 1.41-.59l7.78-7.78 2.81-2.81c.8-.78.8-2.07 0-2.86zM5.41 20L4 18.59l7.72-7.72 1.47 1.35L5.41 20z\"/>\n",
              "  </svg>\n",
              "      </button>\n",
              "      \n",
              "  <style>\n",
              "    .colab-df-container {\n",
              "      display:flex;\n",
              "      flex-wrap:wrap;\n",
              "      gap: 12px;\n",
              "    }\n",
              "\n",
              "    .colab-df-convert {\n",
              "      background-color: #E8F0FE;\n",
              "      border: none;\n",
              "      border-radius: 50%;\n",
              "      cursor: pointer;\n",
              "      display: none;\n",
              "      fill: #1967D2;\n",
              "      height: 32px;\n",
              "      padding: 0 0 0 0;\n",
              "      width: 32px;\n",
              "    }\n",
              "\n",
              "    .colab-df-convert:hover {\n",
              "      background-color: #E2EBFA;\n",
              "      box-shadow: 0px 1px 2px rgba(60, 64, 67, 0.3), 0px 1px 3px 1px rgba(60, 64, 67, 0.15);\n",
              "      fill: #174EA6;\n",
              "    }\n",
              "\n",
              "    [theme=dark] .colab-df-convert {\n",
              "      background-color: #3B4455;\n",
              "      fill: #D2E3FC;\n",
              "    }\n",
              "\n",
              "    [theme=dark] .colab-df-convert:hover {\n",
              "      background-color: #434B5C;\n",
              "      box-shadow: 0px 1px 3px 1px rgba(0, 0, 0, 0.15);\n",
              "      filter: drop-shadow(0px 1px 2px rgba(0, 0, 0, 0.3));\n",
              "      fill: #FFFFFF;\n",
              "    }\n",
              "  </style>\n",
              "\n",
              "      <script>\n",
              "        const buttonEl =\n",
              "          document.querySelector('#df-e3d2e23c-5fdf-40a9-8a4a-bfd2e446825d button.colab-df-convert');\n",
              "        buttonEl.style.display =\n",
              "          google.colab.kernel.accessAllowed ? 'block' : 'none';\n",
              "\n",
              "        async function convertToInteractive(key) {\n",
              "          const element = document.querySelector('#df-e3d2e23c-5fdf-40a9-8a4a-bfd2e446825d');\n",
              "          const dataTable =\n",
              "            await google.colab.kernel.invokeFunction('convertToInteractive',\n",
              "                                                     [key], {});\n",
              "          if (!dataTable) return;\n",
              "\n",
              "          const docLinkHtml = 'Like what you see? Visit the ' +\n",
              "            '<a target=\"_blank\" href=https://colab.research.google.com/notebooks/data_table.ipynb>data table notebook</a>'\n",
              "            + ' to learn more about interactive tables.';\n",
              "          element.innerHTML = '';\n",
              "          dataTable['output_type'] = 'display_data';\n",
              "          await google.colab.output.renderOutput(dataTable, element);\n",
              "          const docLink = document.createElement('div');\n",
              "          docLink.innerHTML = docLinkHtml;\n",
              "          element.appendChild(docLink);\n",
              "        }\n",
              "      </script>\n",
              "    </div>\n",
              "  </div>\n",
              "  "
            ]
          },
          "metadata": {},
          "execution_count": 16
        }
      ]
    },
    {
      "cell_type": "markdown",
      "source": [
        "## Columns/features in data\n"
      ],
      "metadata": {
        "id": "zxFKGK3ctRCR"
      }
    },
    {
      "cell_type": "code",
      "source": [
        "btc.columns\n"
      ],
      "metadata": {
        "colab": {
          "base_uri": "https://localhost:8080/"
        },
        "id": "Bbl_qvqstLSa",
        "outputId": "6941f2aa-7468-4084-a165-e2b7275153d2"
      },
      "execution_count": 17,
      "outputs": [
        {
          "output_type": "execute_result",
          "data": {
            "text/plain": [
              "Index(['Open', 'High', 'Low', 'Close', 'Volume_(BTC)', 'Volume_(Currency)',\n",
              "       'Weighted_Price'],\n",
              "      dtype='object')"
            ]
          },
          "metadata": {},
          "execution_count": 17
        }
      ]
    },
    {
      "cell_type": "markdown",
      "source": [
        "## Data information\n"
      ],
      "metadata": {
        "id": "JXqJOm89tYU-"
      }
    },
    {
      "cell_type": "code",
      "source": [
        "btc.info()"
      ],
      "metadata": {
        "colab": {
          "base_uri": "https://localhost:8080/"
        },
        "id": "KnZ81MrBtXeD",
        "outputId": "4dd97e51-f0f3-4200-ca80-4d300575264e"
      },
      "execution_count": 18,
      "outputs": [
        {
          "output_type": "stream",
          "name": "stdout",
          "text": [
            "<class 'pandas.core.frame.DataFrame'>\n",
            "DatetimeIndex: 81066 entries, 2011-12-31 07:00:00 to 2021-03-31 00:00:00\n",
            "Data columns (total 7 columns):\n",
            " #   Column             Non-Null Count  Dtype  \n",
            "---  ------             --------------  -----  \n",
            " 0   Open               77534 non-null  float64\n",
            " 1   High               77534 non-null  float64\n",
            " 2   Low                77534 non-null  float64\n",
            " 3   Close              77534 non-null  float64\n",
            " 4   Volume_(BTC)       77534 non-null  float64\n",
            " 5   Volume_(Currency)  77534 non-null  float64\n",
            " 6   Weighted_Price     77534 non-null  float64\n",
            "dtypes: float64(7)\n",
            "memory usage: 4.9 MB\n"
          ]
        }
      ]
    },
    {
      "cell_type": "markdown",
      "source": [
        "## Is there any missing values?\n"
      ],
      "metadata": {
        "id": "wYbbLc2_tpH9"
      }
    },
    {
      "cell_type": "code",
      "source": [
        "btc.isnull().values.any()\n"
      ],
      "metadata": {
        "colab": {
          "base_uri": "https://localhost:8080/"
        },
        "id": "gXfL5IpCtUm6",
        "outputId": "1f63c535-9e5c-4cb8-b557-97c0775566ae"
      },
      "execution_count": 19,
      "outputs": [
        {
          "output_type": "execute_result",
          "data": {
            "text/plain": [
              "True"
            ]
          },
          "metadata": {},
          "execution_count": 19
        }
      ]
    },
    {
      "cell_type": "code",
      "source": [
        "btc[btc.isnull().any(axis=1)].head()\n"
      ],
      "metadata": {
        "colab": {
          "base_uri": "https://localhost:8080/",
          "height": 237
        },
        "id": "zi2ll7aBttya",
        "outputId": "47aa7e89-34b0-4355-9fc3-80dd00d431ae"
      },
      "execution_count": 20,
      "outputs": [
        {
          "output_type": "execute_result",
          "data": {
            "text/plain": [
              "                     Open  High  Low  Close  Volume_(BTC)  Volume_(Currency)  \\\n",
              "Timestamp                                                                      \n",
              "2011-12-31 08:00:00   NaN   NaN  NaN    NaN           NaN                NaN   \n",
              "2011-12-31 09:00:00   NaN   NaN  NaN    NaN           NaN                NaN   \n",
              "2011-12-31 10:00:00   NaN   NaN  NaN    NaN           NaN                NaN   \n",
              "2011-12-31 11:00:00   NaN   NaN  NaN    NaN           NaN                NaN   \n",
              "2011-12-31 12:00:00   NaN   NaN  NaN    NaN           NaN                NaN   \n",
              "\n",
              "                     Weighted_Price  \n",
              "Timestamp                            \n",
              "2011-12-31 08:00:00             NaN  \n",
              "2011-12-31 09:00:00             NaN  \n",
              "2011-12-31 10:00:00             NaN  \n",
              "2011-12-31 11:00:00             NaN  \n",
              "2011-12-31 12:00:00             NaN  "
            ],
            "text/html": [
              "\n",
              "  <div id=\"df-8abafdcf-7da5-41a6-9342-4e2127ad81fd\">\n",
              "    <div class=\"colab-df-container\">\n",
              "      <div>\n",
              "<style scoped>\n",
              "    .dataframe tbody tr th:only-of-type {\n",
              "        vertical-align: middle;\n",
              "    }\n",
              "\n",
              "    .dataframe tbody tr th {\n",
              "        vertical-align: top;\n",
              "    }\n",
              "\n",
              "    .dataframe thead th {\n",
              "        text-align: right;\n",
              "    }\n",
              "</style>\n",
              "<table border=\"1\" class=\"dataframe\">\n",
              "  <thead>\n",
              "    <tr style=\"text-align: right;\">\n",
              "      <th></th>\n",
              "      <th>Open</th>\n",
              "      <th>High</th>\n",
              "      <th>Low</th>\n",
              "      <th>Close</th>\n",
              "      <th>Volume_(BTC)</th>\n",
              "      <th>Volume_(Currency)</th>\n",
              "      <th>Weighted_Price</th>\n",
              "    </tr>\n",
              "    <tr>\n",
              "      <th>Timestamp</th>\n",
              "      <th></th>\n",
              "      <th></th>\n",
              "      <th></th>\n",
              "      <th></th>\n",
              "      <th></th>\n",
              "      <th></th>\n",
              "      <th></th>\n",
              "    </tr>\n",
              "  </thead>\n",
              "  <tbody>\n",
              "    <tr>\n",
              "      <th>2011-12-31 08:00:00</th>\n",
              "      <td>NaN</td>\n",
              "      <td>NaN</td>\n",
              "      <td>NaN</td>\n",
              "      <td>NaN</td>\n",
              "      <td>NaN</td>\n",
              "      <td>NaN</td>\n",
              "      <td>NaN</td>\n",
              "    </tr>\n",
              "    <tr>\n",
              "      <th>2011-12-31 09:00:00</th>\n",
              "      <td>NaN</td>\n",
              "      <td>NaN</td>\n",
              "      <td>NaN</td>\n",
              "      <td>NaN</td>\n",
              "      <td>NaN</td>\n",
              "      <td>NaN</td>\n",
              "      <td>NaN</td>\n",
              "    </tr>\n",
              "    <tr>\n",
              "      <th>2011-12-31 10:00:00</th>\n",
              "      <td>NaN</td>\n",
              "      <td>NaN</td>\n",
              "      <td>NaN</td>\n",
              "      <td>NaN</td>\n",
              "      <td>NaN</td>\n",
              "      <td>NaN</td>\n",
              "      <td>NaN</td>\n",
              "    </tr>\n",
              "    <tr>\n",
              "      <th>2011-12-31 11:00:00</th>\n",
              "      <td>NaN</td>\n",
              "      <td>NaN</td>\n",
              "      <td>NaN</td>\n",
              "      <td>NaN</td>\n",
              "      <td>NaN</td>\n",
              "      <td>NaN</td>\n",
              "      <td>NaN</td>\n",
              "    </tr>\n",
              "    <tr>\n",
              "      <th>2011-12-31 12:00:00</th>\n",
              "      <td>NaN</td>\n",
              "      <td>NaN</td>\n",
              "      <td>NaN</td>\n",
              "      <td>NaN</td>\n",
              "      <td>NaN</td>\n",
              "      <td>NaN</td>\n",
              "      <td>NaN</td>\n",
              "    </tr>\n",
              "  </tbody>\n",
              "</table>\n",
              "</div>\n",
              "      <button class=\"colab-df-convert\" onclick=\"convertToInteractive('df-8abafdcf-7da5-41a6-9342-4e2127ad81fd')\"\n",
              "              title=\"Convert this dataframe to an interactive table.\"\n",
              "              style=\"display:none;\">\n",
              "        \n",
              "  <svg xmlns=\"http://www.w3.org/2000/svg\" height=\"24px\"viewBox=\"0 0 24 24\"\n",
              "       width=\"24px\">\n",
              "    <path d=\"M0 0h24v24H0V0z\" fill=\"none\"/>\n",
              "    <path d=\"M18.56 5.44l.94 2.06.94-2.06 2.06-.94-2.06-.94-.94-2.06-.94 2.06-2.06.94zm-11 1L8.5 8.5l.94-2.06 2.06-.94-2.06-.94L8.5 2.5l-.94 2.06-2.06.94zm10 10l.94 2.06.94-2.06 2.06-.94-2.06-.94-.94-2.06-.94 2.06-2.06.94z\"/><path d=\"M17.41 7.96l-1.37-1.37c-.4-.4-.92-.59-1.43-.59-.52 0-1.04.2-1.43.59L10.3 9.45l-7.72 7.72c-.78.78-.78 2.05 0 2.83L4 21.41c.39.39.9.59 1.41.59.51 0 1.02-.2 1.41-.59l7.78-7.78 2.81-2.81c.8-.78.8-2.07 0-2.86zM5.41 20L4 18.59l7.72-7.72 1.47 1.35L5.41 20z\"/>\n",
              "  </svg>\n",
              "      </button>\n",
              "      \n",
              "  <style>\n",
              "    .colab-df-container {\n",
              "      display:flex;\n",
              "      flex-wrap:wrap;\n",
              "      gap: 12px;\n",
              "    }\n",
              "\n",
              "    .colab-df-convert {\n",
              "      background-color: #E8F0FE;\n",
              "      border: none;\n",
              "      border-radius: 50%;\n",
              "      cursor: pointer;\n",
              "      display: none;\n",
              "      fill: #1967D2;\n",
              "      height: 32px;\n",
              "      padding: 0 0 0 0;\n",
              "      width: 32px;\n",
              "    }\n",
              "\n",
              "    .colab-df-convert:hover {\n",
              "      background-color: #E2EBFA;\n",
              "      box-shadow: 0px 1px 2px rgba(60, 64, 67, 0.3), 0px 1px 3px 1px rgba(60, 64, 67, 0.15);\n",
              "      fill: #174EA6;\n",
              "    }\n",
              "\n",
              "    [theme=dark] .colab-df-convert {\n",
              "      background-color: #3B4455;\n",
              "      fill: #D2E3FC;\n",
              "    }\n",
              "\n",
              "    [theme=dark] .colab-df-convert:hover {\n",
              "      background-color: #434B5C;\n",
              "      box-shadow: 0px 1px 3px 1px rgba(0, 0, 0, 0.15);\n",
              "      filter: drop-shadow(0px 1px 2px rgba(0, 0, 0, 0.3));\n",
              "      fill: #FFFFFF;\n",
              "    }\n",
              "  </style>\n",
              "\n",
              "      <script>\n",
              "        const buttonEl =\n",
              "          document.querySelector('#df-8abafdcf-7da5-41a6-9342-4e2127ad81fd button.colab-df-convert');\n",
              "        buttonEl.style.display =\n",
              "          google.colab.kernel.accessAllowed ? 'block' : 'none';\n",
              "\n",
              "        async function convertToInteractive(key) {\n",
              "          const element = document.querySelector('#df-8abafdcf-7da5-41a6-9342-4e2127ad81fd');\n",
              "          const dataTable =\n",
              "            await google.colab.kernel.invokeFunction('convertToInteractive',\n",
              "                                                     [key], {});\n",
              "          if (!dataTable) return;\n",
              "\n",
              "          const docLinkHtml = 'Like what you see? Visit the ' +\n",
              "            '<a target=\"_blank\" href=https://colab.research.google.com/notebooks/data_table.ipynb>data table notebook</a>'\n",
              "            + ' to learn more about interactive tables.';\n",
              "          element.innerHTML = '';\n",
              "          dataTable['output_type'] = 'display_data';\n",
              "          await google.colab.output.renderOutput(dataTable, element);\n",
              "          const docLink = document.createElement('div');\n",
              "          docLink.innerHTML = docLinkHtml;\n",
              "          element.appendChild(docLink);\n",
              "        }\n",
              "      </script>\n",
              "    </div>\n",
              "  </div>\n",
              "  "
            ]
          },
          "metadata": {},
          "execution_count": 20
        }
      ]
    },
    {
      "cell_type": "code",
      "source": [
        "btc = btc[btc.index.year>2015].dropna()\n",
        "btc\n"
      ],
      "metadata": {
        "colab": {
          "base_uri": "https://localhost:8080/",
          "height": 455
        },
        "id": "_cY6gWcMtzWN",
        "outputId": "d142c131-6f3f-4584-d7b0-d44c80f2032f"
      },
      "execution_count": 21,
      "outputs": [
        {
          "output_type": "execute_result",
          "data": {
            "text/plain": [
              "                             Open          High           Low         Close  \\\n",
              "Timestamp                                                                     \n",
              "2016-01-01 00:00:00    431.571842    431.683947    431.350526    431.466842   \n",
              "2016-01-01 01:00:00    430.470968    430.612258    430.317742    430.464194   \n",
              "2016-01-01 02:00:00    431.021923    431.075385    430.962308    431.013462   \n",
              "2016-01-01 03:00:00    431.493784    431.681892    431.373243    431.600811   \n",
              "2016-01-01 04:00:00    434.310408    434.438163    434.135306    434.281633   \n",
              "...                           ...           ...           ...           ...   \n",
              "2021-03-30 20:00:00  58686.619500  58717.499833  58649.440333  58678.720333   \n",
              "2021-03-30 21:00:00  58703.792500  58718.812833  58688.192000  58709.001000   \n",
              "2021-03-30 22:00:00  58788.743667  58806.029333  58770.925667  58788.207333   \n",
              "2021-03-30 23:00:00  58667.730345  58681.061379  58655.068966  58668.632586   \n",
              "2021-03-31 00:00:00  58767.750000  58778.180000  58755.970000  58778.180000   \n",
              "\n",
              "                     Volume_(BTC)  Volume_(Currency)  Weighted_Price  \n",
              "Timestamp                                                             \n",
              "2016-01-01 00:00:00      1.087394         469.169648      431.486899  \n",
              "2016-01-01 01:00:00      1.006846         433.216050      430.461480  \n",
              "2016-01-01 02:00:00      0.471009         202.855008      430.992236  \n",
              "2016-01-01 03:00:00      2.026601         876.422114      431.577192  \n",
              "2016-01-01 04:00:00     17.771499        7719.402352      434.306570  \n",
              "...                           ...                ...             ...  \n",
              "2021-03-30 20:00:00      1.976271      116009.666363    58682.385127  \n",
              "2021-03-30 21:00:00      0.960084       56335.721540    58705.094588  \n",
              "2021-03-30 22:00:00      1.133653       66663.661684    58788.454429  \n",
              "2021-03-30 23:00:00      1.350504       79205.951112    58666.750127  \n",
              "2021-03-31 00:00:00      2.712831      159417.751000    58764.349363  \n",
              "\n",
              "[45981 rows x 7 columns]"
            ],
            "text/html": [
              "\n",
              "  <div id=\"df-77bc5b9a-306c-43cb-93dc-a7fb52807f09\">\n",
              "    <div class=\"colab-df-container\">\n",
              "      <div>\n",
              "<style scoped>\n",
              "    .dataframe tbody tr th:only-of-type {\n",
              "        vertical-align: middle;\n",
              "    }\n",
              "\n",
              "    .dataframe tbody tr th {\n",
              "        vertical-align: top;\n",
              "    }\n",
              "\n",
              "    .dataframe thead th {\n",
              "        text-align: right;\n",
              "    }\n",
              "</style>\n",
              "<table border=\"1\" class=\"dataframe\">\n",
              "  <thead>\n",
              "    <tr style=\"text-align: right;\">\n",
              "      <th></th>\n",
              "      <th>Open</th>\n",
              "      <th>High</th>\n",
              "      <th>Low</th>\n",
              "      <th>Close</th>\n",
              "      <th>Volume_(BTC)</th>\n",
              "      <th>Volume_(Currency)</th>\n",
              "      <th>Weighted_Price</th>\n",
              "    </tr>\n",
              "    <tr>\n",
              "      <th>Timestamp</th>\n",
              "      <th></th>\n",
              "      <th></th>\n",
              "      <th></th>\n",
              "      <th></th>\n",
              "      <th></th>\n",
              "      <th></th>\n",
              "      <th></th>\n",
              "    </tr>\n",
              "  </thead>\n",
              "  <tbody>\n",
              "    <tr>\n",
              "      <th>2016-01-01 00:00:00</th>\n",
              "      <td>431.571842</td>\n",
              "      <td>431.683947</td>\n",
              "      <td>431.350526</td>\n",
              "      <td>431.466842</td>\n",
              "      <td>1.087394</td>\n",
              "      <td>469.169648</td>\n",
              "      <td>431.486899</td>\n",
              "    </tr>\n",
              "    <tr>\n",
              "      <th>2016-01-01 01:00:00</th>\n",
              "      <td>430.470968</td>\n",
              "      <td>430.612258</td>\n",
              "      <td>430.317742</td>\n",
              "      <td>430.464194</td>\n",
              "      <td>1.006846</td>\n",
              "      <td>433.216050</td>\n",
              "      <td>430.461480</td>\n",
              "    </tr>\n",
              "    <tr>\n",
              "      <th>2016-01-01 02:00:00</th>\n",
              "      <td>431.021923</td>\n",
              "      <td>431.075385</td>\n",
              "      <td>430.962308</td>\n",
              "      <td>431.013462</td>\n",
              "      <td>0.471009</td>\n",
              "      <td>202.855008</td>\n",
              "      <td>430.992236</td>\n",
              "    </tr>\n",
              "    <tr>\n",
              "      <th>2016-01-01 03:00:00</th>\n",
              "      <td>431.493784</td>\n",
              "      <td>431.681892</td>\n",
              "      <td>431.373243</td>\n",
              "      <td>431.600811</td>\n",
              "      <td>2.026601</td>\n",
              "      <td>876.422114</td>\n",
              "      <td>431.577192</td>\n",
              "    </tr>\n",
              "    <tr>\n",
              "      <th>2016-01-01 04:00:00</th>\n",
              "      <td>434.310408</td>\n",
              "      <td>434.438163</td>\n",
              "      <td>434.135306</td>\n",
              "      <td>434.281633</td>\n",
              "      <td>17.771499</td>\n",
              "      <td>7719.402352</td>\n",
              "      <td>434.306570</td>\n",
              "    </tr>\n",
              "    <tr>\n",
              "      <th>...</th>\n",
              "      <td>...</td>\n",
              "      <td>...</td>\n",
              "      <td>...</td>\n",
              "      <td>...</td>\n",
              "      <td>...</td>\n",
              "      <td>...</td>\n",
              "      <td>...</td>\n",
              "    </tr>\n",
              "    <tr>\n",
              "      <th>2021-03-30 20:00:00</th>\n",
              "      <td>58686.619500</td>\n",
              "      <td>58717.499833</td>\n",
              "      <td>58649.440333</td>\n",
              "      <td>58678.720333</td>\n",
              "      <td>1.976271</td>\n",
              "      <td>116009.666363</td>\n",
              "      <td>58682.385127</td>\n",
              "    </tr>\n",
              "    <tr>\n",
              "      <th>2021-03-30 21:00:00</th>\n",
              "      <td>58703.792500</td>\n",
              "      <td>58718.812833</td>\n",
              "      <td>58688.192000</td>\n",
              "      <td>58709.001000</td>\n",
              "      <td>0.960084</td>\n",
              "      <td>56335.721540</td>\n",
              "      <td>58705.094588</td>\n",
              "    </tr>\n",
              "    <tr>\n",
              "      <th>2021-03-30 22:00:00</th>\n",
              "      <td>58788.743667</td>\n",
              "      <td>58806.029333</td>\n",
              "      <td>58770.925667</td>\n",
              "      <td>58788.207333</td>\n",
              "      <td>1.133653</td>\n",
              "      <td>66663.661684</td>\n",
              "      <td>58788.454429</td>\n",
              "    </tr>\n",
              "    <tr>\n",
              "      <th>2021-03-30 23:00:00</th>\n",
              "      <td>58667.730345</td>\n",
              "      <td>58681.061379</td>\n",
              "      <td>58655.068966</td>\n",
              "      <td>58668.632586</td>\n",
              "      <td>1.350504</td>\n",
              "      <td>79205.951112</td>\n",
              "      <td>58666.750127</td>\n",
              "    </tr>\n",
              "    <tr>\n",
              "      <th>2021-03-31 00:00:00</th>\n",
              "      <td>58767.750000</td>\n",
              "      <td>58778.180000</td>\n",
              "      <td>58755.970000</td>\n",
              "      <td>58778.180000</td>\n",
              "      <td>2.712831</td>\n",
              "      <td>159417.751000</td>\n",
              "      <td>58764.349363</td>\n",
              "    </tr>\n",
              "  </tbody>\n",
              "</table>\n",
              "<p>45981 rows × 7 columns</p>\n",
              "</div>\n",
              "      <button class=\"colab-df-convert\" onclick=\"convertToInteractive('df-77bc5b9a-306c-43cb-93dc-a7fb52807f09')\"\n",
              "              title=\"Convert this dataframe to an interactive table.\"\n",
              "              style=\"display:none;\">\n",
              "        \n",
              "  <svg xmlns=\"http://www.w3.org/2000/svg\" height=\"24px\"viewBox=\"0 0 24 24\"\n",
              "       width=\"24px\">\n",
              "    <path d=\"M0 0h24v24H0V0z\" fill=\"none\"/>\n",
              "    <path d=\"M18.56 5.44l.94 2.06.94-2.06 2.06-.94-2.06-.94-.94-2.06-.94 2.06-2.06.94zm-11 1L8.5 8.5l.94-2.06 2.06-.94-2.06-.94L8.5 2.5l-.94 2.06-2.06.94zm10 10l.94 2.06.94-2.06 2.06-.94-2.06-.94-.94-2.06-.94 2.06-2.06.94z\"/><path d=\"M17.41 7.96l-1.37-1.37c-.4-.4-.92-.59-1.43-.59-.52 0-1.04.2-1.43.59L10.3 9.45l-7.72 7.72c-.78.78-.78 2.05 0 2.83L4 21.41c.39.39.9.59 1.41.59.51 0 1.02-.2 1.41-.59l7.78-7.78 2.81-2.81c.8-.78.8-2.07 0-2.86zM5.41 20L4 18.59l7.72-7.72 1.47 1.35L5.41 20z\"/>\n",
              "  </svg>\n",
              "      </button>\n",
              "      \n",
              "  <style>\n",
              "    .colab-df-container {\n",
              "      display:flex;\n",
              "      flex-wrap:wrap;\n",
              "      gap: 12px;\n",
              "    }\n",
              "\n",
              "    .colab-df-convert {\n",
              "      background-color: #E8F0FE;\n",
              "      border: none;\n",
              "      border-radius: 50%;\n",
              "      cursor: pointer;\n",
              "      display: none;\n",
              "      fill: #1967D2;\n",
              "      height: 32px;\n",
              "      padding: 0 0 0 0;\n",
              "      width: 32px;\n",
              "    }\n",
              "\n",
              "    .colab-df-convert:hover {\n",
              "      background-color: #E2EBFA;\n",
              "      box-shadow: 0px 1px 2px rgba(60, 64, 67, 0.3), 0px 1px 3px 1px rgba(60, 64, 67, 0.15);\n",
              "      fill: #174EA6;\n",
              "    }\n",
              "\n",
              "    [theme=dark] .colab-df-convert {\n",
              "      background-color: #3B4455;\n",
              "      fill: #D2E3FC;\n",
              "    }\n",
              "\n",
              "    [theme=dark] .colab-df-convert:hover {\n",
              "      background-color: #434B5C;\n",
              "      box-shadow: 0px 1px 3px 1px rgba(0, 0, 0, 0.15);\n",
              "      filter: drop-shadow(0px 1px 2px rgba(0, 0, 0, 0.3));\n",
              "      fill: #FFFFFF;\n",
              "    }\n",
              "  </style>\n",
              "\n",
              "      <script>\n",
              "        const buttonEl =\n",
              "          document.querySelector('#df-77bc5b9a-306c-43cb-93dc-a7fb52807f09 button.colab-df-convert');\n",
              "        buttonEl.style.display =\n",
              "          google.colab.kernel.accessAllowed ? 'block' : 'none';\n",
              "\n",
              "        async function convertToInteractive(key) {\n",
              "          const element = document.querySelector('#df-77bc5b9a-306c-43cb-93dc-a7fb52807f09');\n",
              "          const dataTable =\n",
              "            await google.colab.kernel.invokeFunction('convertToInteractive',\n",
              "                                                     [key], {});\n",
              "          if (!dataTable) return;\n",
              "\n",
              "          const docLinkHtml = 'Like what you see? Visit the ' +\n",
              "            '<a target=\"_blank\" href=https://colab.research.google.com/notebooks/data_table.ipynb>data table notebook</a>'\n",
              "            + ' to learn more about interactive tables.';\n",
              "          element.innerHTML = '';\n",
              "          dataTable['output_type'] = 'display_data';\n",
              "          await google.colab.output.renderOutput(dataTable, element);\n",
              "          const docLink = document.createElement('div');\n",
              "          docLink.innerHTML = docLinkHtml;\n",
              "          element.appendChild(docLink);\n",
              "        }\n",
              "      </script>\n",
              "    </div>\n",
              "  </div>\n",
              "  "
            ]
          },
          "metadata": {},
          "execution_count": 21
        }
      ]
    },
    {
      "cell_type": "code",
      "source": [
        "btc.isnull().values.any()"
      ],
      "metadata": {
        "colab": {
          "base_uri": "https://localhost:8080/"
        },
        "id": "1Dyx8WTuuAjm",
        "outputId": "7162b842-5308-4079-c924-9f50c710643c"
      },
      "execution_count": 22,
      "outputs": [
        {
          "output_type": "execute_result",
          "data": {
            "text/plain": [
              "False"
            ]
          },
          "metadata": {},
          "execution_count": 22
        }
      ]
    },
    {
      "cell_type": "markdown",
      "source": [
        "## Data Description\n"
      ],
      "metadata": {
        "id": "z8eatf9SuJtO"
      }
    },
    {
      "cell_type": "code",
      "source": [
        "btc.describe()"
      ],
      "metadata": {
        "colab": {
          "base_uri": "https://localhost:8080/",
          "height": 300
        },
        "id": "CuMWUSY2uCvH",
        "outputId": "0e88b7f8-d9eb-4a5c-b434-6a8cb686c4e1"
      },
      "execution_count": 23,
      "outputs": [
        {
          "output_type": "execute_result",
          "data": {
            "text/plain": [
              "               Open          High           Low         Close  Volume_(BTC)  \\\n",
              "count  45981.000000  45981.000000  45981.000000  45981.000000  45981.000000   \n",
              "mean    7896.779379   7902.375884   7890.926469   7896.768154      6.717475   \n",
              "std     9587.179188   9595.099166   9579.064379   9587.318156      7.858661   \n",
              "min      358.262414    358.673793    357.663276    358.174310      0.017548   \n",
              "25%     1272.792778   1273.177778   1272.604722   1272.849167      2.323864   \n",
              "50%     6525.464898   6528.668085   6522.516863   6525.332041      4.391451   \n",
              "75%     9494.180333   9499.169000   9489.318833   9494.198333      8.216645   \n",
              "max    61365.363833  61406.334167  61325.110500  61370.448167    228.220477   \n",
              "\n",
              "       Volume_(Currency)  Weighted_Price  \n",
              "count       4.598100e+04    45981.000000  \n",
              "mean        5.316373e+04     7896.671885  \n",
              "std         1.010684e+05     9586.880428  \n",
              "min         5.522772e+01      358.134143  \n",
              "25%         6.372295e+03     1272.834702  \n",
              "50%         2.158347e+04     6525.162787  \n",
              "75%         5.812929e+04     9494.596766  \n",
              "max         4.125142e+06    61363.600604  "
            ],
            "text/html": [
              "\n",
              "  <div id=\"df-4cff3ebe-7f12-4c64-896b-726a3d2079fb\">\n",
              "    <div class=\"colab-df-container\">\n",
              "      <div>\n",
              "<style scoped>\n",
              "    .dataframe tbody tr th:only-of-type {\n",
              "        vertical-align: middle;\n",
              "    }\n",
              "\n",
              "    .dataframe tbody tr th {\n",
              "        vertical-align: top;\n",
              "    }\n",
              "\n",
              "    .dataframe thead th {\n",
              "        text-align: right;\n",
              "    }\n",
              "</style>\n",
              "<table border=\"1\" class=\"dataframe\">\n",
              "  <thead>\n",
              "    <tr style=\"text-align: right;\">\n",
              "      <th></th>\n",
              "      <th>Open</th>\n",
              "      <th>High</th>\n",
              "      <th>Low</th>\n",
              "      <th>Close</th>\n",
              "      <th>Volume_(BTC)</th>\n",
              "      <th>Volume_(Currency)</th>\n",
              "      <th>Weighted_Price</th>\n",
              "    </tr>\n",
              "  </thead>\n",
              "  <tbody>\n",
              "    <tr>\n",
              "      <th>count</th>\n",
              "      <td>45981.000000</td>\n",
              "      <td>45981.000000</td>\n",
              "      <td>45981.000000</td>\n",
              "      <td>45981.000000</td>\n",
              "      <td>45981.000000</td>\n",
              "      <td>4.598100e+04</td>\n",
              "      <td>45981.000000</td>\n",
              "    </tr>\n",
              "    <tr>\n",
              "      <th>mean</th>\n",
              "      <td>7896.779379</td>\n",
              "      <td>7902.375884</td>\n",
              "      <td>7890.926469</td>\n",
              "      <td>7896.768154</td>\n",
              "      <td>6.717475</td>\n",
              "      <td>5.316373e+04</td>\n",
              "      <td>7896.671885</td>\n",
              "    </tr>\n",
              "    <tr>\n",
              "      <th>std</th>\n",
              "      <td>9587.179188</td>\n",
              "      <td>9595.099166</td>\n",
              "      <td>9579.064379</td>\n",
              "      <td>9587.318156</td>\n",
              "      <td>7.858661</td>\n",
              "      <td>1.010684e+05</td>\n",
              "      <td>9586.880428</td>\n",
              "    </tr>\n",
              "    <tr>\n",
              "      <th>min</th>\n",
              "      <td>358.262414</td>\n",
              "      <td>358.673793</td>\n",
              "      <td>357.663276</td>\n",
              "      <td>358.174310</td>\n",
              "      <td>0.017548</td>\n",
              "      <td>5.522772e+01</td>\n",
              "      <td>358.134143</td>\n",
              "    </tr>\n",
              "    <tr>\n",
              "      <th>25%</th>\n",
              "      <td>1272.792778</td>\n",
              "      <td>1273.177778</td>\n",
              "      <td>1272.604722</td>\n",
              "      <td>1272.849167</td>\n",
              "      <td>2.323864</td>\n",
              "      <td>6.372295e+03</td>\n",
              "      <td>1272.834702</td>\n",
              "    </tr>\n",
              "    <tr>\n",
              "      <th>50%</th>\n",
              "      <td>6525.464898</td>\n",
              "      <td>6528.668085</td>\n",
              "      <td>6522.516863</td>\n",
              "      <td>6525.332041</td>\n",
              "      <td>4.391451</td>\n",
              "      <td>2.158347e+04</td>\n",
              "      <td>6525.162787</td>\n",
              "    </tr>\n",
              "    <tr>\n",
              "      <th>75%</th>\n",
              "      <td>9494.180333</td>\n",
              "      <td>9499.169000</td>\n",
              "      <td>9489.318833</td>\n",
              "      <td>9494.198333</td>\n",
              "      <td>8.216645</td>\n",
              "      <td>5.812929e+04</td>\n",
              "      <td>9494.596766</td>\n",
              "    </tr>\n",
              "    <tr>\n",
              "      <th>max</th>\n",
              "      <td>61365.363833</td>\n",
              "      <td>61406.334167</td>\n",
              "      <td>61325.110500</td>\n",
              "      <td>61370.448167</td>\n",
              "      <td>228.220477</td>\n",
              "      <td>4.125142e+06</td>\n",
              "      <td>61363.600604</td>\n",
              "    </tr>\n",
              "  </tbody>\n",
              "</table>\n",
              "</div>\n",
              "      <button class=\"colab-df-convert\" onclick=\"convertToInteractive('df-4cff3ebe-7f12-4c64-896b-726a3d2079fb')\"\n",
              "              title=\"Convert this dataframe to an interactive table.\"\n",
              "              style=\"display:none;\">\n",
              "        \n",
              "  <svg xmlns=\"http://www.w3.org/2000/svg\" height=\"24px\"viewBox=\"0 0 24 24\"\n",
              "       width=\"24px\">\n",
              "    <path d=\"M0 0h24v24H0V0z\" fill=\"none\"/>\n",
              "    <path d=\"M18.56 5.44l.94 2.06.94-2.06 2.06-.94-2.06-.94-.94-2.06-.94 2.06-2.06.94zm-11 1L8.5 8.5l.94-2.06 2.06-.94-2.06-.94L8.5 2.5l-.94 2.06-2.06.94zm10 10l.94 2.06.94-2.06 2.06-.94-2.06-.94-.94-2.06-.94 2.06-2.06.94z\"/><path d=\"M17.41 7.96l-1.37-1.37c-.4-.4-.92-.59-1.43-.59-.52 0-1.04.2-1.43.59L10.3 9.45l-7.72 7.72c-.78.78-.78 2.05 0 2.83L4 21.41c.39.39.9.59 1.41.59.51 0 1.02-.2 1.41-.59l7.78-7.78 2.81-2.81c.8-.78.8-2.07 0-2.86zM5.41 20L4 18.59l7.72-7.72 1.47 1.35L5.41 20z\"/>\n",
              "  </svg>\n",
              "      </button>\n",
              "      \n",
              "  <style>\n",
              "    .colab-df-container {\n",
              "      display:flex;\n",
              "      flex-wrap:wrap;\n",
              "      gap: 12px;\n",
              "    }\n",
              "\n",
              "    .colab-df-convert {\n",
              "      background-color: #E8F0FE;\n",
              "      border: none;\n",
              "      border-radius: 50%;\n",
              "      cursor: pointer;\n",
              "      display: none;\n",
              "      fill: #1967D2;\n",
              "      height: 32px;\n",
              "      padding: 0 0 0 0;\n",
              "      width: 32px;\n",
              "    }\n",
              "\n",
              "    .colab-df-convert:hover {\n",
              "      background-color: #E2EBFA;\n",
              "      box-shadow: 0px 1px 2px rgba(60, 64, 67, 0.3), 0px 1px 3px 1px rgba(60, 64, 67, 0.15);\n",
              "      fill: #174EA6;\n",
              "    }\n",
              "\n",
              "    [theme=dark] .colab-df-convert {\n",
              "      background-color: #3B4455;\n",
              "      fill: #D2E3FC;\n",
              "    }\n",
              "\n",
              "    [theme=dark] .colab-df-convert:hover {\n",
              "      background-color: #434B5C;\n",
              "      box-shadow: 0px 1px 3px 1px rgba(0, 0, 0, 0.15);\n",
              "      filter: drop-shadow(0px 1px 2px rgba(0, 0, 0, 0.3));\n",
              "      fill: #FFFFFF;\n",
              "    }\n",
              "  </style>\n",
              "\n",
              "      <script>\n",
              "        const buttonEl =\n",
              "          document.querySelector('#df-4cff3ebe-7f12-4c64-896b-726a3d2079fb button.colab-df-convert');\n",
              "        buttonEl.style.display =\n",
              "          google.colab.kernel.accessAllowed ? 'block' : 'none';\n",
              "\n",
              "        async function convertToInteractive(key) {\n",
              "          const element = document.querySelector('#df-4cff3ebe-7f12-4c64-896b-726a3d2079fb');\n",
              "          const dataTable =\n",
              "            await google.colab.kernel.invokeFunction('convertToInteractive',\n",
              "                                                     [key], {});\n",
              "          if (!dataTable) return;\n",
              "\n",
              "          const docLinkHtml = 'Like what you see? Visit the ' +\n",
              "            '<a target=\"_blank\" href=https://colab.research.google.com/notebooks/data_table.ipynb>data table notebook</a>'\n",
              "            + ' to learn more about interactive tables.';\n",
              "          element.innerHTML = '';\n",
              "          dataTable['output_type'] = 'display_data';\n",
              "          await google.colab.output.renderOutput(dataTable, element);\n",
              "          const docLink = document.createElement('div');\n",
              "          docLink.innerHTML = docLinkHtml;\n",
              "          element.appendChild(docLink);\n",
              "        }\n",
              "      </script>\n",
              "    </div>\n",
              "  </div>\n",
              "  "
            ]
          },
          "metadata": {},
          "execution_count": 23
        }
      ]
    },
    {
      "cell_type": "markdown",
      "source": [
        "# Statistical Test\n",
        "\n"
      ],
      "metadata": {
        "id": "aKLdaeagvp1u"
      }
    },
    {
      "cell_type": "code",
      "source": [
        "import statsmodels.api as sm \n",
        "import matplotlib.pyplot as plt\n",
        "import numpy as np\n"
      ],
      "metadata": {
        "id": "1R8y8CePuMku"
      },
      "execution_count": 79,
      "outputs": []
    },
    {
      "cell_type": "code",
      "source": [
        "btc[\"Weighted_Price_log\"] = np.log1p(btc.Weighted_Price)"
      ],
      "metadata": {
        "id": "yJgC-xTxyVQp"
      },
      "execution_count": 88,
      "outputs": []
    },
    {
      "cell_type": "code",
      "source": [
        "plt.figure(figsize=[20,10])\n",
        "sm.tsa.seasonal_decompose(btc.resample(\"W\").median().Weighted_Price).plot()\n",
        "plt.show()\n"
      ],
      "metadata": {
        "colab": {
          "base_uri": "https://localhost:8080/",
          "height": 314
        },
        "id": "Qbxv9ayAwbvQ",
        "outputId": "b60e597b-1ddc-4b72-b35b-aede3835396b"
      },
      "execution_count": 89,
      "outputs": [
        {
          "output_type": "display_data",
          "data": {
            "text/plain": [
              "<Figure size 1440x720 with 0 Axes>"
            ]
          },
          "metadata": {}
        },
        {
          "output_type": "display_data",
          "data": {
            "text/plain": [
              "<Figure size 432x288 with 4 Axes>"
            ],
            "image/png": "[encoded data removed]"
          },
          "metadata": {
            "needs_background": "light"
          }
        }
      ]
    },
    {
      "cell_type": "code",
      "source": [
        "dickey = sm.tsa.stattools.adfuller(btc.resample(\"W\").mean().Weighted_Price)\n",
        "\n",
        "\n",
        "print(f'ADF Statistic: {dickey[0]:.2f}')\n",
        "print(f'p-value: {dickey[1]:.2f}')\n",
        "print('Critical Values:')\n",
        "for key, value in dickey[4].items():\n",
        "        print(f'\\t {key}: {value:.3f}')\n",
        "        "
      ],
      "metadata": {
        "colab": {
          "base_uri": "https://localhost:8080/"
        },
        "id": "lL1yfBoswgWh",
        "outputId": "80422d38-b923-49c1-bb6f-176bf8c4c2f7"
      },
      "execution_count": 90,
      "outputs": [
        {
          "output_type": "stream",
          "name": "stdout",
          "text": [
            "ADF Statistic: 2.52\n",
            "p-value: 1.00\n",
            "Critical Values:\n",
            "\t 1%: -3.444\n",
            "\t 5%: -2.868\n",
            "\t 10%: -2.570\n"
          ]
        }
      ]
    },
    {
      "cell_type": "code",
      "source": [
        "plt.figure(figsize=[20,10])\n",
        "sm.tsa.seasonal_decompose(btc.resample(\"W\").median().Weighted_Price_log).plot()\n",
        "plt.show()\n"
      ],
      "metadata": {
        "colab": {
          "base_uri": "https://localhost:8080/",
          "height": 314
        },
        "id": "SMir6X8qxeca",
        "outputId": "6c0a7a49-6412-4e79-d683-75c360deacad"
      },
      "execution_count": 91,
      "outputs": [
        {
          "output_type": "display_data",
          "data": {
            "text/plain": [
              "<Figure size 1440x720 with 0 Axes>"
            ]
          },
          "metadata": {}
        },
        {
          "output_type": "display_data",
          "data": {
            "text/plain": [
              "<Figure size 432x288 with 4 Axes>"
            ],
            "image/png": "[encoded data removed]"
          },
          "metadata": {
            "needs_background": "light"
          }
        }
      ]
    },
    {
      "cell_type": "code",
      "source": [
        "dickey = sm.tsa.stattools.adfuller(btc.resample(\"W\").mean().Weighted_Price_log)\n",
        "\n",
        "\n",
        "print(f'ADF Statistic: {dickey[0]:.2f}')\n",
        "print(f'p-value: {dickey[1]:.2f}')\n",
        "print('Critical Values:')\n",
        "for key, value in dickey[4].items():\n",
        "        print(f'\\t {key}: {value:.3f}')\n",
        "        "
      ],
      "metadata": {
        "colab": {
          "base_uri": "https://localhost:8080/"
        },
        "id": "zepTqHvfy9Te",
        "outputId": "ae2c9130-941e-4d17-ca7c-2aab08e7e20a"
      },
      "execution_count": 92,
      "outputs": [
        {
          "output_type": "stream",
          "name": "stdout",
          "text": [
            "ADF Statistic: -0.97\n",
            "p-value: 0.76\n",
            "Critical Values:\n",
            "\t 1%: -3.444\n",
            "\t 5%: -2.868\n",
            "\t 10%: -2.570\n"
          ]
        }
      ]
    },
    {
      "cell_type": "markdown",
      "source": [
        "# Validation\n"
      ],
      "metadata": {
        "id": "R-FZ6cTKkKB1"
      }
    },
    {
      "cell_type": "code",
      "source": [
        "import datetime\n",
        "\n",
        "from sklearn.model_selection import train_test_split, KFold, TimeSeriesSplit"
      ],
      "metadata": {
        "id": "YDhMpa5RkK_p"
      },
      "execution_count": 93,
      "outputs": []
    },
    {
      "cell_type": "code",
      "source": [
        "fig, axs = plt.subplots(figsize=[5, 5])\n",
        "\n",
        "train, test = train_test_split(btc[[\"Weighted_Price\"]])\n",
        "\n",
        "axs.plot(train, 'k.', lw=1, label=\"Training Data\")\n",
        "axs.plot(test,'r.', lw=1, label=\"Test Data\")\n",
        "axs.set_xlim([datetime.date(2015, 1, 1), datetime.date(2021, 4, 1)])\n",
        "axs.set_ylim([-900, 61000])\n",
        "axs.set_title(f\"Random split of a timeseries\")\n",
        "axs.legend()\n",
        "plt.plot()\n"
      ],
      "metadata": {
        "colab": {
          "base_uri": "https://localhost:8080/",
          "height": 353
        },
        "id": "F5386PF-kaRp",
        "outputId": "50f01888-379c-4753-9721-96be90a53d30"
      },
      "execution_count": 94,
      "outputs": [
        {
          "output_type": "execute_result",
          "data": {
            "text/plain": [
              "[]"
            ]
          },
          "metadata": {},
          "execution_count": 94
        },
        {
          "output_type": "display_data",
          "data": {
            "text/plain": [
              "<Figure size 360x360 with 1 Axes>"
            ],
            "image/png": "[encoded data removed]"
          },
          "metadata": {
            "needs_background": "light"
          }
        }
      ]
    },
    {
      "cell_type": "markdown",
      "source": [
        "## K-Fold Cross-Validation\n",
        "\n",
        "We can see that the data that is supposed to be \"unseen\" is sprinkled in between the training data. This does not have anything to do with forecasting anymore and only needs some simple interpolation. We need a better system!\n",
        "\n",
        "Good machine learning validation is done using cross-validation, where the data is split into multiple subset and tested against each individually. KFold is the most common one that split the data into a number of `k` folds or subsets.\n",
        "\n",
        "![Cross-Validation](https://scikit-learn.org/stable/_images/grid_search_cross_validation.png)\n",
        "[[Source]](https://scikit-learn.org/stable/modules/cross_validation.html)"
      ],
      "metadata": {
        "id": "AjFdlO_CmvZ9"
      }
    },
    {
      "cell_type": "code",
      "source": [
        "cv = KFold()\n",
        "cv"
      ],
      "metadata": {
        "colab": {
          "base_uri": "https://localhost:8080/"
        },
        "id": "PM62NNQpkpVJ",
        "outputId": "4fb8847f-d74b-41aa-ad90-bb5fc613cf17"
      },
      "execution_count": 95,
      "outputs": [
        {
          "output_type": "execute_result",
          "data": {
            "text/plain": [
              "KFold(n_splits=5, random_state=None, shuffle=False)"
            ]
          },
          "metadata": {},
          "execution_count": 95
        }
      ]
    },
    {
      "cell_type": "code",
      "source": [
        "fig, axs = plt.subplots(ncols=5, figsize=[25, 5])\n",
        "\n",
        "for i, (train_index, val_index) in enumerate(cv.split(btc.Weighted_Price)):\n",
        "    axs[i].plot(btc.Weighted_Price[train_index], 'k', lw=1, label=\"Training Data\")\n",
        "    axs[i].plot(btc.Weighted_Price[val_index],'r', lw=1, label=\"Test Data\")\n",
        "    axs[i].set_xlim([datetime.date(2015, 1, 1), datetime.date(2021, 4, 1)])\n",
        "    axs[i].set_ylim([-900, 61000])\n",
        "    axs[i].set_title(f\"Fold {i} for timeseries\")\n",
        "    if not i:\n",
        "        axs[0].legend()\n",
        "        plt.plot()\n"
      ],
      "metadata": {
        "colab": {
          "base_uri": "https://localhost:8080/",
          "height": 262
        },
        "id": "ckTRcgnxlAsh",
        "outputId": "5d7f5c1f-3c32-4cbc-9c2e-95f276f45930"
      },
      "execution_count": 83,
      "outputs": [
        {
          "output_type": "display_data",
          "data": {
            "text/plain": [
              "<Figure size 1800x360 with 5 Axes>"
            ],
            "image/png": "[encoded data removed]"
          },
          "metadata": {
            "needs_background": "light"
          }
        }
      ]
    },
    {
      "cell_type": "markdown",
      "source": [
        "## Time-Series Cross-Validation\n",
        "\n",
        "This is better, but still not ideal. Each fold is contained by other data. Due to the time dependency, we know the order of the data and the machine learning system will exploit this information. Therefore, a real time-series solution must be used. This one only uses future data for validation:\n",
        "\n",
        "![Time Series Split](https://scikit-learn.org/stable/_images/sphx_glr_plot_cv_indices_013.png) [[Source]](https://scikit-learn.org/stable/modules/cross_validation.html#time-series-split)\n",
        "\n",
        "\n",
        "Read more in the complimentary ebook [Understanding Machine Learning Validation](https://dramsch.net/books/).\n"
      ],
      "metadata": {
        "id": "kvabcDLGnAqn"
      }
    },
    {
      "cell_type": "code",
      "source": [
        "tscv = TimeSeriesSplit()\n",
        "tscv"
      ],
      "metadata": {
        "colab": {
          "base_uri": "https://localhost:8080/"
        },
        "id": "sMXtkGGllzZX",
        "outputId": "f48c9392-65b1-4b08-f1e8-15a1a337ad8d"
      },
      "execution_count": 96,
      "outputs": [
        {
          "output_type": "execute_result",
          "data": {
            "text/plain": [
              "TimeSeriesSplit(gap=0, max_train_size=None, n_splits=5, test_size=None)"
            ]
          },
          "metadata": {},
          "execution_count": 96
        }
      ]
    },
    {
      "cell_type": "code",
      "source": [
        "fig, axs = plt.subplots(ncols=5, figsize=[25, 5])\n",
        "\n",
        "for i, (train_index, val_index) in enumerate(tscv.split(btc.Weighted_Price)):\n",
        "    axs[i].plot(btc.Weighted_Price[train_index], 'k', lw=1, label=\"Training Data\")\n",
        "    axs[i].plot(btc.Weighted_Price[val_index],'r', lw=1, label=\"Test Data\")\n",
        "    axs[i].set_xlim([datetime.date(2015, 1, 1), datetime.date(2021, 4, 1)])\n",
        "    axs[i].set_ylim([-900, 61000])\n",
        "    axs[i].set_title(f\"Fold {i} for timeseries\")\n",
        "    if not i:\n",
        "        axs[0].legend()\n",
        "        plt.plot()\n"
      ],
      "metadata": {
        "colab": {
          "base_uri": "https://localhost:8080/",
          "height": 262
        },
        "id": "HQWmetsClVdZ",
        "outputId": "947df717-0751-4861-de9d-d65a8d37973f"
      },
      "execution_count": 85,
      "outputs": [
        {
          "output_type": "display_data",
          "data": {
            "text/plain": [
              "<Figure size 1800x360 with 5 Axes>"
            ],
            "image/png": "[encoded data removed]"
          },
          "metadata": {
            "needs_background": "light"
          }
        }
      ]
    },
    {
      "cell_type": "code",
      "source": [
        "fig, axs = plt.subplots(ncols=5, figsize=[25, 5])\n",
        "\n",
        "for i, (train_index, val_index) in enumerate(tscv.split(btc.Weighted_Price_log)):\n",
        "    axs[i].plot(btc.Weighted_Price_log[train_index], 'k', lw=1, label=\"Training Data\")\n",
        "    axs[i].plot(btc.Weighted_Price_log[val_index],'r', lw=1, label=\"Test Data\")\n",
        "    axs[i].set_xlim([datetime.date(2015, 1, 1), datetime.date(2021, 4, 1)])\n",
        "    #axs[i].set_ylim([-900, 61000])\n",
        "    axs[i].set_title(f\"Fold {i} for timeseries\")\n",
        "    if not i:\n",
        "        axs[0].legend()\n",
        "        plt.plot()\n"
      ],
      "metadata": {
        "colab": {
          "base_uri": "https://localhost:8080/",
          "height": 266
        },
        "id": "gz60lWbOl4dj",
        "outputId": "cbc8080c-429b-479b-d815-0ab6822529df"
      },
      "execution_count": 97,
      "outputs": [
        {
          "output_type": "display_data",
          "data": {
            "text/plain": [
              "<Figure size 1800x360 with 5 Axes>"
            ],
            "image/png": "[encoded data removed]"
          },
          "metadata": {
            "needs_background": "light"
          }
        }
      ]
    },
    {
      "cell_type": "markdown",
      "source": [
        "# Prepare Training data\n",
        "## Classic Machine Learning"
      ],
      "metadata": {
        "id": "A2wNwmg8prRO"
      }
    },
    {
      "cell_type": "code",
      "source": [
        "from sklearn.preprocessing import MinMaxScaler"
      ],
      "metadata": {
        "id": "tgEYJLlSrYtj"
      },
      "execution_count": 98,
      "outputs": []
    },
    {
      "cell_type": "code",
      "source": [
        "split = int(btc.shape[0]*0.8)\n",
        "df_train = btc[:split]\n",
        "df_test = btc[split:]\n"
      ],
      "metadata": {
        "id": "W8uwTmnEmFd3"
      },
      "execution_count": 99,
      "outputs": []
    },
    {
      "cell_type": "code",
      "source": [
        "def create_dataset(df, n, feature=0):\n",
        "    x = []\n",
        "    y = []\n",
        "\n",
        "    for i in range(n, df.shape[0]):\n",
        "        x.append(df[i-n:i, feature])\n",
        "        y.append(df[i, feature])\n",
        "    x = np.expand_dims(np.array(x), -1)\n",
        "    y = np.expand_dims(np.array(y), -1)\n",
        "    return x, y "
      ],
      "metadata": {
        "id": "7RW8jLRAp2dg"
      },
      "execution_count": 100,
      "outputs": []
    },
    {
      "cell_type": "code",
      "source": [
        "scaler = MinMaxScaler(feature_range=(0,1))\n",
        "dataset_train = scaler.fit_transform(df_train)\n",
        "dataset_train\n"
      ],
      "metadata": {
        "colab": {
          "base_uri": "https://localhost:8080/"
        },
        "id": "YDAfKj0LrPSL",
        "outputId": "e35f52b6-e69b-4ec5-c748-fa4be43019c5"
      },
      "execution_count": 101,
      "outputs": [
        {
          "output_type": "execute_result",
          "data": {
            "text/plain": [
              "array([[6.94971486e-06, 7.85580963e-06, 6.95784156e-06, ...,\n",
              "        1.94649221e-04, 7.29524503e-06, 3.16397956e-03],\n",
              "       [2.47583592e-05, 2.47392900e-05, 2.47873106e-05, ...,\n",
              "        6.30274236e-05, 2.47630077e-05, 1.04224872e-02],\n",
              "       [3.48354457e-05, 3.48086151e-05, 3.48761808e-05, ...,\n",
              "        1.74110465e-04, 3.48419862e-05, 1.44224205e-02],\n",
              "       ...,\n",
              "       [4.01293771e-01, 4.01240116e-01, 4.01478711e-01, ...,\n",
              "        8.31622302e-02, 4.01338435e-01, 8.88556585e-01],\n",
              "       [4.15897814e-01, 4.15818387e-01, 4.16144268e-01, ...,\n",
              "        9.64758923e-02, 4.15967045e-01, 8.92925807e-01],\n",
              "       [4.19169340e-01, 4.19060213e-01, 4.19414005e-01, ...,\n",
              "        3.49644851e-02, 4.19249134e-01, 8.93884985e-01]])"
            ]
          },
          "metadata": {},
          "execution_count": 101
        }
      ]
    },
    {
      "cell_type": "code",
      "source": [
        "dataset_test = scaler.transform(df_test)\n"
      ],
      "metadata": {
        "id": "lOkWY6ZrruNl"
      },
      "execution_count": 102,
      "outputs": []
    },
    {
      "cell_type": "code",
      "source": [
        "X_train, y_train = create_dataset(dataset_train,50,7)\n",
        "X_test, y_test = create_dataset(dataset_test,50,7)\n"
      ],
      "metadata": {
        "id": "VSC8pgSVr5xp"
      },
      "execution_count": 103,
      "outputs": []
    },
    {
      "cell_type": "code",
      "source": [
        "X_train.shape"
      ],
      "metadata": {
        "colab": {
          "base_uri": "https://localhost:8080/"
        },
        "id": "_it3v1RXsLbN",
        "outputId": "1f05ad8a-36e6-4d6e-d80d-dd901afa316d"
      },
      "execution_count": 104,
      "outputs": [
        {
          "output_type": "execute_result",
          "data": {
            "text/plain": [
              "(2653, 50, 1)"
            ]
          },
          "metadata": {},
          "execution_count": 104
        }
      ]
    },
    {
      "cell_type": "code",
      "source": [
        "y_train.shape"
      ],
      "metadata": {
        "colab": {
          "base_uri": "https://localhost:8080/"
        },
        "id": "vBlIlnWUr9_g",
        "outputId": "50a54c36-d360-4e0e-eca3-bcbd7b42bf58"
      },
      "execution_count": 105,
      "outputs": [
        {
          "output_type": "execute_result",
          "data": {
            "text/plain": [
              "(2653, 1)"
            ]
          },
          "metadata": {},
          "execution_count": 105
        }
      ]
    },
    {
      "cell_type": "markdown",
      "source": [
        "## Prophet\n"
      ],
      "metadata": {
        "id": "I3OZ2972sSVT"
      }
    },
    {
      "cell_type": "code",
      "source": [
        "df_train.reset_index(inplace=True)\n",
        "df_prophet = pd.DataFrame(columns=[\"ds\", \"y\"])\n",
        "df_prophet[\"ds\"] = df_train.Timestamp\n",
        "df_prophet[\"y\"] = df_train.Weighted_Price\n",
        "df_prophet"
      ],
      "metadata": {
        "colab": {
          "base_uri": "https://localhost:8080/",
          "height": 424
        },
        "id": "0rdBiZfzsQt8",
        "outputId": "bfb5e102-5ced-4ee6-a998-14b732d5401e"
      },
      "execution_count": 106,
      "outputs": [
        {
          "output_type": "execute_result",
          "data": {
            "text/plain": [
              "             ds            y\n",
              "0    2011-12-31     4.471603\n",
              "1    2012-01-01     4.806667\n",
              "2    2012-01-02     5.000000\n",
              "3    2012-01-03     5.252500\n",
              "4    2012-01-04     5.208159\n",
              "...         ...          ...\n",
              "2698 2019-05-21  7952.526758\n",
              "2699 2019-05-22  7890.294526\n",
              "2700 2019-05-23  7702.740478\n",
              "2701 2019-05-24  7983.344117\n",
              "2702 2019-05-25  8046.300617\n",
              "\n",
              "[2703 rows x 2 columns]"
            ],
            "text/html": [
              "\n",
              "  <div id=\"df-5ea6ab6a-7920-4436-9b8c-2de236560271\">\n",
              "    <div class=\"colab-df-container\">\n",
              "      <div>\n",
              "<style scoped>\n",
              "    .dataframe tbody tr th:only-of-type {\n",
              "        vertical-align: middle;\n",
              "    }\n",
              "\n",
              "    .dataframe tbody tr th {\n",
              "        vertical-align: top;\n",
              "    }\n",
              "\n",
              "    .dataframe thead th {\n",
              "        text-align: right;\n",
              "    }\n",
              "</style>\n",
              "<table border=\"1\" class=\"dataframe\">\n",
              "  <thead>\n",
              "    <tr style=\"text-align: right;\">\n",
              "      <th></th>\n",
              "      <th>ds</th>\n",
              "      <th>y</th>\n",
              "    </tr>\n",
              "  </thead>\n",
              "  <tbody>\n",
              "    <tr>\n",
              "      <th>0</th>\n",
              "      <td>2011-12-31</td>\n",
              "      <td>4.471603</td>\n",
              "    </tr>\n",
              "    <tr>\n",
              "      <th>1</th>\n",
              "      <td>2012-01-01</td>\n",
              "      <td>4.806667</td>\n",
              "    </tr>\n",
              "    <tr>\n",
              "      <th>2</th>\n",
              "      <td>2012-01-02</td>\n",
              "      <td>5.000000</td>\n",
              "    </tr>\n",
              "    <tr>\n",
              "      <th>3</th>\n",
              "      <td>2012-01-03</td>\n",
              "      <td>5.252500</td>\n",
              "    </tr>\n",
              "    <tr>\n",
              "      <th>4</th>\n",
              "      <td>2012-01-04</td>\n",
              "      <td>5.208159</td>\n",
              "    </tr>\n",
              "    <tr>\n",
              "      <th>...</th>\n",
              "      <td>...</td>\n",
              "      <td>...</td>\n",
              "    </tr>\n",
              "    <tr>\n",
              "      <th>2698</th>\n",
              "      <td>2019-05-21</td>\n",
              "      <td>7952.526758</td>\n",
              "    </tr>\n",
              "    <tr>\n",
              "      <th>2699</th>\n",
              "      <td>2019-05-22</td>\n",
              "      <td>7890.294526</td>\n",
              "    </tr>\n",
              "    <tr>\n",
              "      <th>2700</th>\n",
              "      <td>2019-05-23</td>\n",
              "      <td>7702.740478</td>\n",
              "    </tr>\n",
              "    <tr>\n",
              "      <th>2701</th>\n",
              "      <td>2019-05-24</td>\n",
              "      <td>7983.344117</td>\n",
              "    </tr>\n",
              "    <tr>\n",
              "      <th>2702</th>\n",
              "      <td>2019-05-25</td>\n",
              "      <td>8046.300617</td>\n",
              "    </tr>\n",
              "  </tbody>\n",
              "</table>\n",
              "<p>2703 rows × 2 columns</p>\n",
              "</div>\n",
              "      <button class=\"colab-df-convert\" onclick=\"convertToInteractive('df-5ea6ab6a-7920-4436-9b8c-2de236560271')\"\n",
              "              title=\"Convert this dataframe to an interactive table.\"\n",
              "              style=\"display:none;\">\n",
              "        \n",
              "  <svg xmlns=\"http://www.w3.org/2000/svg\" height=\"24px\"viewBox=\"0 0 24 24\"\n",
              "       width=\"24px\">\n",
              "    <path d=\"M0 0h24v24H0V0z\" fill=\"none\"/>\n",
              "    <path d=\"M18.56 5.44l.94 2.06.94-2.06 2.06-.94-2.06-.94-.94-2.06-.94 2.06-2.06.94zm-11 1L8.5 8.5l.94-2.06 2.06-.94-2.06-.94L8.5 2.5l-.94 2.06-2.06.94zm10 10l.94 2.06.94-2.06 2.06-.94-2.06-.94-.94-2.06-.94 2.06-2.06.94z\"/><path d=\"M17.41 7.96l-1.37-1.37c-.4-.4-.92-.59-1.43-.59-.52 0-1.04.2-1.43.59L10.3 9.45l-7.72 7.72c-.78.78-.78 2.05 0 2.83L4 21.41c.39.39.9.59 1.41.59.51 0 1.02-.2 1.41-.59l7.78-7.78 2.81-2.81c.8-.78.8-2.07 0-2.86zM5.41 20L4 18.59l7.72-7.72 1.47 1.35L5.41 20z\"/>\n",
              "  </svg>\n",
              "      </button>\n",
              "      \n",
              "  <style>\n",
              "    .colab-df-container {\n",
              "      display:flex;\n",
              "      flex-wrap:wrap;\n",
              "      gap: 12px;\n",
              "    }\n",
              "\n",
              "    .colab-df-convert {\n",
              "      background-color: #E8F0FE;\n",
              "      border: none;\n",
              "      border-radius: 50%;\n",
              "      cursor: pointer;\n",
              "      display: none;\n",
              "      fill: #1967D2;\n",
              "      height: 32px;\n",
              "      padding: 0 0 0 0;\n",
              "      width: 32px;\n",
              "    }\n",
              "\n",
              "    .colab-df-convert:hover {\n",
              "      background-color: #E2EBFA;\n",
              "      box-shadow: 0px 1px 2px rgba(60, 64, 67, 0.3), 0px 1px 3px 1px rgba(60, 64, 67, 0.15);\n",
              "      fill: #174EA6;\n",
              "    }\n",
              "\n",
              "    [theme=dark] .colab-df-convert {\n",
              "      background-color: #3B4455;\n",
              "      fill: #D2E3FC;\n",
              "    }\n",
              "\n",
              "    [theme=dark] .colab-df-convert:hover {\n",
              "      background-color: #434B5C;\n",
              "      box-shadow: 0px 1px 3px 1px rgba(0, 0, 0, 0.15);\n",
              "      filter: drop-shadow(0px 1px 2px rgba(0, 0, 0, 0.3));\n",
              "      fill: #FFFFFF;\n",
              "    }\n",
              "  </style>\n",
              "\n",
              "      <script>\n",
              "        const buttonEl =\n",
              "          document.querySelector('#df-5ea6ab6a-7920-4436-9b8c-2de236560271 button.colab-df-convert');\n",
              "        buttonEl.style.display =\n",
              "          google.colab.kernel.accessAllowed ? 'block' : 'none';\n",
              "\n",
              "        async function convertToInteractive(key) {\n",
              "          const element = document.querySelector('#df-5ea6ab6a-7920-4436-9b8c-2de236560271');\n",
              "          const dataTable =\n",
              "            await google.colab.kernel.invokeFunction('convertToInteractive',\n",
              "                                                     [key], {});\n",
              "          if (!dataTable) return;\n",
              "\n",
              "          const docLinkHtml = 'Like what you see? Visit the ' +\n",
              "            '<a target=\"_blank\" href=https://colab.research.google.com/notebooks/data_table.ipynb>data table notebook</a>'\n",
              "            + ' to learn more about interactive tables.';\n",
              "          element.innerHTML = '';\n",
              "          dataTable['output_type'] = 'display_data';\n",
              "          await google.colab.output.renderOutput(dataTable, element);\n",
              "          const docLink = document.createElement('div');\n",
              "          docLink.innerHTML = docLinkHtml;\n",
              "          element.appendChild(docLink);\n",
              "        }\n",
              "      </script>\n",
              "    </div>\n",
              "  </div>\n",
              "  "
            ]
          },
          "metadata": {},
          "execution_count": 106
        }
      ]
    },
    {
      "cell_type": "code",
      "source": [
        "df_test.reset_index(inplace=True)\n",
        "df_prophet_test = pd.DataFrame(columns=[\"ds\", \"y\"])\n",
        "df_prophet_test[\"ds\"] = df_test.Timestamp\n",
        "df_prophet_test[\"y\"] = df_test.Weighted_Price\n",
        "df_prophet_test"
      ],
      "metadata": {
        "colab": {
          "base_uri": "https://localhost:8080/",
          "height": 424
        },
        "id": "lfly9jhuskLB",
        "outputId": "2644f87a-0b03-4fbc-b1f2-25904ca0a8a7"
      },
      "execution_count": 46,
      "outputs": [
        {
          "output_type": "execute_result",
          "data": {
            "text/plain": [
              "                      ds             y\n",
              "0    2020-03-12 16:00:00   6049.065567\n",
              "1    2020-03-12 17:00:00   6123.254776\n",
              "2    2020-03-12 18:00:00   6081.036189\n",
              "3    2020-03-12 19:00:00   6047.960700\n",
              "4    2020-03-12 20:00:00   5871.514519\n",
              "...                  ...           ...\n",
              "9192 2021-03-30 20:00:00  58682.385127\n",
              "9193 2021-03-30 21:00:00  58705.094588\n",
              "9194 2021-03-30 22:00:00  58788.454429\n",
              "9195 2021-03-30 23:00:00  58666.750127\n",
              "9196 2021-03-31 00:00:00  58764.349363\n",
              "\n",
              "[9197 rows x 2 columns]"
            ],
            "text/html": [
              "\n",
              "  <div id=\"df-29744ba9-5644-4ace-be61-b6fefd6382d6\">\n",
              "    <div class=\"colab-df-container\">\n",
              "      <div>\n",
              "<style scoped>\n",
              "    .dataframe tbody tr th:only-of-type {\n",
              "        vertical-align: middle;\n",
              "    }\n",
              "\n",
              "    .dataframe tbody tr th {\n",
              "        vertical-align: top;\n",
              "    }\n",
              "\n",
              "    .dataframe thead th {\n",
              "        text-align: right;\n",
              "    }\n",
              "</style>\n",
              "<table border=\"1\" class=\"dataframe\">\n",
              "  <thead>\n",
              "    <tr style=\"text-align: right;\">\n",
              "      <th></th>\n",
              "      <th>ds</th>\n",
              "      <th>y</th>\n",
              "    </tr>\n",
              "  </thead>\n",
              "  <tbody>\n",
              "    <tr>\n",
              "      <th>0</th>\n",
              "      <td>2020-03-12 16:00:00</td>\n",
              "      <td>6049.065567</td>\n",
              "    </tr>\n",
              "    <tr>\n",
              "      <th>1</th>\n",
              "      <td>2020-03-12 17:00:00</td>\n",
              "      <td>6123.254776</td>\n",
              "    </tr>\n",
              "    <tr>\n",
              "      <th>2</th>\n",
              "      <td>2020-03-12 18:00:00</td>\n",
              "      <td>6081.036189</td>\n",
              "    </tr>\n",
              "    <tr>\n",
              "      <th>3</th>\n",
              "      <td>2020-03-12 19:00:00</td>\n",
              "      <td>6047.960700</td>\n",
              "    </tr>\n",
              "    <tr>\n",
              "      <th>4</th>\n",
              "      <td>2020-03-12 20:00:00</td>\n",
              "      <td>5871.514519</td>\n",
              "    </tr>\n",
              "    <tr>\n",
              "      <th>...</th>\n",
              "      <td>...</td>\n",
              "      <td>...</td>\n",
              "    </tr>\n",
              "    <tr>\n",
              "      <th>9192</th>\n",
              "      <td>2021-03-30 20:00:00</td>\n",
              "      <td>58682.385127</td>\n",
              "    </tr>\n",
              "    <tr>\n",
              "      <th>9193</th>\n",
              "      <td>2021-03-30 21:00:00</td>\n",
              "      <td>58705.094588</td>\n",
              "    </tr>\n",
              "    <tr>\n",
              "      <th>9194</th>\n",
              "      <td>2021-03-30 22:00:00</td>\n",
              "      <td>58788.454429</td>\n",
              "    </tr>\n",
              "    <tr>\n",
              "      <th>9195</th>\n",
              "      <td>2021-03-30 23:00:00</td>\n",
              "      <td>58666.750127</td>\n",
              "    </tr>\n",
              "    <tr>\n",
              "      <th>9196</th>\n",
              "      <td>2021-03-31 00:00:00</td>\n",
              "      <td>58764.349363</td>\n",
              "    </tr>\n",
              "  </tbody>\n",
              "</table>\n",
              "<p>9197 rows × 2 columns</p>\n",
              "</div>\n",
              "      <button class=\"colab-df-convert\" onclick=\"convertToInteractive('df-29744ba9-5644-4ace-be61-b6fefd6382d6')\"\n",
              "              title=\"Convert this dataframe to an interactive table.\"\n",
              "              style=\"display:none;\">\n",
              "        \n",
              "  <svg xmlns=\"http://www.w3.org/2000/svg\" height=\"24px\"viewBox=\"0 0 24 24\"\n",
              "       width=\"24px\">\n",
              "    <path d=\"M0 0h24v24H0V0z\" fill=\"none\"/>\n",
              "    <path d=\"M18.56 5.44l.94 2.06.94-2.06 2.06-.94-2.06-.94-.94-2.06-.94 2.06-2.06.94zm-11 1L8.5 8.5l.94-2.06 2.06-.94-2.06-.94L8.5 2.5l-.94 2.06-2.06.94zm10 10l.94 2.06.94-2.06 2.06-.94-2.06-.94-.94-2.06-.94 2.06-2.06.94z\"/><path d=\"M17.41 7.96l-1.37-1.37c-.4-.4-.92-.59-1.43-.59-.52 0-1.04.2-1.43.59L10.3 9.45l-7.72 7.72c-.78.78-.78 2.05 0 2.83L4 21.41c.39.39.9.59 1.41.59.51 0 1.02-.2 1.41-.59l7.78-7.78 2.81-2.81c.8-.78.8-2.07 0-2.86zM5.41 20L4 18.59l7.72-7.72 1.47 1.35L5.41 20z\"/>\n",
              "  </svg>\n",
              "      </button>\n",
              "      \n",
              "  <style>\n",
              "    .colab-df-container {\n",
              "      display:flex;\n",
              "      flex-wrap:wrap;\n",
              "      gap: 12px;\n",
              "    }\n",
              "\n",
              "    .colab-df-convert {\n",
              "      background-color: #E8F0FE;\n",
              "      border: none;\n",
              "      border-radius: 50%;\n",
              "      cursor: pointer;\n",
              "      display: none;\n",
              "      fill: #1967D2;\n",
              "      height: 32px;\n",
              "      padding: 0 0 0 0;\n",
              "      width: 32px;\n",
              "    }\n",
              "\n",
              "    .colab-df-convert:hover {\n",
              "      background-color: #E2EBFA;\n",
              "      box-shadow: 0px 1px 2px rgba(60, 64, 67, 0.3), 0px 1px 3px 1px rgba(60, 64, 67, 0.15);\n",
              "      fill: #174EA6;\n",
              "    }\n",
              "\n",
              "    [theme=dark] .colab-df-convert {\n",
              "      background-color: #3B4455;\n",
              "      fill: #D2E3FC;\n",
              "    }\n",
              "\n",
              "    [theme=dark] .colab-df-convert:hover {\n",
              "      background-color: #434B5C;\n",
              "      box-shadow: 0px 1px 3px 1px rgba(0, 0, 0, 0.15);\n",
              "      filter: drop-shadow(0px 1px 2px rgba(0, 0, 0, 0.3));\n",
              "      fill: #FFFFFF;\n",
              "    }\n",
              "  </style>\n",
              "\n",
              "      <script>\n",
              "        const buttonEl =\n",
              "          document.querySelector('#df-29744ba9-5644-4ace-be61-b6fefd6382d6 button.colab-df-convert');\n",
              "        buttonEl.style.display =\n",
              "          google.colab.kernel.accessAllowed ? 'block' : 'none';\n",
              "\n",
              "        async function convertToInteractive(key) {\n",
              "          const element = document.querySelector('#df-29744ba9-5644-4ace-be61-b6fefd6382d6');\n",
              "          const dataTable =\n",
              "            await google.colab.kernel.invokeFunction('convertToInteractive',\n",
              "                                                     [key], {});\n",
              "          if (!dataTable) return;\n",
              "\n",
              "          const docLinkHtml = 'Like what you see? Visit the ' +\n",
              "            '<a target=\"_blank\" href=https://colab.research.google.com/notebooks/data_table.ipynb>data table notebook</a>'\n",
              "            + ' to learn more about interactive tables.';\n",
              "          element.innerHTML = '';\n",
              "          dataTable['output_type'] = 'display_data';\n",
              "          await google.colab.output.renderOutput(dataTable, element);\n",
              "          const docLink = document.createElement('div');\n",
              "          docLink.innerHTML = docLinkHtml;\n",
              "          element.appendChild(docLink);\n",
              "        }\n",
              "      </script>\n",
              "    </div>\n",
              "  </div>\n",
              "  "
            ]
          },
          "metadata": {},
          "execution_count": 46
        }
      ]
    },
    {
      "cell_type": "markdown",
      "source": [
        "# Evaluation function\n"
      ],
      "metadata": {
        "id": "dB4YU5evs2Rj"
      }
    },
    {
      "cell_type": "code",
      "source": [
        "from sklearn.metrics import r2_score, mean_absolute_error"
      ],
      "metadata": {
        "id": "8LwhSdLrtcuN"
      },
      "execution_count": 107,
      "outputs": []
    },
    {
      "cell_type": "code",
      "source": [
        "def evaluate_model(model, model_name=\"Model\", test_data=X_test, target_data=y_test):\n",
        "    y_pred_test = model.predict(test_data)\n",
        "\n",
        "    try:\n",
        "        y_pred_test = y_pred_test.yhat \n",
        "    except:\n",
        "        pass\n",
        "\n",
        "    test_rs = r2_score(target_data,y_pred_test)\n",
        "    print('R Squared : ', round(test_rs,5))\n",
        "\n",
        "    test_MAE = mean_absolute_error(target_data, y_pred_test)\n",
        "    print('Mean Absolute Error: ', round(test_MAE, 5))\n",
        "\n",
        "    plt.figure(figsize=(20,10))\n",
        "    plt.plot(y_pred_test, color='green', marker='o', linestyle='dashed',label='Predicted Price')\n",
        "    plt.plot(target_data, color='red', label='Actual Price')\n",
        "    plt.title('Comparison of actual and predicted stock prices for ' + model_name)\n",
        "    plt.xlabel('Day')\n",
        "    plt.ylabel('Prices')\n",
        "    plt.legend()\n",
        "    plt.show()\n",
        "    \n",
        "    return test_rs, test_MAE"
      ],
      "metadata": {
        "id": "W_cRBFqJsuUP"
      },
      "execution_count": 108,
      "outputs": []
    },
    {
      "cell_type": "markdown",
      "source": [
        "# SARIMA\n",
        "\n",
        "- S: Seasonal\n",
        "- AR: Auto Regressive model\n",
        "- I: Integrated\n",
        "- MA: Moving Average\n"
      ],
      "metadata": {
        "id": "DljP-MOxt7j3"
      }
    },
    {
      "cell_type": "code",
      "source": [
        "sarima = sm.tsa.statespace.SARIMAX(btc.Weighted_Price[:split],\n",
        "                                   order=(1, 1, 2),\n",
        "                                   seasonal_order=(1, 1, 2, 12),\n",
        "                                   enforce_stationarity=False,\n",
        "                                   enforce_invertibility=False)\n",
        "\n",
        "results = sarima.fit()\n",
        "print(\"Time Series AIC: \" + str(results.aic))\n"
      ],
      "metadata": {
        "colab": {
          "base_uri": "https://localhost:8080/"
        },
        "id": "ph8zACy8urwP",
        "outputId": "81367f69-a9e2-488b-9214-220acf8dd13d"
      },
      "execution_count": 49,
      "outputs": [
        {
          "output_type": "stream",
          "name": "stderr",
          "text": [
            "/usr/local/lib/python3.7/dist-packages/statsmodels/tsa/base/tsa_model.py:527: ValueWarning: No frequency information was provided, so inferred frequency H will be used.\n",
            "  % freq, ValueWarning)\n",
            "/usr/local/lib/python3.7/dist-packages/statsmodels/tsa/base/tsa_model.py:527: ValueWarning: No frequency information was provided, so inferred frequency H will be used.\n",
            "  % freq, ValueWarning)\n",
            "/usr/local/lib/python3.7/dist-packages/statsmodels/base/model.py:568: ConvergenceWarning: Maximum Likelihood optimization failed to converge. Check mle_retvals\n",
            "  ConvergenceWarning)\n"
          ]
        },
        {
          "output_type": "stream",
          "name": "stdout",
          "text": [
            "Time Series AIC: 400700.8484673494\n"
          ]
        }
      ]
    },
    {
      "cell_type": "markdown",
      "source": [
        "# Facebook Prophet"
      ],
      "metadata": {
        "id": "CKxuNzubfhvZ"
      }
    },
    {
      "cell_type": "code",
      "source": [
        "!pip install prophet"
      ],
      "metadata": {
        "colab": {
          "base_uri": "https://localhost:8080/"
        },
        "id": "WbrJ9K9mfhAD",
        "outputId": "f8aff227-3541-441e-c3a5-c596e4c958a5"
      },
      "execution_count": 50,
      "outputs": [
        {
          "output_type": "stream",
          "name": "stdout",
          "text": [
            "Looking in indexes: https://pypi.org/simple, https://us-python.pkg.dev/colab-wheels/public/simple/\n",
            "Requirement already satisfied: prophet in /usr/local/lib/python3.7/dist-packages (1.1)\n",
            "Requirement already satisfied: setuptools-git>=1.2 in /usr/local/lib/python3.7/dist-packages (from prophet) (1.2)\n",
            "Requirement already satisfied: tqdm>=4.36.1 in /usr/local/lib/python3.7/dist-packages (from prophet) (4.64.0)\n",
            "Requirement already satisfied: LunarCalendar>=0.0.9 in /usr/local/lib/python3.7/dist-packages (from prophet) (0.0.9)\n",
            "Requirement already satisfied: setuptools>=42 in /usr/local/lib/python3.7/dist-packages (from prophet) (57.4.0)\n",
            "Requirement already satisfied: matplotlib>=2.0.0 in /usr/local/lib/python3.7/dist-packages (from prophet) (3.2.2)\n",
            "Requirement already satisfied: python-dateutil>=2.8.0 in /usr/local/lib/python3.7/dist-packages (from prophet) (2.8.2)\n",
            "Requirement already satisfied: Cython>=0.22 in /usr/local/lib/python3.7/dist-packages (from prophet) (0.29.32)\n",
            "Requirement already satisfied: convertdate>=2.1.2 in /usr/local/lib/python3.7/dist-packages (from prophet) (2.4.0)\n",
            "Requirement already satisfied: wheel>=0.37.0 in /usr/local/lib/python3.7/dist-packages (from prophet) (0.37.1)\n",
            "Requirement already satisfied: cmdstanpy>=1.0.1 in /usr/local/lib/python3.7/dist-packages (from prophet) (1.0.4)\n",
            "Requirement already satisfied: numpy>=1.15.4 in /usr/local/lib/python3.7/dist-packages (from prophet) (1.21.6)\n",
            "Requirement already satisfied: holidays>=0.13 in /usr/local/lib/python3.7/dist-packages (from prophet) (0.14.2)\n",
            "Requirement already satisfied: pandas>=1.0.4 in /usr/local/lib/python3.7/dist-packages (from prophet) (1.3.5)\n",
            "Requirement already satisfied: ujson in /usr/local/lib/python3.7/dist-packages (from cmdstanpy>=1.0.1->prophet) (5.4.0)\n",
            "Requirement already satisfied: pymeeus<=1,>=0.3.13 in /usr/local/lib/python3.7/dist-packages (from convertdate>=2.1.2->prophet) (0.5.11)\n",
            "Requirement already satisfied: hijri-converter in /usr/local/lib/python3.7/dist-packages (from holidays>=0.13->prophet) (2.2.4)\n",
            "Requirement already satisfied: korean-lunar-calendar in /usr/local/lib/python3.7/dist-packages (from holidays>=0.13->prophet) (0.2.1)\n",
            "Requirement already satisfied: ephem>=3.7.5.3 in /usr/local/lib/python3.7/dist-packages (from LunarCalendar>=0.0.9->prophet) (4.1.3)\n",
            "Requirement already satisfied: pytz in /usr/local/lib/python3.7/dist-packages (from LunarCalendar>=0.0.9->prophet) (2022.2.1)\n",
            "Requirement already satisfied: cycler>=0.10 in /usr/local/lib/python3.7/dist-packages (from matplotlib>=2.0.0->prophet) (0.11.0)\n",
            "Requirement already satisfied: kiwisolver>=1.0.1 in /usr/local/lib/python3.7/dist-packages (from matplotlib>=2.0.0->prophet) (1.4.4)\n",
            "Requirement already satisfied: pyparsing!=2.0.4,!=2.1.2,!=2.1.6,>=2.0.1 in /usr/local/lib/python3.7/dist-packages (from matplotlib>=2.0.0->prophet) (3.0.9)\n",
            "Requirement already satisfied: typing-extensions in /usr/local/lib/python3.7/dist-packages (from kiwisolver>=1.0.1->matplotlib>=2.0.0->prophet) (4.1.1)\n",
            "Requirement already satisfied: six>=1.5 in /usr/local/lib/python3.7/dist-packages (from python-dateutil>=2.8.0->prophet) (1.15.0)\n"
          ]
        }
      ]
    },
    {
      "cell_type": "code",
      "source": [
        "from prophet import Prophet"
      ],
      "metadata": {
        "id": "qJ4BW6zQwYaT"
      },
      "execution_count": 109,
      "outputs": []
    },
    {
      "cell_type": "code",
      "source": [
        "prophet = Prophet(changepoint_prior_scale=0.15, daily_seasonality=True)\n",
        "prophet.fit(df_prophet)\n"
      ],
      "metadata": {
        "colab": {
          "base_uri": "https://localhost:8080/"
        },
        "id": "h6a-cF-Af_O-",
        "outputId": "394faa49-4e63-4a1b-be48-09d7d454feb6"
      },
      "execution_count": 52,
      "outputs": [
        {
          "output_type": "stream",
          "name": "stderr",
          "text": [
            "DEBUG:cmdstanpy:input tempfile: /tmp/tmpmak50xqs/znuhehn6.json\n",
            "DEBUG:cmdstanpy:input tempfile: /tmp/tmpmak50xqs/vg8vruzd.json\n",
            "DEBUG:cmdstanpy:idx 0\n",
            "DEBUG:cmdstanpy:running CmdStan, num_threads: None\n",
            "DEBUG:cmdstanpy:CmdStan args: ['/usr/local/lib/python3.7/dist-packages/prophet/stan_model/prophet_model.bin', 'random', 'seed=84990', 'data', 'file=/tmp/tmpmak50xqs/znuhehn6.json', 'init=/tmp/tmpmak50xqs/vg8vruzd.json', 'output', 'file=/tmp/tmp41nk_lg9/prophet_model-20220827033832.csv', 'method=optimize', 'algorithm=lbfgs', 'iter=10000']\n",
            "03:38:32 - cmdstanpy - INFO - Chain [1] start processing\n",
            "INFO:cmdstanpy:Chain [1] start processing\n",
            "03:39:41 - cmdstanpy - INFO - Chain [1] done processing\n",
            "INFO:cmdstanpy:Chain [1] done processing\n"
          ]
        },
        {
          "output_type": "execute_result",
          "data": {
            "text/plain": [
              "<prophet.forecaster.Prophet at 0x7f9c5e9ff450>"
            ]
          },
          "metadata": {},
          "execution_count": 52
        }
      ]
    },
    {
      "cell_type": "code",
      "source": [
        "forecast = prophet.predict(df_prophet_test)\n",
        "forecast.tail()"
      ],
      "metadata": {
        "colab": {
          "base_uri": "https://localhost:8080/",
          "height": 473
        },
        "id": "hsgNy_E3gNG3",
        "outputId": "c44f7365-4138-4a31-9960-9504bbb29f95"
      },
      "execution_count": 53,
      "outputs": [
        {
          "output_type": "execute_result",
          "data": {
            "text/plain": [
              "                      ds         trend    yhat_lower    yhat_upper  \\\n",
              "9192 2021-03-30 20:00:00  20264.701568 -35146.789916  73652.863251   \n",
              "9193 2021-03-30 21:00:00  20265.588817 -36454.932952  73782.590418   \n",
              "9194 2021-03-30 22:00:00  20266.476067 -35171.814111  73545.797045   \n",
              "9195 2021-03-30 23:00:00  20267.363317 -35815.940024  74122.758746   \n",
              "9196 2021-03-31 00:00:00  20268.250567 -36031.043136  73739.589706   \n",
              "\n",
              "       trend_lower   trend_upper  additive_terms  additive_terms_lower  \\\n",
              "9192 -33742.135435  75034.956764    -1806.525156          -1806.525156   \n",
              "9193 -33759.815330  75047.221792    -1803.014773          -1803.014773   \n",
              "9194 -33777.495225  75059.486820    -1798.932607          -1798.932607   \n",
              "9195 -33795.175121  75071.751848    -1794.907631          -1794.907631   \n",
              "9196 -33812.855016  75084.016876    -1792.002037          -1792.002037   \n",
              "\n",
              "      additive_terms_upper     daily  ...    weekly  weekly_lower  \\\n",
              "9192          -1806.525156  0.379279  ...  5.144912      5.144912   \n",
              "9193          -1803.014773  1.884260  ...  4.819341      4.819341   \n",
              "9194          -1798.932607  3.924785  ...  4.526975      4.526975   \n",
              "9195          -1794.907631  5.873928  ...  4.265802      4.265802   \n",
              "9196          -1792.002037  6.672443  ...  4.032905      4.032905   \n",
              "\n",
              "      weekly_upper       yearly  yearly_lower  yearly_upper  \\\n",
              "9192      5.144912 -1812.049348  -1812.049348  -1812.049348   \n",
              "9193      4.819341 -1809.718374  -1809.718374  -1809.718374   \n",
              "9194      4.526975 -1807.384368  -1807.384368  -1807.384368   \n",
              "9195      4.265802 -1805.047361  -1805.047361  -1805.047361   \n",
              "9196      4.032905 -1802.707385  -1802.707385  -1802.707385   \n",
              "\n",
              "      multiplicative_terms  multiplicative_terms_lower  \\\n",
              "9192                   0.0                         0.0   \n",
              "9193                   0.0                         0.0   \n",
              "9194                   0.0                         0.0   \n",
              "9195                   0.0                         0.0   \n",
              "9196                   0.0                         0.0   \n",
              "\n",
              "      multiplicative_terms_upper          yhat  \n",
              "9192                         0.0  18458.176411  \n",
              "9193                         0.0  18462.574044  \n",
              "9194                         0.0  18467.543460  \n",
              "9195                         0.0  18472.455686  \n",
              "9196                         0.0  18476.248530  \n",
              "\n",
              "[5 rows x 22 columns]"
            ],
            "text/html": [
              "\n",
              "  <div id=\"df-e7864bfa-cc14-424d-8c41-81a300225b83\">\n",
              "    <div class=\"colab-df-container\">\n",
              "      <div>\n",
              "<style scoped>\n",
              "    .dataframe tbody tr th:only-of-type {\n",
              "        vertical-align: middle;\n",
              "    }\n",
              "\n",
              "    .dataframe tbody tr th {\n",
              "        vertical-align: top;\n",
              "    }\n",
              "\n",
              "    .dataframe thead th {\n",
              "        text-align: right;\n",
              "    }\n",
              "</style>\n",
              "<table border=\"1\" class=\"dataframe\">\n",
              "  <thead>\n",
              "    <tr style=\"text-align: right;\">\n",
              "      <th></th>\n",
              "      <th>ds</th>\n",
              "      <th>trend</th>\n",
              "      <th>yhat_lower</th>\n",
              "      <th>yhat_upper</th>\n",
              "      <th>trend_lower</th>\n",
              "      <th>trend_upper</th>\n",
              "      <th>additive_terms</th>\n",
              "      <th>additive_terms_lower</th>\n",
              "      <th>additive_terms_upper</th>\n",
              "      <th>daily</th>\n",
              "      <th>...</th>\n",
              "      <th>weekly</th>\n",
              "      <th>weekly_lower</th>\n",
              "      <th>weekly_upper</th>\n",
              "      <th>yearly</th>\n",
              "      <th>yearly_lower</th>\n",
              "      <th>yearly_upper</th>\n",
              "      <th>multiplicative_terms</th>\n",
              "      <th>multiplicative_terms_lower</th>\n",
              "      <th>multiplicative_terms_upper</th>\n",
              "      <th>yhat</th>\n",
              "    </tr>\n",
              "  </thead>\n",
              "  <tbody>\n",
              "    <tr>\n",
              "      <th>9192</th>\n",
              "      <td>2021-03-30 20:00:00</td>\n",
              "      <td>20264.701568</td>\n",
              "      <td>-35146.789916</td>\n",
              "      <td>73652.863251</td>\n",
              "      <td>-33742.135435</td>\n",
              "      <td>75034.956764</td>\n",
              "      <td>-1806.525156</td>\n",
              "      <td>-1806.525156</td>\n",
              "      <td>-1806.525156</td>\n",
              "      <td>0.379279</td>\n",
              "      <td>...</td>\n",
              "      <td>5.144912</td>\n",
              "      <td>5.144912</td>\n",
              "      <td>5.144912</td>\n",
              "      <td>-1812.049348</td>\n",
              "      <td>-1812.049348</td>\n",
              "      <td>-1812.049348</td>\n",
              "      <td>0.0</td>\n",
              "      <td>0.0</td>\n",
              "      <td>0.0</td>\n",
              "      <td>18458.176411</td>\n",
              "    </tr>\n",
              "    <tr>\n",
              "      <th>9193</th>\n",
              "      <td>2021-03-30 21:00:00</td>\n",
              "      <td>20265.588817</td>\n",
              "      <td>-36454.932952</td>\n",
              "      <td>73782.590418</td>\n",
              "      <td>-33759.815330</td>\n",
              "      <td>75047.221792</td>\n",
              "      <td>-1803.014773</td>\n",
              "      <td>-1803.014773</td>\n",
              "      <td>-1803.014773</td>\n",
              "      <td>1.884260</td>\n",
              "      <td>...</td>\n",
              "      <td>4.819341</td>\n",
              "      <td>4.819341</td>\n",
              "      <td>4.819341</td>\n",
              "      <td>-1809.718374</td>\n",
              "      <td>-1809.718374</td>\n",
              "      <td>-1809.718374</td>\n",
              "      <td>0.0</td>\n",
              "      <td>0.0</td>\n",
              "      <td>0.0</td>\n",
              "      <td>18462.574044</td>\n",
              "    </tr>\n",
              "    <tr>\n",
              "      <th>9194</th>\n",
              "      <td>2021-03-30 22:00:00</td>\n",
              "      <td>20266.476067</td>\n",
              "      <td>-35171.814111</td>\n",
              "      <td>73545.797045</td>\n",
              "      <td>-33777.495225</td>\n",
              "      <td>75059.486820</td>\n",
              "      <td>-1798.932607</td>\n",
              "      <td>-1798.932607</td>\n",
              "      <td>-1798.932607</td>\n",
              "      <td>3.924785</td>\n",
              "      <td>...</td>\n",
              "      <td>4.526975</td>\n",
              "      <td>4.526975</td>\n",
              "      <td>4.526975</td>\n",
              "      <td>-1807.384368</td>\n",
              "      <td>-1807.384368</td>\n",
              "      <td>-1807.384368</td>\n",
              "      <td>0.0</td>\n",
              "      <td>0.0</td>\n",
              "      <td>0.0</td>\n",
              "      <td>18467.543460</td>\n",
              "    </tr>\n",
              "    <tr>\n",
              "      <th>9195</th>\n",
              "      <td>2021-03-30 23:00:00</td>\n",
              "      <td>20267.363317</td>\n",
              "      <td>-35815.940024</td>\n",
              "      <td>74122.758746</td>\n",
              "      <td>-33795.175121</td>\n",
              "      <td>75071.751848</td>\n",
              "      <td>-1794.907631</td>\n",
              "      <td>-1794.907631</td>\n",
              "      <td>-1794.907631</td>\n",
              "      <td>5.873928</td>\n",
              "      <td>...</td>\n",
              "      <td>4.265802</td>\n",
              "      <td>4.265802</td>\n",
              "      <td>4.265802</td>\n",
              "      <td>-1805.047361</td>\n",
              "      <td>-1805.047361</td>\n",
              "      <td>-1805.047361</td>\n",
              "      <td>0.0</td>\n",
              "      <td>0.0</td>\n",
              "      <td>0.0</td>\n",
              "      <td>18472.455686</td>\n",
              "    </tr>\n",
              "    <tr>\n",
              "      <th>9196</th>\n",
              "      <td>2021-03-31 00:00:00</td>\n",
              "      <td>20268.250567</td>\n",
              "      <td>-36031.043136</td>\n",
              "      <td>73739.589706</td>\n",
              "      <td>-33812.855016</td>\n",
              "      <td>75084.016876</td>\n",
              "      <td>-1792.002037</td>\n",
              "      <td>-1792.002037</td>\n",
              "      <td>-1792.002037</td>\n",
              "      <td>6.672443</td>\n",
              "      <td>...</td>\n",
              "      <td>4.032905</td>\n",
              "      <td>4.032905</td>\n",
              "      <td>4.032905</td>\n",
              "      <td>-1802.707385</td>\n",
              "      <td>-1802.707385</td>\n",
              "      <td>-1802.707385</td>\n",
              "      <td>0.0</td>\n",
              "      <td>0.0</td>\n",
              "      <td>0.0</td>\n",
              "      <td>18476.248530</td>\n",
              "    </tr>\n",
              "  </tbody>\n",
              "</table>\n",
              "<p>5 rows × 22 columns</p>\n",
              "</div>\n",
              "      <button class=\"colab-df-convert\" onclick=\"convertToInteractive('df-e7864bfa-cc14-424d-8c41-81a300225b83')\"\n",
              "              title=\"Convert this dataframe to an interactive table.\"\n",
              "              style=\"display:none;\">\n",
              "        \n",
              "  <svg xmlns=\"http://www.w3.org/2000/svg\" height=\"24px\"viewBox=\"0 0 24 24\"\n",
              "       width=\"24px\">\n",
              "    <path d=\"M0 0h24v24H0V0z\" fill=\"none\"/>\n",
              "    <path d=\"M18.56 5.44l.94 2.06.94-2.06 2.06-.94-2.06-.94-.94-2.06-.94 2.06-2.06.94zm-11 1L8.5 8.5l.94-2.06 2.06-.94-2.06-.94L8.5 2.5l-.94 2.06-2.06.94zm10 10l.94 2.06.94-2.06 2.06-.94-2.06-.94-.94-2.06-.94 2.06-2.06.94z\"/><path d=\"M17.41 7.96l-1.37-1.37c-.4-.4-.92-.59-1.43-.59-.52 0-1.04.2-1.43.59L10.3 9.45l-7.72 7.72c-.78.78-.78 2.05 0 2.83L4 21.41c.39.39.9.59 1.41.59.51 0 1.02-.2 1.41-.59l7.78-7.78 2.81-2.81c.8-.78.8-2.07 0-2.86zM5.41 20L4 18.59l7.72-7.72 1.47 1.35L5.41 20z\"/>\n",
              "  </svg>\n",
              "      </button>\n",
              "      \n",
              "  <style>\n",
              "    .colab-df-container {\n",
              "      display:flex;\n",
              "      flex-wrap:wrap;\n",
              "      gap: 12px;\n",
              "    }\n",
              "\n",
              "    .colab-df-convert {\n",
              "      background-color: #E8F0FE;\n",
              "      border: none;\n",
              "      border-radius: 50%;\n",
              "      cursor: pointer;\n",
              "      display: none;\n",
              "      fill: #1967D2;\n",
              "      height: 32px;\n",
              "      padding: 0 0 0 0;\n",
              "      width: 32px;\n",
              "    }\n",
              "\n",
              "    .colab-df-convert:hover {\n",
              "      background-color: #E2EBFA;\n",
              "      box-shadow: 0px 1px 2px rgba(60, 64, 67, 0.3), 0px 1px 3px 1px rgba(60, 64, 67, 0.15);\n",
              "      fill: #174EA6;\n",
              "    }\n",
              "\n",
              "    [theme=dark] .colab-df-convert {\n",
              "      background-color: #3B4455;\n",
              "      fill: #D2E3FC;\n",
              "    }\n",
              "\n",
              "    [theme=dark] .colab-df-convert:hover {\n",
              "      background-color: #434B5C;\n",
              "      box-shadow: 0px 1px 3px 1px rgba(0, 0, 0, 0.15);\n",
              "      filter: drop-shadow(0px 1px 2px rgba(0, 0, 0, 0.3));\n",
              "      fill: #FFFFFF;\n",
              "    }\n",
              "  </style>\n",
              "\n",
              "      <script>\n",
              "        const buttonEl =\n",
              "          document.querySelector('#df-e7864bfa-cc14-424d-8c41-81a300225b83 button.colab-df-convert');\n",
              "        buttonEl.style.display =\n",
              "          google.colab.kernel.accessAllowed ? 'block' : 'none';\n",
              "\n",
              "        async function convertToInteractive(key) {\n",
              "          const element = document.querySelector('#df-e7864bfa-cc14-424d-8c41-81a300225b83');\n",
              "          const dataTable =\n",
              "            await google.colab.kernel.invokeFunction('convertToInteractive',\n",
              "                                                     [key], {});\n",
              "          if (!dataTable) return;\n",
              "\n",
              "          const docLinkHtml = 'Like what you see? Visit the ' +\n",
              "            '<a target=\"_blank\" href=https://colab.research.google.com/notebooks/data_table.ipynb>data table notebook</a>'\n",
              "            + ' to learn more about interactive tables.';\n",
              "          element.innerHTML = '';\n",
              "          dataTable['output_type'] = 'display_data';\n",
              "          await google.colab.output.renderOutput(dataTable, element);\n",
              "          const docLink = document.createElement('div');\n",
              "          docLink.innerHTML = docLinkHtml;\n",
              "          element.appendChild(docLink);\n",
              "        }\n",
              "      </script>\n",
              "    </div>\n",
              "  </div>\n",
              "  "
            ]
          },
          "metadata": {},
          "execution_count": 53
        }
      ]
    },
    {
      "cell_type": "code",
      "source": [
        "fig = prophet.plot(forecast)\n"
      ],
      "metadata": {
        "colab": {
          "base_uri": "https://localhost:8080/",
          "height": 441
        },
        "id": "hk2Zz5NGhpmh",
        "outputId": "181e4012-5f14-4bbf-e91a-a6bbfd0fe200"
      },
      "execution_count": 54,
      "outputs": [
        {
          "output_type": "display_data",
          "data": {
            "text/plain": [
              "<Figure size 720x432 with 1 Axes>"
            ],
            "image/png": "[encoded data removed]"
          },
          "metadata": {}
        }
      ]
    },
    {
      "cell_type": "code",
      "source": [
        "evaluate_model(prophet, \"Prophet\", df_prophet_test, df_prophet_test.y)"
      ],
      "metadata": {
        "colab": {
          "base_uri": "https://localhost:8080/",
          "height": 638
        },
        "id": "jbxwP1E_h6go",
        "outputId": "9b28eee4-36fb-4e69-d95b-26f777744691"
      },
      "execution_count": 55,
      "outputs": [
        {
          "output_type": "stream",
          "name": "stdout",
          "text": [
            "R Squared :  0.01285\n",
            "Mean Absolute Error:  10972.32542\n"
          ]
        },
        {
          "output_type": "display_data",
          "data": {
            "text/plain": [
              "<Figure size 1440x720 with 1 Axes>"
            ],
            "image/png": "[encoded data removed]"
          },
          "metadata": {
            "needs_background": "light"
          }
        },
        {
          "output_type": "execute_result",
          "data": {
            "text/plain": [
              "(0.012849715445486853, 10972.325419404053)"
            ]
          },
          "metadata": {},
          "execution_count": 55
        }
      ]
    },
    {
      "cell_type": "markdown",
      "source": [
        "# XGBoost\n"
      ],
      "metadata": {
        "id": "s0s9glXkjHKz"
      }
    },
    {
      "cell_type": "code",
      "source": [
        "import xgboost"
      ],
      "metadata": {
        "id": "cPwa4OPFjKo8"
      },
      "execution_count": 110,
      "outputs": []
    },
    {
      "cell_type": "code",
      "source": [
        "xgb_model = xgboost.XGBRegressor()\n",
        "xgb_model.fit(np.squeeze(X_train), np.squeeze(y_train))\n"
      ],
      "metadata": {
        "colab": {
          "base_uri": "https://localhost:8080/"
        },
        "id": "fMW0_tjIiJMo",
        "outputId": "80a12efa-9565-4604-c337-3c200254523a"
      },
      "execution_count": 57,
      "outputs": [
        {
          "output_type": "stream",
          "name": "stdout",
          "text": [
            "[03:39:57] WARNING: /workspace/src/objective/regression_obj.cu:152: reg:linear is now deprecated in favor of reg:squarederror.\n"
          ]
        },
        {
          "output_type": "execute_result",
          "data": {
            "text/plain": [
              "XGBRegressor()"
            ]
          },
          "metadata": {},
          "execution_count": 57
        }
      ]
    },
    {
      "cell_type": "code",
      "source": [
        "evaluate_model(xgb_model, model_name=\"XGBoost\", test_data=np.squeeze(X_test), target_data=np.squeeze(y_test))\n"
      ],
      "metadata": {
        "colab": {
          "base_uri": "https://localhost:8080/",
          "height": 645
        },
        "id": "_Frne5pujTs5",
        "outputId": "3cb2de7a-6344-44f0-b880-9209cebee14f"
      },
      "execution_count": 58,
      "outputs": [
        {
          "output_type": "stream",
          "name": "stdout",
          "text": [
            "R Squared :  0.60969\n",
            "Mean Absolute Error:  0.0523\n"
          ]
        },
        {
          "output_type": "display_data",
          "data": {
            "text/plain": [
              "<Figure size 1440x720 with 1 Axes>"
            ],
            "image/png": "[encoded data removed]"
          },
          "metadata": {
            "needs_background": "light"
          }
        },
        {
          "output_type": "execute_result",
          "data": {
            "text/plain": [
              "(0.6096859276083624, 0.05229789296474891)"
            ]
          },
          "metadata": {},
          "execution_count": 58
        }
      ]
    },
    {
      "cell_type": "markdown",
      "source": [
        "# LSTM\n"
      ],
      "metadata": {
        "id": "1Gbbz8enkR1V"
      }
    },
    {
      "cell_type": "code",
      "source": [
        "from tensorflow.keras.layers import LSTM, Activation, Dense, Dropout, Conv1D, MaxPooling1D, Flatten, BatchNormalization\n",
        "from tensorflow.keras.models import Sequential\n",
        "from tensorflow.keras.losses import MSE\n",
        "from tensorflow.keras.optimizers import Adam\n",
        "from tensorflow.keras.activations import relu"
      ],
      "metadata": {
        "id": "Rcw7tu1Jjccn"
      },
      "execution_count": 111,
      "outputs": []
    },
    {
      "cell_type": "code",
      "source": [
        "LSTM_Model = Sequential()\n"
      ],
      "metadata": {
        "id": "ZD5sMeQ1k4Kv"
      },
      "execution_count": 60,
      "outputs": []
    },
    {
      "cell_type": "code",
      "source": [
        "LSTM_Model.add(LSTM(units=96,\n",
        "                    return_sequences=True,\n",
        "                    input_shape=(X_train.shape[1], 1)))\n",
        "LSTM_Model.add(Dropout(0.2))\n",
        "LSTM_Model.add(LSTM(units=96, \n",
        "                    return_sequences=True))\n",
        "LSTM_Model.add(Dropout(0.2))\n",
        "LSTM_Model.add(LSTM(units=96, \n",
        "                    return_sequences=True))\n",
        "LSTM_Model.add(Dropout(0.2))\n",
        "LSTM_Model.add(LSTM(units=96))\n",
        "LSTM_Model.add(Dropout(0.2))\n",
        "LSTM_Model.add(Dense(units=1))"
      ],
      "metadata": {
        "id": "Mqt9G2i3lCzI"
      },
      "execution_count": 61,
      "outputs": []
    },
    {
      "cell_type": "code",
      "source": [
        "LSTM_Model.summary()"
      ],
      "metadata": {
        "colab": {
          "base_uri": "https://localhost:8080/"
        },
        "id": "nExXqMvslbno",
        "outputId": "abe21304-38fb-40d5-b5c6-4631691f0d72"
      },
      "execution_count": 62,
      "outputs": [
        {
          "output_type": "stream",
          "name": "stdout",
          "text": [
            "Model: \"sequential\"\n",
            "_________________________________________________________________\n",
            " Layer (type)                Output Shape              Param #   \n",
            "=================================================================\n",
            " lstm (LSTM)                 (None, 50, 96)            37632     \n",
            "                                                                 \n",
            " dropout (Dropout)           (None, 50, 96)            0         \n",
            "                                                                 \n",
            " lstm_1 (LSTM)               (None, 50, 96)            74112     \n",
            "                                                                 \n",
            " dropout_1 (Dropout)         (None, 50, 96)            0         \n",
            "                                                                 \n",
            " lstm_2 (LSTM)               (None, 50, 96)            74112     \n",
            "                                                                 \n",
            " dropout_2 (Dropout)         (None, 50, 96)            0         \n",
            "                                                                 \n",
            " lstm_3 (LSTM)               (None, 96)                74112     \n",
            "                                                                 \n",
            " dropout_3 (Dropout)         (None, 96)                0         \n",
            "                                                                 \n",
            " dense (Dense)               (None, 1)                 97        \n",
            "                                                                 \n",
            "=================================================================\n",
            "Total params: 260,065\n",
            "Trainable params: 260,065\n",
            "Non-trainable params: 0\n",
            "_________________________________________________________________\n"
          ]
        }
      ]
    },
    {
      "cell_type": "code",
      "source": [
        "LSTM_Model.compile(loss=MSE, optimizer=Adam())\n"
      ],
      "metadata": {
        "id": "IPAYYy_El82W"
      },
      "execution_count": 63,
      "outputs": []
    },
    {
      "cell_type": "code",
      "source": [
        "LSTM_Model.fit(X_train,y_train,batch_size=32,epochs=10,verbose=1,validation_split=0.05)"
      ],
      "metadata": {
        "colab": {
          "base_uri": "https://localhost:8080/"
        },
        "id": "RfCk-SQ-mUXT",
        "outputId": "68aff639-5c73-4672-898f-119fffd8b358"
      },
      "execution_count": 64,
      "outputs": [
        {
          "output_type": "stream",
          "name": "stdout",
          "text": [
            "Epoch 1/10\n",
            "1091/1091 [==============================] - 29s 17ms/step - loss: 0.0026 - val_loss: 2.7452e-04\n",
            "Epoch 2/10\n",
            "1091/1091 [==============================] - 16s 15ms/step - loss: 0.0011 - val_loss: 2.9177e-05\n",
            "Epoch 3/10\n",
            "1091/1091 [==============================] - 16s 15ms/step - loss: 8.5903e-04 - val_loss: 6.6974e-05\n",
            "Epoch 4/10\n",
            "1091/1091 [==============================] - 16s 15ms/step - loss: 7.1261e-04 - val_loss: 2.4865e-05\n",
            "Epoch 5/10\n",
            "1091/1091 [==============================] - 16s 15ms/step - loss: 6.1580e-04 - val_loss: 5.5597e-05\n",
            "Epoch 6/10\n",
            "1091/1091 [==============================] - 16s 15ms/step - loss: 5.4739e-04 - val_loss: 1.2504e-04\n",
            "Epoch 7/10\n",
            "1091/1091 [==============================] - 16s 15ms/step - loss: 4.8533e-04 - val_loss: 2.2948e-04\n",
            "Epoch 8/10\n",
            "1091/1091 [==============================] - 16s 14ms/step - loss: 4.6358e-04 - val_loss: 2.0581e-05\n",
            "Epoch 9/10\n",
            "1091/1091 [==============================] - 16s 15ms/step - loss: 4.4120e-04 - val_loss: 1.7022e-04\n",
            "Epoch 10/10\n",
            "1091/1091 [==============================] - 16s 15ms/step - loss: 4.2814e-04 - val_loss: 1.7172e-04\n"
          ]
        },
        {
          "output_type": "execute_result",
          "data": {
            "text/plain": [
              "<keras.callbacks.History at 0x7f9b40fd0c50>"
            ]
          },
          "metadata": {},
          "execution_count": 64
        }
      ]
    },
    {
      "cell_type": "code",
      "source": [
        "evaluate_model(LSTM_Model, \"LSTM\")\n"
      ],
      "metadata": {
        "colab": {
          "base_uri": "https://localhost:8080/",
          "height": 645
        },
        "id": "PgmOrA-Bmh-w",
        "outputId": "d9538bcf-7e99-4724-9d03-c43025407db4"
      },
      "execution_count": 65,
      "outputs": [
        {
          "output_type": "stream",
          "name": "stdout",
          "text": [
            "R Squared :  0.94104\n",
            "Mean Absolute Error:  0.03115\n"
          ]
        },
        {
          "output_type": "display_data",
          "data": {
            "text/plain": [
              "<Figure size 1440x720 with 1 Axes>"
            ],
            "image/png": "[encoded data removed]"
          },
          "metadata": {
            "needs_background": "light"
          }
        },
        {
          "output_type": "execute_result",
          "data": {
            "text/plain": [
              "(0.941035990697969, 0.031153884063177685)"
            ]
          },
          "metadata": {},
          "execution_count": 65
        }
      ]
    },
    {
      "cell_type": "markdown",
      "source": [
        "# Convolutional Neural Network\n"
      ],
      "metadata": {
        "id": "uesF0UqJlRat"
      }
    },
    {
      "cell_type": "code",
      "source": [
        "CNN_model=Sequential()"
      ],
      "metadata": {
        "id": "iaHRpoWwrx5e"
      },
      "execution_count": 66,
      "outputs": []
    },
    {
      "cell_type": "code",
      "source": [
        "CNN_model.add(Conv1D(filters=16, kernel_size=3, activation='relu', input_shape=X_train[0].shape))\n",
        "CNN_model.add(MaxPooling1D(3))\n",
        "CNN_model.add(Dropout(0.1))\n",
        "CNN_model.add(Conv1D(filters=32, kernel_size=3, activation='relu'))\n",
        "CNN_model.add(MaxPooling1D(3))\n",
        "CNN_model.add(Dropout(0.1))\n",
        "CNN_model.add(Flatten())\n",
        "CNN_model.add(Dense(32, activation='relu'))\n",
        "CNN_model.add(Dense(1, activation='relu'))\n"
      ],
      "metadata": {
        "id": "GdCsXMfalaE4"
      },
      "execution_count": 67,
      "outputs": []
    },
    {
      "cell_type": "code",
      "source": [
        "CNN_model.summary()"
      ],
      "metadata": {
        "colab": {
          "base_uri": "https://localhost:8080/"
        },
        "id": "FMdoDL7-mM1f",
        "outputId": "051ef609-c058-40fc-a2d6-6d6008072713"
      },
      "execution_count": 68,
      "outputs": [
        {
          "output_type": "stream",
          "name": "stdout",
          "text": [
            "Model: \"sequential_1\"\n",
            "_________________________________________________________________\n",
            " Layer (type)                Output Shape              Param #   \n",
            "=================================================================\n",
            " conv1d (Conv1D)             (None, 48, 16)            64        \n",
            "                                                                 \n",
            " max_pooling1d (MaxPooling1D  (None, 16, 16)           0         \n",
            " )                                                               \n",
            "                                                                 \n",
            " dropout_4 (Dropout)         (None, 16, 16)            0         \n",
            "                                                                 \n",
            " conv1d_1 (Conv1D)           (None, 14, 32)            1568      \n",
            "                                                                 \n",
            " max_pooling1d_1 (MaxPooling  (None, 4, 32)            0         \n",
            " 1D)                                                             \n",
            "                                                                 \n",
            " dropout_5 (Dropout)         (None, 4, 32)             0         \n",
            "                                                                 \n",
            " flatten (Flatten)           (None, 128)               0         \n",
            "                                                                 \n",
            " dense_1 (Dense)             (None, 32)                4128      \n",
            "                                                                 \n",
            " dense_2 (Dense)             (None, 1)                 33        \n",
            "                                                                 \n",
            "=================================================================\n",
            "Total params: 5,793\n",
            "Trainable params: 5,793\n",
            "Non-trainable params: 0\n",
            "_________________________________________________________________\n"
          ]
        }
      ]
    },
    {
      "cell_type": "code",
      "source": [
        "CNN_model.compile(optimizer='adam', loss='mse')\n"
      ],
      "metadata": {
        "id": "4NAnN8Nkmf5Z"
      },
      "execution_count": 69,
      "outputs": []
    },
    {
      "cell_type": "code",
      "source": [
        "CNN_model.fit(X_train, y_train, epochs=20, validation_split=0.1)\n"
      ],
      "metadata": {
        "colab": {
          "base_uri": "https://localhost:8080/"
        },
        "id": "4SlX2-LNmxge",
        "outputId": "5899a8b1-8204-44ca-b2b4-ea7820032842"
      },
      "execution_count": 70,
      "outputs": [
        {
          "output_type": "stream",
          "name": "stdout",
          "text": [
            "Epoch 1/20\n",
            "1034/1034 [==============================] - 13s 4ms/step - loss: 0.0026 - val_loss: 0.0137\n",
            "Epoch 2/20\n",
            "1034/1034 [==============================] - 4s 4ms/step - loss: 4.7127e-04 - val_loss: 0.0114\n",
            "Epoch 3/20\n",
            "1034/1034 [==============================] - 4s 4ms/step - loss: 3.4795e-04 - val_loss: 0.0066\n",
            "Epoch 4/20\n",
            "1034/1034 [==============================] - 4s 4ms/step - loss: 2.6582e-04 - val_loss: 0.0053\n",
            "Epoch 5/20\n",
            "1034/1034 [==============================] - 4s 3ms/step - loss: 2.1781e-04 - val_loss: 0.0020\n",
            "Epoch 6/20\n",
            "1034/1034 [==============================] - 4s 3ms/step - loss: 1.7993e-04 - val_loss: 0.0025\n",
            "Epoch 7/20\n",
            "1034/1034 [==============================] - 4s 3ms/step - loss: 1.6765e-04 - val_loss: 0.0021\n",
            "Epoch 8/20\n",
            "1034/1034 [==============================] - 4s 4ms/step - loss: 1.5425e-04 - val_loss: 0.0025\n",
            "Epoch 9/20\n",
            "1034/1034 [==============================] - 4s 4ms/step - loss: 1.5152e-04 - val_loss: 9.9478e-04\n",
            "Epoch 10/20\n",
            "1034/1034 [==============================] - 4s 3ms/step - loss: 1.5224e-04 - val_loss: 0.0017\n",
            "Epoch 11/20\n",
            "1034/1034 [==============================] - 4s 3ms/step - loss: 1.3565e-04 - val_loss: 0.0015\n",
            "Epoch 12/20\n",
            "1034/1034 [==============================] - 4s 4ms/step - loss: 1.3494e-04 - val_loss: 0.0021\n",
            "Epoch 13/20\n",
            "1034/1034 [==============================] - 4s 4ms/step - loss: 1.3057e-04 - val_loss: 0.0018\n",
            "Epoch 14/20\n",
            "1034/1034 [==============================] - 4s 4ms/step - loss: 1.3152e-04 - val_loss: 7.2797e-04\n",
            "Epoch 15/20\n",
            "1034/1034 [==============================] - 4s 3ms/step - loss: 1.1886e-04 - val_loss: 0.0014\n",
            "Epoch 16/20\n",
            "1034/1034 [==============================] - 4s 4ms/step - loss: 1.2162e-04 - val_loss: 6.5678e-04\n",
            "Epoch 17/20\n",
            "1034/1034 [==============================] - 4s 4ms/step - loss: 1.1852e-04 - val_loss: 0.0011\n",
            "Epoch 18/20\n",
            "1034/1034 [==============================] - 4s 3ms/step - loss: 1.1557e-04 - val_loss: 0.0012\n",
            "Epoch 19/20\n",
            "1034/1034 [==============================] - 4s 3ms/step - loss: 1.1485e-04 - val_loss: 0.0011\n",
            "Epoch 20/20\n",
            "1034/1034 [==============================] - 4s 4ms/step - loss: 1.1327e-04 - val_loss: 8.8024e-04\n"
          ]
        },
        {
          "output_type": "execute_result",
          "data": {
            "text/plain": [
              "<keras.callbacks.History at 0x7f9b40b82990>"
            ]
          },
          "metadata": {},
          "execution_count": 70
        }
      ]
    },
    {
      "cell_type": "code",
      "source": [
        "evaluate_model(CNN_model, \"CNN\")\n"
      ],
      "metadata": {
        "colab": {
          "base_uri": "https://localhost:8080/",
          "height": 645
        },
        "id": "xxKrmEP0nA7C",
        "outputId": "6a97a37e-d930-4491-fdb6-4f28ce90f869"
      },
      "execution_count": 71,
      "outputs": [
        {
          "output_type": "stream",
          "name": "stdout",
          "text": [
            "R Squared :  0.88679\n",
            "Mean Absolute Error:  0.05109\n"
          ]
        },
        {
          "output_type": "display_data",
          "data": {
            "text/plain": [
              "<Figure size 1440x720 with 1 Axes>"
            ],
            "image/png": "[encoded data removed]"
          },
          "metadata": {
            "needs_background": "light"
          }
        },
        {
          "output_type": "execute_result",
          "data": {
            "text/plain": [
              "(0.8867939984139572, 0.05109414281636973)"
            ]
          },
          "metadata": {},
          "execution_count": 71
        }
      ]
    },
    {
      "cell_type": "markdown",
      "source": [
        "# Neural Prophet\n"
      ],
      "metadata": {
        "id": "cVLNZKBno_RF"
      }
    },
    {
      "cell_type": "code",
      "source": [
        "!pip install neuralprophet"
      ],
      "metadata": {
        "colab": {
          "base_uri": "https://localhost:8080/"
        },
        "id": "m3VWzLPBokGh",
        "outputId": "b94bb2e3-c9a2-4199-cc2e-e29957115bc4"
      },
      "execution_count": 72,
      "outputs": [
        {
          "output_type": "stream",
          "name": "stdout",
          "text": [
            "Looking in indexes: https://pypi.org/simple, https://us-python.pkg.dev/colab-wheels/public/simple/\n",
            "Requirement already satisfied: neuralprophet in /usr/local/lib/python3.7/dist-packages (0.3.2)\n",
            "Requirement already satisfied: torch>=1.4.0 in /usr/local/lib/python3.7/dist-packages (from neuralprophet) (1.12.1+cu113)\n",
            "Requirement already satisfied: numpy>=1.15.4 in /usr/local/lib/python3.7/dist-packages (from neuralprophet) (1.21.6)\n",
            "Requirement already satisfied: dataclasses>=0.6 in /usr/local/lib/python3.7/dist-packages (from neuralprophet) (0.6)\n",
            "Requirement already satisfied: holidays>=0.11.3.1 in /usr/local/lib/python3.7/dist-packages (from neuralprophet) (0.14.2)\n",
            "Requirement already satisfied: pandas>=1.0.4 in /usr/local/lib/python3.7/dist-packages (from neuralprophet) (1.3.5)\n",
            "Requirement already satisfied: python-dateutil>=2.8.0 in /usr/local/lib/python3.7/dist-packages (from neuralprophet) (2.8.2)\n",
            "Requirement already satisfied: matplotlib>=2.0.0 in /usr/local/lib/python3.7/dist-packages (from neuralprophet) (3.2.2)\n",
            "Requirement already satisfied: convertdate>=2.1.2 in /usr/local/lib/python3.7/dist-packages (from neuralprophet) (2.4.0)\n",
            "Requirement already satisfied: ipywidgets>=7.5.1 in /usr/local/lib/python3.7/dist-packages (from neuralprophet) (7.7.1)\n",
            "Requirement already satisfied: LunarCalendar>=0.0.9 in /usr/local/lib/python3.7/dist-packages (from neuralprophet) (0.0.9)\n",
            "Requirement already satisfied: torch-lr-finder>=0.2.1 in /usr/local/lib/python3.7/dist-packages (from neuralprophet) (0.2.1)\n",
            "Requirement already satisfied: tqdm>=4.50.2 in /usr/local/lib/python3.7/dist-packages (from neuralprophet) (4.64.0)\n",
            "Requirement already satisfied: pymeeus<=1,>=0.3.13 in /usr/local/lib/python3.7/dist-packages (from convertdate>=2.1.2->neuralprophet) (0.5.11)\n",
            "Requirement already satisfied: korean-lunar-calendar in /usr/local/lib/python3.7/dist-packages (from holidays>=0.11.3.1->neuralprophet) (0.2.1)\n",
            "Requirement already satisfied: hijri-converter in /usr/local/lib/python3.7/dist-packages (from holidays>=0.11.3.1->neuralprophet) (2.2.4)\n",
            "Requirement already satisfied: ipython-genutils~=0.2.0 in /usr/local/lib/python3.7/dist-packages (from ipywidgets>=7.5.1->neuralprophet) (0.2.0)\n",
            "Requirement already satisfied: traitlets>=4.3.1 in /usr/local/lib/python3.7/dist-packages (from ipywidgets>=7.5.1->neuralprophet) (5.1.1)\n",
            "Requirement already satisfied: widgetsnbextension~=3.6.0 in /usr/local/lib/python3.7/dist-packages (from ipywidgets>=7.5.1->neuralprophet) (3.6.1)\n",
            "Requirement already satisfied: ipykernel>=4.5.1 in /usr/local/lib/python3.7/dist-packages (from ipywidgets>=7.5.1->neuralprophet) (5.3.4)\n",
            "Requirement already satisfied: ipython>=4.0.0 in /usr/local/lib/python3.7/dist-packages (from ipywidgets>=7.5.1->neuralprophet) (7.9.0)\n",
            "Requirement already satisfied: jupyterlab-widgets>=1.0.0 in /usr/local/lib/python3.7/dist-packages (from ipywidgets>=7.5.1->neuralprophet) (3.0.2)\n",
            "Requirement already satisfied: jupyter-client in /usr/local/lib/python3.7/dist-packages (from ipykernel>=4.5.1->ipywidgets>=7.5.1->neuralprophet) (6.1.12)\n",
            "Requirement already satisfied: tornado>=4.2 in /usr/local/lib/python3.7/dist-packages (from ipykernel>=4.5.1->ipywidgets>=7.5.1->neuralprophet) (5.1.1)\n",
            "Requirement already satisfied: backcall in /usr/local/lib/python3.7/dist-packages (from ipython>=4.0.0->ipywidgets>=7.5.1->neuralprophet) (0.2.0)\n",
            "Requirement already satisfied: setuptools>=18.5 in /usr/local/lib/python3.7/dist-packages (from ipython>=4.0.0->ipywidgets>=7.5.1->neuralprophet) (57.4.0)\n",
            "Requirement already satisfied: jedi>=0.10 in /usr/local/lib/python3.7/dist-packages (from ipython>=4.0.0->ipywidgets>=7.5.1->neuralprophet) (0.18.1)\n",
            "Requirement already satisfied: prompt-toolkit<2.1.0,>=2.0.0 in /usr/local/lib/python3.7/dist-packages (from ipython>=4.0.0->ipywidgets>=7.5.1->neuralprophet) (2.0.10)\n",
            "Requirement already satisfied: pickleshare in /usr/local/lib/python3.7/dist-packages (from ipython>=4.0.0->ipywidgets>=7.5.1->neuralprophet) (0.7.5)\n",
            "Requirement already satisfied: pexpect in /usr/local/lib/python3.7/dist-packages (from ipython>=4.0.0->ipywidgets>=7.5.1->neuralprophet) (4.8.0)\n",
            "Requirement already satisfied: pygments in /usr/local/lib/python3.7/dist-packages (from ipython>=4.0.0->ipywidgets>=7.5.1->neuralprophet) (2.6.1)\n",
            "Requirement already satisfied: decorator in /usr/local/lib/python3.7/dist-packages (from ipython>=4.0.0->ipywidgets>=7.5.1->neuralprophet) (4.4.2)\n",
            "Requirement already satisfied: parso<0.9.0,>=0.8.0 in /usr/local/lib/python3.7/dist-packages (from jedi>=0.10->ipython>=4.0.0->ipywidgets>=7.5.1->neuralprophet) (0.8.3)\n",
            "Requirement already satisfied: pytz in /usr/local/lib/python3.7/dist-packages (from LunarCalendar>=0.0.9->neuralprophet) (2022.2.1)\n",
            "Requirement already satisfied: ephem>=3.7.5.3 in /usr/local/lib/python3.7/dist-packages (from LunarCalendar>=0.0.9->neuralprophet) (4.1.3)\n",
            "Requirement already satisfied: kiwisolver>=1.0.1 in /usr/local/lib/python3.7/dist-packages (from matplotlib>=2.0.0->neuralprophet) (1.4.4)\n",
            "Requirement already satisfied: pyparsing!=2.0.4,!=2.1.2,!=2.1.6,>=2.0.1 in /usr/local/lib/python3.7/dist-packages (from matplotlib>=2.0.0->neuralprophet) (3.0.9)\n",
            "Requirement already satisfied: cycler>=0.10 in /usr/local/lib/python3.7/dist-packages (from matplotlib>=2.0.0->neuralprophet) (0.11.0)\n",
            "Requirement already satisfied: typing-extensions in /usr/local/lib/python3.7/dist-packages (from kiwisolver>=1.0.1->matplotlib>=2.0.0->neuralprophet) (4.1.1)\n",
            "Requirement already satisfied: six>=1.9.0 in /usr/local/lib/python3.7/dist-packages (from prompt-toolkit<2.1.0,>=2.0.0->ipython>=4.0.0->ipywidgets>=7.5.1->neuralprophet) (1.15.0)\n",
            "Requirement already satisfied: wcwidth in /usr/local/lib/python3.7/dist-packages (from prompt-toolkit<2.1.0,>=2.0.0->ipython>=4.0.0->ipywidgets>=7.5.1->neuralprophet) (0.2.5)\n",
            "Requirement already satisfied: packaging in /usr/local/lib/python3.7/dist-packages (from torch-lr-finder>=0.2.1->neuralprophet) (21.3)\n",
            "Requirement already satisfied: notebook>=4.4.1 in /usr/local/lib/python3.7/dist-packages (from widgetsnbextension~=3.6.0->ipywidgets>=7.5.1->neuralprophet) (5.3.1)\n",
            "Requirement already satisfied: terminado>=0.8.1 in /usr/local/lib/python3.7/dist-packages (from notebook>=4.4.1->widgetsnbextension~=3.6.0->ipywidgets>=7.5.1->neuralprophet) (0.13.3)\n",
            "Requirement already satisfied: jinja2 in /usr/local/lib/python3.7/dist-packages (from notebook>=4.4.1->widgetsnbextension~=3.6.0->ipywidgets>=7.5.1->neuralprophet) (2.11.3)\n",
            "Requirement already satisfied: nbformat in /usr/local/lib/python3.7/dist-packages (from notebook>=4.4.1->widgetsnbextension~=3.6.0->ipywidgets>=7.5.1->neuralprophet) (5.4.0)\n",
            "Requirement already satisfied: nbconvert in /usr/local/lib/python3.7/dist-packages (from notebook>=4.4.1->widgetsnbextension~=3.6.0->ipywidgets>=7.5.1->neuralprophet) (5.6.1)\n",
            "Requirement already satisfied: Send2Trash in /usr/local/lib/python3.7/dist-packages (from notebook>=4.4.1->widgetsnbextension~=3.6.0->ipywidgets>=7.5.1->neuralprophet) (1.8.0)\n",
            "Requirement already satisfied: jupyter-core>=4.4.0 in /usr/local/lib/python3.7/dist-packages (from notebook>=4.4.1->widgetsnbextension~=3.6.0->ipywidgets>=7.5.1->neuralprophet) (4.11.1)\n",
            "Requirement already satisfied: pyzmq>=13 in /usr/local/lib/python3.7/dist-packages (from jupyter-client->ipykernel>=4.5.1->ipywidgets>=7.5.1->neuralprophet) (23.2.1)\n",
            "Requirement already satisfied: ptyprocess in /usr/local/lib/python3.7/dist-packages (from terminado>=0.8.1->notebook>=4.4.1->widgetsnbextension~=3.6.0->ipywidgets>=7.5.1->neuralprophet) (0.7.0)\n",
            "Requirement already satisfied: MarkupSafe>=0.23 in /usr/local/lib/python3.7/dist-packages (from jinja2->notebook>=4.4.1->widgetsnbextension~=3.6.0->ipywidgets>=7.5.1->neuralprophet) (2.0.1)\n",
            "Requirement already satisfied: bleach in /usr/local/lib/python3.7/dist-packages (from nbconvert->notebook>=4.4.1->widgetsnbextension~=3.6.0->ipywidgets>=7.5.1->neuralprophet) (5.0.1)\n",
            "Requirement already satisfied: testpath in /usr/local/lib/python3.7/dist-packages (from nbconvert->notebook>=4.4.1->widgetsnbextension~=3.6.0->ipywidgets>=7.5.1->neuralprophet) (0.6.0)\n",
            "Requirement already satisfied: pandocfilters>=1.4.1 in /usr/local/lib/python3.7/dist-packages (from nbconvert->notebook>=4.4.1->widgetsnbextension~=3.6.0->ipywidgets>=7.5.1->neuralprophet) (1.5.0)\n",
            "Requirement already satisfied: defusedxml in /usr/local/lib/python3.7/dist-packages (from nbconvert->notebook>=4.4.1->widgetsnbextension~=3.6.0->ipywidgets>=7.5.1->neuralprophet) (0.7.1)\n",
            "Requirement already satisfied: entrypoints>=0.2.2 in /usr/local/lib/python3.7/dist-packages (from nbconvert->notebook>=4.4.1->widgetsnbextension~=3.6.0->ipywidgets>=7.5.1->neuralprophet) (0.4)\n",
            "Requirement already satisfied: mistune<2,>=0.8.1 in /usr/local/lib/python3.7/dist-packages (from nbconvert->notebook>=4.4.1->widgetsnbextension~=3.6.0->ipywidgets>=7.5.1->neuralprophet) (0.8.4)\n",
            "Requirement already satisfied: fastjsonschema in /usr/local/lib/python3.7/dist-packages (from nbformat->notebook>=4.4.1->widgetsnbextension~=3.6.0->ipywidgets>=7.5.1->neuralprophet) (2.16.1)\n",
            "Requirement already satisfied: jsonschema>=2.6 in /usr/local/lib/python3.7/dist-packages (from nbformat->notebook>=4.4.1->widgetsnbextension~=3.6.0->ipywidgets>=7.5.1->neuralprophet) (4.3.3)\n",
            "Requirement already satisfied: attrs>=17.4.0 in /usr/local/lib/python3.7/dist-packages (from jsonschema>=2.6->nbformat->notebook>=4.4.1->widgetsnbextension~=3.6.0->ipywidgets>=7.5.1->neuralprophet) (22.1.0)\n",
            "Requirement already satisfied: pyrsistent!=0.17.0,!=0.17.1,!=0.17.2,>=0.14.0 in /usr/local/lib/python3.7/dist-packages (from jsonschema>=2.6->nbformat->notebook>=4.4.1->widgetsnbextension~=3.6.0->ipywidgets>=7.5.1->neuralprophet) (0.18.1)\n",
            "Requirement already satisfied: importlib-resources>=1.4.0 in /usr/local/lib/python3.7/dist-packages (from jsonschema>=2.6->nbformat->notebook>=4.4.1->widgetsnbextension~=3.6.0->ipywidgets>=7.5.1->neuralprophet) (5.9.0)\n",
            "Requirement already satisfied: importlib-metadata in /usr/local/lib/python3.7/dist-packages (from jsonschema>=2.6->nbformat->notebook>=4.4.1->widgetsnbextension~=3.6.0->ipywidgets>=7.5.1->neuralprophet) (4.12.0)\n",
            "Requirement already satisfied: zipp>=3.1.0 in /usr/local/lib/python3.7/dist-packages (from importlib-resources>=1.4.0->jsonschema>=2.6->nbformat->notebook>=4.4.1->widgetsnbextension~=3.6.0->ipywidgets>=7.5.1->neuralprophet) (3.8.1)\n",
            "Requirement already satisfied: webencodings in /usr/local/lib/python3.7/dist-packages (from bleach->nbconvert->notebook>=4.4.1->widgetsnbextension~=3.6.0->ipywidgets>=7.5.1->neuralprophet) (0.5.1)\n"
          ]
        }
      ]
    },
    {
      "cell_type": "code",
      "source": [
        "from neuralprophet import NeuralProphet"
      ],
      "metadata": {
        "id": "WeggjOSTpHYV"
      },
      "execution_count": 73,
      "outputs": []
    },
    {
      "cell_type": "code",
      "source": [
        "neuralprophet = NeuralProphet()\n",
        "neuralprophet.fit(df_prophet, freq=\"H\")\n"
      ],
      "metadata": {
        "colab": {
          "base_uri": "https://localhost:8080/",
          "height": 687,
          "referenced_widgets": [
            "df584a9f849c4f87a3f21d1a1dbb1fcc",
            "d403877ab57c4019bada00d13947f883",
            "99c6d545d6e74a878fd574a4f27ff443",
            "9df3c7ccf51940bd985c55dc19b8b22e",
            "95bc980192fa4a9ba4d14035800bfe03",
            "c1b7099e68aa4cbda22668eed2007b6e",
            "705b34379bd344f3b1983a6a8319216f",
            "f23b896fde664ec3ac53a4281ab95116",
            "bee80789376446228cf2e27ff18da039",
            "9573a9f65a6946379b52ea9e45d2766a",
            "eae808f224fc4d54910e0f5ed81fbee1",
            "4adfc05a32a14c7bad9f33303ff4f466",
            "9b3e9e3d55934f1984738f5b4179d82d",
            "836856a75d83481d9fe8e5deb1d9ab03",
            "7095242e9fff48f2838aa4e122c0264b",
            "ae70cbdc9ee44792a034d250ccac61f0",
            "27fc2ab3b32d4ebfb432f7e36f34480a",
            "a17725cb2d57460bb6047ad7ff5bbc9f",
            "86a8f9685fee43f7b450227181423e24",
            "54aeefcecd494901976787925c836bd4",
            "b126addfbf944609bf1dc7c1fded08ed",
            "b4a1a35beecc4ad9bf8ac5350901f6a3"
          ]
        },
        "id": "j38V9w3ZpNy0",
        "outputId": "a39e6c6e-2174-49fe-cb82-d4c9a9aa275f"
      },
      "execution_count": 74,
      "outputs": [
        {
          "output_type": "stream",
          "name": "stderr",
          "text": [
            "INFO - (NP.df_utils._infer_frequency) - Major frequency H corresponds to 99.997% of the data.\n",
            "INFO:NP.df_utils:Major frequency H corresponds to 99.997% of the data.\n",
            "INFO - (NP.df_utils._infer_frequency) - Defined frequency is equal to major frequency - H\n",
            "INFO:NP.df_utils:Defined frequency is equal to major frequency - H\n",
            "INFO - (NP.config.init_data_params) - Setting normalization to global as only one dataframe provided for training.\n",
            "INFO:NP.config:Setting normalization to global as only one dataframe provided for training.\n",
            "INFO - (NP.config.set_auto_batch_epoch) - Auto-set batch_size to 64\n",
            "INFO:NP.config:Auto-set batch_size to 64\n",
            "INFO - (NP.config.set_auto_batch_epoch) - Auto-set epochs to 74\n",
            "INFO:NP.config:Auto-set epochs to 74\n"
          ]
        },
        {
          "output_type": "display_data",
          "data": {
            "text/plain": [
              "  0%|          | 0/164 [00:00<?, ?it/s]"
            ],
            "application/vnd.jupyter.widget-view+json": {
              "version_major": 2,
              "version_minor": 0,
              "model_id": "df584a9f849c4f87a3f21d1a1dbb1fcc"
            }
          },
          "metadata": {}
        },
        {
          "output_type": "stream",
          "name": "stderr",
          "text": [
            "INFO - (NP.utils_torch.lr_range_test) - lr-range-test results: steep: 8.09E-02, min: 1.33E+00\n",
            "INFO:NP.utils_torch:lr-range-test results: steep: 8.09E-02, min: 1.33E+00\n"
          ]
        },
        {
          "output_type": "display_data",
          "data": {
            "text/plain": [
              "  0%|          | 0/164 [00:00<?, ?it/s]"
            ],
            "application/vnd.jupyter.widget-view+json": {
              "version_major": 2,
              "version_minor": 0,
              "model_id": "4adfc05a32a14c7bad9f33303ff4f466"
            }
          },
          "metadata": {}
        },
        {
          "output_type": "stream",
          "name": "stderr",
          "text": [
            "INFO - (NP.utils_torch.lr_range_test) - lr-range-test results: steep: 8.09E-02, min: 1.71E+00\n",
            "INFO:NP.utils_torch:lr-range-test results: steep: 8.09E-02, min: 1.71E+00\n",
            "INFO - (NP.forecaster._init_train_loader) - lr-range-test selected learning rate: 8.68E-02\n",
            "INFO:NP.forecaster:lr-range-test selected learning rate: 8.68E-02\n",
            "Epoch[7/74]:   9%|▉         | 7/74 [00:09<01:32,  1.39s/it, SmoothL1Loss=0.00792, MAE=953, RMSE=1.35e+3, RegLoss=0]\n"
          ]
        },
        {
          "output_type": "error",
          "ename": "KeyboardInterrupt",
          "evalue": "ignored",
          "traceback": [
            "\u001b[0;31m---------------------------------------------------------------------------\u001b[0m",
            "\u001b[0;31mKeyboardInterrupt\u001b[0m                         Traceback (most recent call last)",
            "\u001b[0;32m<ipython-input-74-dbff5438b944>\u001b[0m in \u001b[0;36m<module>\u001b[0;34m\u001b[0m\n\u001b[1;32m      1\u001b[0m \u001b[0mneuralprophet\u001b[0m \u001b[0;34m=\u001b[0m \u001b[0mNeuralProphet\u001b[0m\u001b[0;34m(\u001b[0m\u001b[0;34m)\u001b[0m\u001b[0;34m\u001b[0m\u001b[0;34m\u001b[0m\u001b[0m\n\u001b[0;32m----> 2\u001b[0;31m \u001b[0mneuralprophet\u001b[0m\u001b[0;34m.\u001b[0m\u001b[0mfit\u001b[0m\u001b[0;34m(\u001b[0m\u001b[0mdf_prophet\u001b[0m\u001b[0;34m,\u001b[0m \u001b[0mfreq\u001b[0m\u001b[0;34m=\u001b[0m\u001b[0;34m\"H\"\u001b[0m\u001b[0;34m)\u001b[0m\u001b[0;34m\u001b[0m\u001b[0;34m\u001b[0m\u001b[0m\n\u001b[0m",
            "\u001b[0;32m/usr/local/lib/python3.7/dist-packages/neuralprophet/forecaster.py\u001b[0m in \u001b[0;36mfit\u001b[0;34m(self, df, freq, validation_df, progress, minimal)\u001b[0m\n\u001b[1;32m    590\u001b[0m                 \u001b[0mmetrics_df\u001b[0m \u001b[0;34m=\u001b[0m \u001b[0;32mNone\u001b[0m\u001b[0;34m\u001b[0m\u001b[0;34m\u001b[0m\u001b[0m\n\u001b[1;32m    591\u001b[0m             \u001b[0;32melse\u001b[0m\u001b[0;34m:\u001b[0m\u001b[0;34m\u001b[0m\u001b[0;34m\u001b[0m\u001b[0m\n\u001b[0;32m--> 592\u001b[0;31m                 \u001b[0mmetrics_df\u001b[0m \u001b[0;34m=\u001b[0m \u001b[0mself\u001b[0m\u001b[0;34m.\u001b[0m\u001b[0m_train\u001b[0m\u001b[0;34m(\u001b[0m\u001b[0mdf_dict\u001b[0m\u001b[0;34m,\u001b[0m \u001b[0mprogress\u001b[0m\u001b[0;34m=\u001b[0m\u001b[0mprogress\u001b[0m\u001b[0;34m)\u001b[0m\u001b[0;34m\u001b[0m\u001b[0;34m\u001b[0m\u001b[0m\n\u001b[0m\u001b[1;32m    593\u001b[0m         \u001b[0;32melse\u001b[0m\u001b[0;34m:\u001b[0m\u001b[0;34m\u001b[0m\u001b[0;34m\u001b[0m\u001b[0m\n\u001b[1;32m    594\u001b[0m             \u001b[0mdf_val_dict\u001b[0m\u001b[0;34m,\u001b[0m \u001b[0m_\u001b[0m \u001b[0;34m=\u001b[0m \u001b[0mdf_utils\u001b[0m\u001b[0;34m.\u001b[0m\u001b[0mprep_copy_df_dict\u001b[0m\u001b[0;34m(\u001b[0m\u001b[0mvalidation_df\u001b[0m\u001b[0;34m)\u001b[0m\u001b[0;34m\u001b[0m\u001b[0;34m\u001b[0m\u001b[0m\n",
            "\u001b[0;32m/usr/local/lib/python3.7/dist-packages/neuralprophet/forecaster.py\u001b[0m in \u001b[0;36m_train\u001b[0;34m(self, df_dict, df_val_dict, progress)\u001b[0m\n\u001b[1;32m   1860\u001b[0m                 \u001b[0mval_metrics\u001b[0m\u001b[0;34m.\u001b[0m\u001b[0mreset\u001b[0m\u001b[0;34m(\u001b[0m\u001b[0;34m)\u001b[0m\u001b[0;34m\u001b[0m\u001b[0;34m\u001b[0m\u001b[0m\n\u001b[1;32m   1861\u001b[0m             \u001b[0;31m# run epoch\u001b[0m\u001b[0;34m\u001b[0m\u001b[0;34m\u001b[0m\u001b[0;34m\u001b[0m\u001b[0m\n\u001b[0;32m-> 1862\u001b[0;31m             \u001b[0mepoch_metrics\u001b[0m \u001b[0;34m=\u001b[0m \u001b[0mself\u001b[0m\u001b[0;34m.\u001b[0m\u001b[0m_train_epoch\u001b[0m\u001b[0;34m(\u001b[0m\u001b[0me\u001b[0m\u001b[0;34m,\u001b[0m \u001b[0mloader\u001b[0m\u001b[0;34m)\u001b[0m\u001b[0;34m\u001b[0m\u001b[0;34m\u001b[0m\u001b[0m\n\u001b[0m\u001b[1;32m   1863\u001b[0m             \u001b[0;31m# collect metrics\u001b[0m\u001b[0;34m\u001b[0m\u001b[0;34m\u001b[0m\u001b[0;34m\u001b[0m\u001b[0m\n\u001b[1;32m   1864\u001b[0m             \u001b[0;32mif\u001b[0m \u001b[0mvalidate\u001b[0m\u001b[0;34m:\u001b[0m\u001b[0;34m\u001b[0m\u001b[0;34m\u001b[0m\u001b[0m\n",
            "\u001b[0;32m/usr/local/lib/python3.7/dist-packages/neuralprophet/forecaster.py\u001b[0m in \u001b[0;36m_train_epoch\u001b[0;34m(self, e, loader)\u001b[0m\n\u001b[1;32m   1667\u001b[0m             \u001b[0;32mif\u001b[0m \u001b[0mself\u001b[0m\u001b[0;34m.\u001b[0m\u001b[0mmetrics\u001b[0m \u001b[0;32mis\u001b[0m \u001b[0;32mnot\u001b[0m \u001b[0;32mNone\u001b[0m\u001b[0;34m:\u001b[0m\u001b[0;34m\u001b[0m\u001b[0;34m\u001b[0m\u001b[0m\n\u001b[1;32m   1668\u001b[0m                 self.metrics.update(\n\u001b[0;32m-> 1669\u001b[0;31m                     \u001b[0mpredicted\u001b[0m\u001b[0;34m=\u001b[0m\u001b[0mpredicted\u001b[0m\u001b[0;34m.\u001b[0m\u001b[0mdetach\u001b[0m\u001b[0;34m(\u001b[0m\u001b[0;34m)\u001b[0m\u001b[0;34m,\u001b[0m \u001b[0mtarget\u001b[0m\u001b[0;34m=\u001b[0m\u001b[0mtargets\u001b[0m\u001b[0;34m.\u001b[0m\u001b[0mdetach\u001b[0m\u001b[0;34m(\u001b[0m\u001b[0;34m)\u001b[0m\u001b[0;34m,\u001b[0m \u001b[0mvalues\u001b[0m\u001b[0;34m=\u001b[0m\u001b[0;34m{\u001b[0m\u001b[0;34m\"Loss\"\u001b[0m\u001b[0;34m:\u001b[0m \u001b[0mloss\u001b[0m\u001b[0;34m,\u001b[0m \u001b[0;34m\"RegLoss\"\u001b[0m\u001b[0;34m:\u001b[0m \u001b[0mreg_loss\u001b[0m\u001b[0;34m}\u001b[0m\u001b[0;34m\u001b[0m\u001b[0;34m\u001b[0m\u001b[0m\n\u001b[0m\u001b[1;32m   1670\u001b[0m                 )\n\u001b[1;32m   1671\u001b[0m         \u001b[0;32mif\u001b[0m \u001b[0mself\u001b[0m\u001b[0;34m.\u001b[0m\u001b[0mmetrics\u001b[0m \u001b[0;32mis\u001b[0m \u001b[0;32mnot\u001b[0m \u001b[0;32mNone\u001b[0m\u001b[0;34m:\u001b[0m\u001b[0;34m\u001b[0m\u001b[0;34m\u001b[0m\u001b[0m\n",
            "\u001b[0;32m/usr/local/lib/python3.7/dist-packages/neuralprophet/metrics.py\u001b[0m in \u001b[0;36mupdate\u001b[0;34m(self, predicted, target, values)\u001b[0m\n\u001b[1;32m     80\u001b[0m \u001b[0;34m\u001b[0m\u001b[0m\n\u001b[1;32m     81\u001b[0m         \"\"\"\n\u001b[0;32m---> 82\u001b[0;31m         \u001b[0mself\u001b[0m\u001b[0;34m.\u001b[0m\u001b[0mupdate_batch\u001b[0m\u001b[0;34m(\u001b[0m\u001b[0mpredicted\u001b[0m\u001b[0;34m=\u001b[0m\u001b[0mpredicted\u001b[0m\u001b[0;34m,\u001b[0m \u001b[0mtarget\u001b[0m\u001b[0;34m=\u001b[0m\u001b[0mtarget\u001b[0m\u001b[0;34m)\u001b[0m\u001b[0;34m\u001b[0m\u001b[0;34m\u001b[0m\u001b[0m\n\u001b[0m\u001b[1;32m     83\u001b[0m         \u001b[0;32mif\u001b[0m \u001b[0mvalues\u001b[0m \u001b[0;32mis\u001b[0m \u001b[0;32mnot\u001b[0m \u001b[0;32mNone\u001b[0m\u001b[0;34m:\u001b[0m\u001b[0;34m\u001b[0m\u001b[0;34m\u001b[0m\u001b[0m\n\u001b[1;32m     84\u001b[0m             \u001b[0mself\u001b[0m\u001b[0;34m.\u001b[0m\u001b[0mupdate_values\u001b[0m\u001b[0;34m(\u001b[0m\u001b[0mvalues\u001b[0m\u001b[0;34m=\u001b[0m\u001b[0mvalues\u001b[0m\u001b[0;34m,\u001b[0m \u001b[0mnum\u001b[0m\u001b[0;34m=\u001b[0m\u001b[0mtarget\u001b[0m\u001b[0;34m.\u001b[0m\u001b[0mshape\u001b[0m\u001b[0;34m[\u001b[0m\u001b[0;36m0\u001b[0m\u001b[0;34m]\u001b[0m\u001b[0;34m)\u001b[0m\u001b[0;34m\u001b[0m\u001b[0;34m\u001b[0m\u001b[0m\n",
            "\u001b[0;32m/usr/local/lib/python3.7/dist-packages/neuralprophet/metrics.py\u001b[0m in \u001b[0;36mupdate_batch\u001b[0;34m(self, predicted, target)\u001b[0m\n\u001b[1;32m     43\u001b[0m         \u001b[0;34m\"\"\"update BatchMetrics\"\"\"\u001b[0m\u001b[0;34m\u001b[0m\u001b[0;34m\u001b[0m\u001b[0m\n\u001b[1;32m     44\u001b[0m         \u001b[0;32mfor\u001b[0m \u001b[0mm\u001b[0m \u001b[0;32min\u001b[0m \u001b[0mself\u001b[0m\u001b[0;34m.\u001b[0m\u001b[0mbatch_metrics\u001b[0m\u001b[0;34m:\u001b[0m\u001b[0;34m\u001b[0m\u001b[0;34m\u001b[0m\u001b[0m\n\u001b[0;32m---> 45\u001b[0;31m             \u001b[0mm\u001b[0m\u001b[0;34m.\u001b[0m\u001b[0mupdate\u001b[0m\u001b[0;34m(\u001b[0m\u001b[0mpredicted\u001b[0m\u001b[0;34m=\u001b[0m\u001b[0mpredicted\u001b[0m\u001b[0;34m,\u001b[0m \u001b[0mtarget\u001b[0m\u001b[0;34m=\u001b[0m\u001b[0mtarget\u001b[0m\u001b[0;34m)\u001b[0m\u001b[0;34m\u001b[0m\u001b[0;34m\u001b[0m\u001b[0m\n\u001b[0m\u001b[1;32m     46\u001b[0m \u001b[0;34m\u001b[0m\u001b[0m\n\u001b[1;32m     47\u001b[0m     \u001b[0;32mdef\u001b[0m \u001b[0mupdate_values\u001b[0m\u001b[0;34m(\u001b[0m\u001b[0mself\u001b[0m\u001b[0;34m,\u001b[0m \u001b[0mvalues\u001b[0m\u001b[0;34m,\u001b[0m \u001b[0mnum\u001b[0m\u001b[0;34m)\u001b[0m\u001b[0;34m:\u001b[0m\u001b[0;34m\u001b[0m\u001b[0;34m\u001b[0m\u001b[0m\n",
            "\u001b[0;32m/usr/local/lib/python3.7/dist-packages/neuralprophet/metrics.py\u001b[0m in \u001b[0;36mupdate\u001b[0;34m(self, predicted, target, **kwargs)\u001b[0m\n\u001b[1;32m    298\u001b[0m         \u001b[0mavg_value\u001b[0m \u001b[0;34m=\u001b[0m \u001b[0mself\u001b[0m\u001b[0;34m.\u001b[0m\u001b[0m_update_batch_value\u001b[0m\u001b[0;34m(\u001b[0m\u001b[0mpredicted\u001b[0m\u001b[0;34m,\u001b[0m \u001b[0mtarget\u001b[0m\u001b[0;34m,\u001b[0m \u001b[0;34m**\u001b[0m\u001b[0mkwargs\u001b[0m\u001b[0;34m)\u001b[0m\u001b[0;34m\u001b[0m\u001b[0;34m\u001b[0m\u001b[0m\n\u001b[1;32m    299\u001b[0m         \u001b[0mself\u001b[0m\u001b[0;34m.\u001b[0m\u001b[0m_sum\u001b[0m \u001b[0;34m+=\u001b[0m \u001b[0mavg_value\u001b[0m \u001b[0;34m*\u001b[0m \u001b[0mnum\u001b[0m\u001b[0;34m\u001b[0m\u001b[0;34m\u001b[0m\u001b[0m\n\u001b[0;32m--> 300\u001b[0;31m         \u001b[0mself\u001b[0m\u001b[0;34m.\u001b[0m\u001b[0m_num_examples\u001b[0m \u001b[0;34m+=\u001b[0m \u001b[0mnum\u001b[0m\u001b[0;34m\u001b[0m\u001b[0;34m\u001b[0m\u001b[0m\n\u001b[0m\u001b[1;32m    301\u001b[0m \u001b[0;34m\u001b[0m\u001b[0m\n\u001b[1;32m    302\u001b[0m     \u001b[0;34m@\u001b[0m\u001b[0mabstractmethod\u001b[0m\u001b[0;34m\u001b[0m\u001b[0;34m\u001b[0m\u001b[0m\n",
            "\u001b[0;31mKeyboardInterrupt\u001b[0m: "
          ]
        }
      ]
    },
    {
      "cell_type": "code",
      "source": [
        "neural_forecast = neuralprophet.predict(df_prophet_test)\n",
        "neural_forecast.tail()\n"
      ],
      "metadata": {
        "id": "u7cp1wbepTTT"
      },
      "execution_count": null,
      "outputs": []
    },
    {
      "cell_type": "code",
      "source": [
        "neuralprophet.plot(neural_forecast)\n"
      ],
      "metadata": {
        "id": "dpjkEbqjp2de"
      },
      "execution_count": null,
      "outputs": []
    },
    {
      "cell_type": "code",
      "source": [
        "evaluate_model(prophet, \"Prophet\", df_prophet_test, df_prophet_test.y)"
      ],
      "metadata": {
        "id": "WfpJ_WoYp6Zk"
      },
      "execution_count": null,
      "outputs": []
    },
    {
      "cell_type": "markdown",
      "source": [
        "#Unseen Data Test"
      ],
      "metadata": {
        "id": "rz2V4StMUlmw"
      }
    },
    {
      "cell_type": "code",
      "source": [
        "btc_new = pd.read_csv('https://raw.githubusercontent.com/stger040/Financial-Prediction/main/data/BTC-USD%20(1).csv')"
      ],
      "metadata": {
        "id": "Uixt-CyJqAMf"
      },
      "execution_count": 114,
      "outputs": []
    },
    {
      "cell_type": "code",
      "source": [
        "btc_new['Timestamp'] = pd.to_datetime(btc_new.Date)\n",
        "btc_new.set_index('Timestamp', inplace=True)\n",
        "btc_new.drop([\"Date\"], axis='columns', inplace=True)\n",
        "btc_new.head()"
      ],
      "metadata": {
        "colab": {
          "base_uri": "https://localhost:8080/",
          "height": 237
        },
        "id": "wg9eKQosUvj1",
        "outputId": "bc3d6e4d-2605-46ec-a6f0-f6deaa477311"
      },
      "execution_count": 117,
      "outputs": [
        {
          "output_type": "execute_result",
          "data": {
            "text/plain": [
              "                    Open          High           Low         Close  \\\n",
              "Timestamp                                                            \n",
              "2022-02-26  39213.082031  40005.347656  38702.535156  39105.148438   \n",
              "2022-02-27  39098.699219  39778.941406  37268.976563  37709.785156   \n",
              "2022-02-28  37706.000000  43760.457031  37518.214844  43193.234375   \n",
              "2022-03-01  43194.503906  44793.601563  42952.585938  44354.636719   \n",
              "2022-03-02  44357.617188  45077.578125  43432.851563  43924.117188   \n",
              "\n",
              "               Adj Close       Volume  \n",
              "Timestamp                              \n",
              "2022-02-26  39105.148438  17467554129  \n",
              "2022-02-27  37709.785156  23450127612  \n",
              "2022-02-28  43193.234375  35690014104  \n",
              "2022-03-01  44354.636719  32479047645  \n",
              "2022-03-02  43924.117188  29183112630  "
            ],
            "text/html": [
              "\n",
              "  <div id=\"df-7b9634ee-d3b6-40d4-b7ba-acf1ff4745c2\">\n",
              "    <div class=\"colab-df-container\">\n",
              "      <div>\n",
              "<style scoped>\n",
              "    .dataframe tbody tr th:only-of-type {\n",
              "        vertical-align: middle;\n",
              "    }\n",
              "\n",
              "    .dataframe tbody tr th {\n",
              "        vertical-align: top;\n",
              "    }\n",
              "\n",
              "    .dataframe thead th {\n",
              "        text-align: right;\n",
              "    }\n",
              "</style>\n",
              "<table border=\"1\" class=\"dataframe\">\n",
              "  <thead>\n",
              "    <tr style=\"text-align: right;\">\n",
              "      <th></th>\n",
              "      <th>Open</th>\n",
              "      <th>High</th>\n",
              "      <th>Low</th>\n",
              "      <th>Close</th>\n",
              "      <th>Adj Close</th>\n",
              "      <th>Volume</th>\n",
              "    </tr>\n",
              "    <tr>\n",
              "      <th>Timestamp</th>\n",
              "      <th></th>\n",
              "      <th></th>\n",
              "      <th></th>\n",
              "      <th></th>\n",
              "      <th></th>\n",
              "      <th></th>\n",
              "    </tr>\n",
              "  </thead>\n",
              "  <tbody>\n",
              "    <tr>\n",
              "      <th>2022-02-26</th>\n",
              "      <td>39213.082031</td>\n",
              "      <td>40005.347656</td>\n",
              "      <td>38702.535156</td>\n",
              "      <td>39105.148438</td>\n",
              "      <td>39105.148438</td>\n",
              "      <td>17467554129</td>\n",
              "    </tr>\n",
              "    <tr>\n",
              "      <th>2022-02-27</th>\n",
              "      <td>39098.699219</td>\n",
              "      <td>39778.941406</td>\n",
              "      <td>37268.976563</td>\n",
              "      <td>37709.785156</td>\n",
              "      <td>37709.785156</td>\n",
              "      <td>23450127612</td>\n",
              "    </tr>\n",
              "    <tr>\n",
              "      <th>2022-02-28</th>\n",
              "      <td>37706.000000</td>\n",
              "      <td>43760.457031</td>\n",
              "      <td>37518.214844</td>\n",
              "      <td>43193.234375</td>\n",
              "      <td>43193.234375</td>\n",
              "      <td>35690014104</td>\n",
              "    </tr>\n",
              "    <tr>\n",
              "      <th>2022-03-01</th>\n",
              "      <td>43194.503906</td>\n",
              "      <td>44793.601563</td>\n",
              "      <td>42952.585938</td>\n",
              "      <td>44354.636719</td>\n",
              "      <td>44354.636719</td>\n",
              "      <td>32479047645</td>\n",
              "    </tr>\n",
              "    <tr>\n",
              "      <th>2022-03-02</th>\n",
              "      <td>44357.617188</td>\n",
              "      <td>45077.578125</td>\n",
              "      <td>43432.851563</td>\n",
              "      <td>43924.117188</td>\n",
              "      <td>43924.117188</td>\n",
              "      <td>29183112630</td>\n",
              "    </tr>\n",
              "  </tbody>\n",
              "</table>\n",
              "</div>\n",
              "      <button class=\"colab-df-convert\" onclick=\"convertToInteractive('df-7b9634ee-d3b6-40d4-b7ba-acf1ff4745c2')\"\n",
              "              title=\"Convert this dataframe to an interactive table.\"\n",
              "              style=\"display:none;\">\n",
              "        \n",
              "  <svg xmlns=\"http://www.w3.org/2000/svg\" height=\"24px\"viewBox=\"0 0 24 24\"\n",
              "       width=\"24px\">\n",
              "    <path d=\"M0 0h24v24H0V0z\" fill=\"none\"/>\n",
              "    <path d=\"M18.56 5.44l.94 2.06.94-2.06 2.06-.94-2.06-.94-.94-2.06-.94 2.06-2.06.94zm-11 1L8.5 8.5l.94-2.06 2.06-.94-2.06-.94L8.5 2.5l-.94 2.06-2.06.94zm10 10l.94 2.06.94-2.06 2.06-.94-2.06-.94-.94-2.06-.94 2.06-2.06.94z\"/><path d=\"M17.41 7.96l-1.37-1.37c-.4-.4-.92-.59-1.43-.59-.52 0-1.04.2-1.43.59L10.3 9.45l-7.72 7.72c-.78.78-.78 2.05 0 2.83L4 21.41c.39.39.9.59 1.41.59.51 0 1.02-.2 1.41-.59l7.78-7.78 2.81-2.81c.8-.78.8-2.07 0-2.86zM5.41 20L4 18.59l7.72-7.72 1.47 1.35L5.41 20z\"/>\n",
              "  </svg>\n",
              "      </button>\n",
              "      \n",
              "  <style>\n",
              "    .colab-df-container {\n",
              "      display:flex;\n",
              "      flex-wrap:wrap;\n",
              "      gap: 12px;\n",
              "    }\n",
              "\n",
              "    .colab-df-convert {\n",
              "      background-color: #E8F0FE;\n",
              "      border: none;\n",
              "      border-radius: 50%;\n",
              "      cursor: pointer;\n",
              "      display: none;\n",
              "      fill: #1967D2;\n",
              "      height: 32px;\n",
              "      padding: 0 0 0 0;\n",
              "      width: 32px;\n",
              "    }\n",
              "\n",
              "    .colab-df-convert:hover {\n",
              "      background-color: #E2EBFA;\n",
              "      box-shadow: 0px 1px 2px rgba(60, 64, 67, 0.3), 0px 1px 3px 1px rgba(60, 64, 67, 0.15);\n",
              "      fill: #174EA6;\n",
              "    }\n",
              "\n",
              "    [theme=dark] .colab-df-convert {\n",
              "      background-color: #3B4455;\n",
              "      fill: #D2E3FC;\n",
              "    }\n",
              "\n",
              "    [theme=dark] .colab-df-convert:hover {\n",
              "      background-color: #434B5C;\n",
              "      box-shadow: 0px 1px 3px 1px rgba(0, 0, 0, 0.15);\n",
              "      filter: drop-shadow(0px 1px 2px rgba(0, 0, 0, 0.3));\n",
              "      fill: #FFFFFF;\n",
              "    }\n",
              "  </style>\n",
              "\n",
              "      <script>\n",
              "        const buttonEl =\n",
              "          document.querySelector('#df-7b9634ee-d3b6-40d4-b7ba-acf1ff4745c2 button.colab-df-convert');\n",
              "        buttonEl.style.display =\n",
              "          google.colab.kernel.accessAllowed ? 'block' : 'none';\n",
              "\n",
              "        async function convertToInteractive(key) {\n",
              "          const element = document.querySelector('#df-7b9634ee-d3b6-40d4-b7ba-acf1ff4745c2');\n",
              "          const dataTable =\n",
              "            await google.colab.kernel.invokeFunction('convertToInteractive',\n",
              "                                                     [key], {});\n",
              "          if (!dataTable) return;\n",
              "\n",
              "          const docLinkHtml = 'Like what you see? Visit the ' +\n",
              "            '<a target=\"_blank\" href=https://colab.research.google.com/notebooks/data_table.ipynb>data table notebook</a>'\n",
              "            + ' to learn more about interactive tables.';\n",
              "          element.innerHTML = '';\n",
              "          dataTable['output_type'] = 'display_data';\n",
              "          await google.colab.output.renderOutput(dataTable, element);\n",
              "          const docLink = document.createElement('div');\n",
              "          docLink.innerHTML = docLinkHtml;\n",
              "          element.appendChild(docLink);\n",
              "        }\n",
              "      </script>\n",
              "    </div>\n",
              "  </div>\n",
              "  "
            ]
          },
          "metadata": {},
          "execution_count": 117
        }
      ]
    },
    {
      "cell_type": "code",
      "source": [
        "btc_new['Open_log'] = np.log1p(btc_new.Open)\n",
        "btc_new['Open_log_'] = np.log1p(btc_new.Open)\n",
        "btc_new.tail()"
      ],
      "metadata": {
        "colab": {
          "base_uri": "https://localhost:8080/",
          "height": 237
        },
        "id": "6hpBF-GyUxIG",
        "outputId": "0f01a0a8-07d1-4c40-d32b-3b8ede4fd021"
      },
      "execution_count": 118,
      "outputs": [
        {
          "output_type": "execute_result",
          "data": {
            "text/plain": [
              "                    Open          High           Low         Close  \\\n",
              "Timestamp                                                            \n",
              "2022-08-23  21401.044922  21646.203125  20955.138672  21528.087891   \n",
              "2022-08-24  21526.455078  21783.076172  21195.005859  21395.019531   \n",
              "2022-08-25  21395.458984  21789.636719  21362.441406  21600.904297   \n",
              "2022-08-26  21596.085938  21804.908203  20199.482422  20260.019531   \n",
              "2022-08-27  20236.427734  20334.722656  20192.054688  20227.015625   \n",
              "\n",
              "               Adj Close       Volume  Open_log  Open_log_  \n",
              "Timestamp                                                   \n",
              "2022-08-23  21528.087891  31878280659  9.971242   9.971242  \n",
              "2022-08-24  21395.019531  31962253368  9.977084   9.977084  \n",
              "2022-08-25  21600.904297  31028679593  9.970981   9.970981  \n",
              "2022-08-26  20260.019531  42326789564  9.980314   9.980314  \n",
              "2022-08-27  20227.015625  43315871744  9.915289   9.915289  "
            ],
            "text/html": [
              "\n",
              "  <div id=\"df-0ce053e0-9580-4234-8640-b8f839a4318a\">\n",
              "    <div class=\"colab-df-container\">\n",
              "      <div>\n",
              "<style scoped>\n",
              "    .dataframe tbody tr th:only-of-type {\n",
              "        vertical-align: middle;\n",
              "    }\n",
              "\n",
              "    .dataframe tbody tr th {\n",
              "        vertical-align: top;\n",
              "    }\n",
              "\n",
              "    .dataframe thead th {\n",
              "        text-align: right;\n",
              "    }\n",
              "</style>\n",
              "<table border=\"1\" class=\"dataframe\">\n",
              "  <thead>\n",
              "    <tr style=\"text-align: right;\">\n",
              "      <th></th>\n",
              "      <th>Open</th>\n",
              "      <th>High</th>\n",
              "      <th>Low</th>\n",
              "      <th>Close</th>\n",
              "      <th>Adj Close</th>\n",
              "      <th>Volume</th>\n",
              "      <th>Open_log</th>\n",
              "      <th>Open_log_</th>\n",
              "    </tr>\n",
              "    <tr>\n",
              "      <th>Timestamp</th>\n",
              "      <th></th>\n",
              "      <th></th>\n",
              "      <th></th>\n",
              "      <th></th>\n",
              "      <th></th>\n",
              "      <th></th>\n",
              "      <th></th>\n",
              "      <th></th>\n",
              "    </tr>\n",
              "  </thead>\n",
              "  <tbody>\n",
              "    <tr>\n",
              "      <th>2022-08-23</th>\n",
              "      <td>21401.044922</td>\n",
              "      <td>21646.203125</td>\n",
              "      <td>20955.138672</td>\n",
              "      <td>21528.087891</td>\n",
              "      <td>21528.087891</td>\n",
              "      <td>31878280659</td>\n",
              "      <td>9.971242</td>\n",
              "      <td>9.971242</td>\n",
              "    </tr>\n",
              "    <tr>\n",
              "      <th>2022-08-24</th>\n",
              "      <td>21526.455078</td>\n",
              "      <td>21783.076172</td>\n",
              "      <td>21195.005859</td>\n",
              "      <td>21395.019531</td>\n",
              "      <td>21395.019531</td>\n",
              "      <td>31962253368</td>\n",
              "      <td>9.977084</td>\n",
              "      <td>9.977084</td>\n",
              "    </tr>\n",
              "    <tr>\n",
              "      <th>2022-08-25</th>\n",
              "      <td>21395.458984</td>\n",
              "      <td>21789.636719</td>\n",
              "      <td>21362.441406</td>\n",
              "      <td>21600.904297</td>\n",
              "      <td>21600.904297</td>\n",
              "      <td>31028679593</td>\n",
              "      <td>9.970981</td>\n",
              "      <td>9.970981</td>\n",
              "    </tr>\n",
              "    <tr>\n",
              "      <th>2022-08-26</th>\n",
              "      <td>21596.085938</td>\n",
              "      <td>21804.908203</td>\n",
              "      <td>20199.482422</td>\n",
              "      <td>20260.019531</td>\n",
              "      <td>20260.019531</td>\n",
              "      <td>42326789564</td>\n",
              "      <td>9.980314</td>\n",
              "      <td>9.980314</td>\n",
              "    </tr>\n",
              "    <tr>\n",
              "      <th>2022-08-27</th>\n",
              "      <td>20236.427734</td>\n",
              "      <td>20334.722656</td>\n",
              "      <td>20192.054688</td>\n",
              "      <td>20227.015625</td>\n",
              "      <td>20227.015625</td>\n",
              "      <td>43315871744</td>\n",
              "      <td>9.915289</td>\n",
              "      <td>9.915289</td>\n",
              "    </tr>\n",
              "  </tbody>\n",
              "</table>\n",
              "</div>\n",
              "      <button class=\"colab-df-convert\" onclick=\"convertToInteractive('df-0ce053e0-9580-4234-8640-b8f839a4318a')\"\n",
              "              title=\"Convert this dataframe to an interactive table.\"\n",
              "              style=\"display:none;\">\n",
              "        \n",
              "  <svg xmlns=\"http://www.w3.org/2000/svg\" height=\"24px\"viewBox=\"0 0 24 24\"\n",
              "       width=\"24px\">\n",
              "    <path d=\"M0 0h24v24H0V0z\" fill=\"none\"/>\n",
              "    <path d=\"M18.56 5.44l.94 2.06.94-2.06 2.06-.94-2.06-.94-.94-2.06-.94 2.06-2.06.94zm-11 1L8.5 8.5l.94-2.06 2.06-.94-2.06-.94L8.5 2.5l-.94 2.06-2.06.94zm10 10l.94 2.06.94-2.06 2.06-.94-2.06-.94-.94-2.06-.94 2.06-2.06.94z\"/><path d=\"M17.41 7.96l-1.37-1.37c-.4-.4-.92-.59-1.43-.59-.52 0-1.04.2-1.43.59L10.3 9.45l-7.72 7.72c-.78.78-.78 2.05 0 2.83L4 21.41c.39.39.9.59 1.41.59.51 0 1.02-.2 1.41-.59l7.78-7.78 2.81-2.81c.8-.78.8-2.07 0-2.86zM5.41 20L4 18.59l7.72-7.72 1.47 1.35L5.41 20z\"/>\n",
              "  </svg>\n",
              "      </button>\n",
              "      \n",
              "  <style>\n",
              "    .colab-df-container {\n",
              "      display:flex;\n",
              "      flex-wrap:wrap;\n",
              "      gap: 12px;\n",
              "    }\n",
              "\n",
              "    .colab-df-convert {\n",
              "      background-color: #E8F0FE;\n",
              "      border: none;\n",
              "      border-radius: 50%;\n",
              "      cursor: pointer;\n",
              "      display: none;\n",
              "      fill: #1967D2;\n",
              "      height: 32px;\n",
              "      padding: 0 0 0 0;\n",
              "      width: 32px;\n",
              "    }\n",
              "\n",
              "    .colab-df-convert:hover {\n",
              "      background-color: #E2EBFA;\n",
              "      box-shadow: 0px 1px 2px rgba(60, 64, 67, 0.3), 0px 1px 3px 1px rgba(60, 64, 67, 0.15);\n",
              "      fill: #174EA6;\n",
              "    }\n",
              "\n",
              "    [theme=dark] .colab-df-convert {\n",
              "      background-color: #3B4455;\n",
              "      fill: #D2E3FC;\n",
              "    }\n",
              "\n",
              "    [theme=dark] .colab-df-convert:hover {\n",
              "      background-color: #434B5C;\n",
              "      box-shadow: 0px 1px 3px 1px rgba(0, 0, 0, 0.15);\n",
              "      filter: drop-shadow(0px 1px 2px rgba(0, 0, 0, 0.3));\n",
              "      fill: #FFFFFF;\n",
              "    }\n",
              "  </style>\n",
              "\n",
              "      <script>\n",
              "        const buttonEl =\n",
              "          document.querySelector('#df-0ce053e0-9580-4234-8640-b8f839a4318a button.colab-df-convert');\n",
              "        buttonEl.style.display =\n",
              "          google.colab.kernel.accessAllowed ? 'block' : 'none';\n",
              "\n",
              "        async function convertToInteractive(key) {\n",
              "          const element = document.querySelector('#df-0ce053e0-9580-4234-8640-b8f839a4318a');\n",
              "          const dataTable =\n",
              "            await google.colab.kernel.invokeFunction('convertToInteractive',\n",
              "                                                     [key], {});\n",
              "          if (!dataTable) return;\n",
              "\n",
              "          const docLinkHtml = 'Like what you see? Visit the ' +\n",
              "            '<a target=\"_blank\" href=https://colab.research.google.com/notebooks/data_table.ipynb>data table notebook</a>'\n",
              "            + ' to learn more about interactive tables.';\n",
              "          element.innerHTML = '';\n",
              "          dataTable['output_type'] = 'display_data';\n",
              "          await google.colab.output.renderOutput(dataTable, element);\n",
              "          const docLink = document.createElement('div');\n",
              "          docLink.innerHTML = docLinkHtml;\n",
              "          element.appendChild(docLink);\n",
              "        }\n",
              "      </script>\n",
              "    </div>\n",
              "  </div>\n",
              "  "
            ]
          },
          "metadata": {},
          "execution_count": 118
        }
      ]
    },
    {
      "cell_type": "code",
      "source": [
        "dataset_test_2 = scaler.transform(btc_new)"
      ],
      "metadata": {
        "colab": {
          "base_uri": "https://localhost:8080/"
        },
        "id": "yWq00KQnWHpw",
        "outputId": "fd22acfd-90bf-40a8-d171-66b1decea7f7"
      },
      "execution_count": 120,
      "outputs": [
        {
          "output_type": "stream",
          "name": "stderr",
          "text": [
            "WARNING - (py.warnings._showwarnmsg) - /usr/local/lib/python3.7/dist-packages/sklearn/base.py:493: FutureWarning: The feature names should match those that were passed during fit. Starting version 1.2, an error will be raised.\n",
            "Feature names unseen at fit time:\n",
            "- Adj Close\n",
            "- Open_log\n",
            "- Open_log_\n",
            "- Volume\n",
            "Feature names seen at fit time, yet now missing:\n",
            "- Volume_(BTC)\n",
            "- Volume_(Currency)\n",
            "- Weighted_Price\n",
            "- Weighted_Price_log\n",
            "\n",
            "  warnings.warn(message, FutureWarning)\n",
            "\n",
            "WARNING:py.warnings:/usr/local/lib/python3.7/dist-packages/sklearn/base.py:493: FutureWarning: The feature names should match those that were passed during fit. Starting version 1.2, an error will be raised.\n",
            "Feature names unseen at fit time:\n",
            "- Adj Close\n",
            "- Open_log\n",
            "- Open_log_\n",
            "- Volume\n",
            "Feature names seen at fit time, yet now missing:\n",
            "- Volume_(BTC)\n",
            "- Volume_(Currency)\n",
            "- Weighted_Price\n",
            "- Weighted_Price_log\n",
            "\n",
            "  warnings.warn(message, FutureWarning)\n",
            "\n"
          ]
        }
      ]
    },
    {
      "cell_type": "code",
      "source": [
        "X_test_2, y_test_2 = create_dataset(dataset_test_2,50,0)"
      ],
      "metadata": {
        "id": "yY8IF5vyWbNF"
      },
      "execution_count": 121,
      "outputs": []
    },
    {
      "cell_type": "code",
      "source": [
        "evaluate_model(LSTM_Model, \"LSTM New Data\", X_test_2, y_test_2)"
      ],
      "metadata": {
        "colab": {
          "base_uri": "https://localhost:8080/",
          "height": 645
        },
        "id": "iuhAQigIWi2F",
        "outputId": "0642d40b-2095-45ba-e594-ce86972f7a6d"
      },
      "execution_count": 122,
      "outputs": [
        {
          "output_type": "stream",
          "name": "stdout",
          "text": [
            "R Squared :  0.52734\n",
            "Mean Absolute Error:  0.17819\n"
          ]
        },
        {
          "output_type": "display_data",
          "data": {
            "text/plain": [
              "<Figure size 1440x720 with 1 Axes>"
            ],
            "image/png": "[encoded data removed]"
          },
          "metadata": {
            "needs_background": "light"
          }
        },
        {
          "output_type": "execute_result",
          "data": {
            "text/plain": [
              "(0.5273426383067706, 0.17819132125178166)"
            ]
          },
          "metadata": {},
          "execution_count": 122
        }
      ]
    },
    {
      "cell_type": "code",
      "source": [],
      "metadata": {
        "id": "0i3tPX44Wrg2"
      },
      "execution_count": null,
      "outputs": []
    }
  ]
}